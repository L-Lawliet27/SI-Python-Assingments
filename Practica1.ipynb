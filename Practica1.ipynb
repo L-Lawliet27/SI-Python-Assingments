{
 "cells": [
  {
   "cell_type": "markdown",
   "metadata": {},
   "source": [
    "# Práctica 1. Resolución de problemas con búsqueda \n",
    "## Sistemas Inteligentes 2021/2022"
   ]
  },
  {
   "cell_type": "markdown",
   "metadata": {},
   "source": [
    "La práctica está organizada en 4 partes:\n",
    "* Parte I: se muestra a través de ejemplos resueltos cómo se representan algunos problemas clásicos como el de las jarras, el problema de los misioneros o el problema del ocho puzzle. \n",
    "* Parte II: se muestra el uso de los algoritmos de búsqueda exhaustiva (ciega y heurística) vistos en clase. \n",
    "* Parte III: aprenderemos a medir las propiedades de los algoritmos.\n",
    "* Parte IV: se os dan 2 problemas algo más complejos para resolver al menos 1.\n",
    "\n",
    "En el notebook encontraras claramente identificados los lugares en los que debes incluir código o comentarios.  \n",
    "Cuando termines los ejercicios entrega **este archivo en el campus**.  \n",
    "Debes incluir al comienzo una celda de markdown con el nombre completo de los miembros del grupo y número de grupo.\n",
    "\n",
    "Los comentarios razonados de los ejercicios son la parte más importante de esta práctica. \n",
    "\n"
   ]
  },
  {
   "cell_type": "markdown",
   "metadata": {},
   "source": [
    "## Parte I: Representación de problemas de espacios de estados."
   ]
  },
  {
   "cell_type": "markdown",
   "metadata": {},
   "source": [
    "Como hemos visto en clase la representación de un problema de espacio de estados consiste en:\n",
    "* Representar estados y acciones mediante una estructura de datos.\n",
    "* Definir: estado_inicial, es_estado_final(_), acciones(_), aplica(_,_) y\n",
    "  coste_de_aplicar_accion, si el problema tiene coste.\n",
    "\n",
    " La siguiente clase Problem representa este esquema general de cualquier\n",
    " problema de espacio de estados. Un problema concreto será una subclase de\n",
    " Problema, y requerirá implementar acciones, aplica y eventualmente __init__, actions,\n",
    " goal_test. La función coste_de_aplicar_accion la hemos incluido nosotros\n",
    " \n",
    "El primer paso es importar el código que necesitamos de search.py de AIMA y usar la clase Problem. "
   ]
  },
  {
   "cell_type": "code",
   "execution_count": 2,
   "metadata": {},
   "outputs": [],
   "source": [
    "from search import Problem"
   ]
  },
  {
   "cell_type": "code",
   "execution_count": 1,
   "metadata": {},
   "outputs": [],
   "source": [
    "# Para que funcione el import el archivo search.py tiene que estar en la mimsa carpeta que este notebook.\n",
    "# Se puede copiar el archivo search.py a la mimsa carpeta que este notebook.\n",
    "# Otra opcion para poner un prefijo a la ruta antes de importar es:\n",
    "import sys\n",
    "sys.path.append('aima/')\n",
    "import search"
   ]
  },
  {
   "cell_type": "code",
   "execution_count": 3,
   "metadata": {},
   "outputs": [],
   "source": [
    "## Copiamos aquí la definición de la clase Problem para facilitar la explicación.\n",
    "\n",
    "class Problem(object):\n",
    "\n",
    "    \"\"\"The abstract class for a formal problem. You should subclass\n",
    "    this and implement the methods actions and result, and possibly\n",
    "    __init__, goal_test, and path_cost. Then you will create instances\n",
    "    of your subclass and solve them with the various search functions.\"\"\"\n",
    "\n",
    "    def __init__(self, initial, goal=None):\n",
    "        \"\"\"The constructor specifies the initial state, and possibly a goal\n",
    "        state, if there is a unique goal. Your subclass's constructor can add\n",
    "        other arguments.\"\"\"\n",
    "        self.initial = initial\n",
    "        self.goal = goal\n",
    "\n",
    "    def actions(self, state):\n",
    "        \"\"\"Return the actions that can be executed in the given\n",
    "        state. The result would typically be a list, but if there are\n",
    "        many actions, consider yielding them one at a time in an\n",
    "        iterator, rather than building them all at once.\"\"\"\n",
    "        raise NotImplementedError\n",
    "\n",
    "    def result(self, state, action):\n",
    "        \"\"\"Return the state that results from executing the given\n",
    "        action in the given state. The action must be one of\n",
    "        self.actions(state).\"\"\"\n",
    "        raise NotImplementedError\n",
    "\n",
    "    def goal_test(self, state):\n",
    "        \"\"\"Return True if the state is a goal. The default method compares the\n",
    "        state to self.goal or checks for state in self.goal if it is a\n",
    "        list, as specified in the constructor. Override this method if\n",
    "        checking against a single self.goal is not enough.\"\"\"\n",
    "        if isinstance(self.goal, list):\n",
    "            return is_in(state, self.goal)\n",
    "        else:\n",
    "            return state == self.goal\n",
    "\n",
    "    def path_cost(self, c, state1, action, state2):\n",
    "        \"\"\"Return the cost of a solution path that arrives at state2 from\n",
    "        state1 via action, assuming cost c to get up to state1. If the problem\n",
    "        is such that the path doesn't matter, this function will only look at\n",
    "        state2.  If the path does matter, it will consider c and maybe state1\n",
    "        and action. The default method costs 1 for every step in the path.\"\"\"\n",
    "        return c + 1\n",
    "\n",
    "    def value(self, state):\n",
    "        \"\"\"For optimization problems, each state has a value.  Hill-climbing\n",
    "        and related algorithms try to maximize this value.\"\"\"\n",
    "        raise NotImplementedError\n",
    "\n",
    "    def coste_de_aplicar_accion(self, estado, accion):\n",
    "        \"\"\"Hemos incluido está función que devuelve el coste de un único operador (aplicar accion a estado). Por defecto, este\n",
    "        coste es 1. Reimplementar si el problema define otro coste \"\"\" \n",
    "        return 1"
   ]
  },
  {
   "cell_type": "markdown",
   "metadata": {},
   "source": [
    "Ahora vamos a ver un ejemplo de cómo definir un problema como subclase\n",
    "de problema. En concreto, el problema de las jarras, visto en clase que es muy sencillo. "
   ]
  },
  {
   "cell_type": "code",
   "execution_count": 4,
   "metadata": {},
   "outputs": [],
   "source": [
    "class Jarras(Problem):\n",
    "    \"\"\"Problema de las jarras:\n",
    "    Representaremos los estados como tuplas (x,y) de dos números enteros,\n",
    "    donde x es el número de litros de la jarra de 4 e y es el número de litros\n",
    "    de la jarra de 3\"\"\"\n",
    "\n",
    "    def __init__(self):\n",
    "        self.initial = (0,0)\n",
    "\n",
    "    def actions(self,estado):\n",
    "        jarra_de_4=estado[0]\n",
    "        jarra_de_3=estado[1]\n",
    "        accs=list()\n",
    "        if jarra_de_4 > 0:\n",
    "            accs.append(\"vaciar jarra de 4\")\n",
    "            if jarra_de_3 < 3:\n",
    "                accs.append(\"trasvasar de jarra de 4 a jarra de 3\")\n",
    "        if jarra_de_4 < 4:\n",
    "            accs.append(\"llenar jarra de 4\")\n",
    "            if jarra_de_3 > 0:\n",
    "                accs.append(\"trasvasar de jarra de 3 a jarra de 4\")\n",
    "        if jarra_de_3 > 0:\n",
    "            accs.append(\"vaciar jarra de 3\")\n",
    "        if jarra_de_3 < 3:\n",
    "            accs.append(\"llenar jarra de 3\")\n",
    "        return accs\n",
    "\n",
    "    def result(self,estado,accion):\n",
    "        j4=estado[0]\n",
    "        j3=estado[1]\n",
    "        if accion==\"llenar jarra de 4\":\n",
    "            return (4,j3)\n",
    "        elif accion==\"llenar jarra de 3\":\n",
    "            return (j4,3)\n",
    "        elif accion==\"vaciar jarra de 4\":\n",
    "            return (0,j3)\n",
    "        elif accion==\"vaciar jarra de 3\":\n",
    "            return (j4,0)\n",
    "        elif accion==\"trasvasar de jarra de 4 a jarra de 3\":\n",
    "            return (j4-3+j3,3) if j3+j4 >= 3 else (0,j3+j4)\n",
    "        else: #  \"trasvasar de jarra de 3 a jarra de 4\"\n",
    "            return (j3+j4,0) if j3+j4 <= 4 else (4,j3-4+j4)\n",
    "\n",
    "    def goal_test(self,estado):\n",
    "        return estado[0]==2\n"
   ]
  },
  {
   "cell_type": "markdown",
   "metadata": {},
   "source": [
    "Vamos a probar algunos ejemplos."
   ]
  },
  {
   "cell_type": "code",
   "execution_count": 7,
   "metadata": {},
   "outputs": [
    {
     "data": {
      "text/plain": [
       "(0, 0)"
      ]
     },
     "execution_count": 7,
     "metadata": {},
     "output_type": "execute_result"
    }
   ],
   "source": [
    "p =Jarras()\n",
    "p.initial"
   ]
  },
  {
   "cell_type": "code",
   "execution_count": 8,
   "metadata": {},
   "outputs": [
    {
     "data": {
      "text/plain": [
       "['llenar jarra de 4', 'llenar jarra de 3']"
      ]
     },
     "execution_count": 8,
     "metadata": {},
     "output_type": "execute_result"
    }
   ],
   "source": [
    "p.actions(p.initial)"
   ]
  },
  {
   "cell_type": "code",
   "execution_count": 9,
   "metadata": {},
   "outputs": [
    {
     "data": {
      "text/plain": [
       "(4, 0)"
      ]
     },
     "execution_count": 9,
     "metadata": {},
     "output_type": "execute_result"
    }
   ],
   "source": [
    "p.result(p.initial,\"llenar jarra de 4\")"
   ]
  },
  {
   "cell_type": "code",
   "execution_count": 10,
   "metadata": {},
   "outputs": [
    {
     "data": {
      "text/plain": [
       "1"
      ]
     },
     "execution_count": 10,
     "metadata": {},
     "output_type": "execute_result"
    }
   ],
   "source": [
    "p.coste_de_aplicar_accion(p.initial,\"llenar jarra de 4\")"
   ]
  },
  {
   "cell_type": "code",
   "execution_count": 11,
   "metadata": {},
   "outputs": [
    {
     "data": {
      "text/plain": [
       "False"
      ]
     },
     "execution_count": 11,
     "metadata": {},
     "output_type": "execute_result"
    }
   ],
   "source": [
    "p.goal_test(p.initial)"
   ]
  },
  {
   "cell_type": "markdown",
   "metadata": {},
   "source": [
    "### Problema de los misioneros"
   ]
  },
  {
   "cell_type": "code",
   "execution_count": 5,
   "metadata": {},
   "outputs": [],
   "source": [
    "# Creamos la clase ProblemaMisioneros con los elementos que representarán el problema. \n",
    "class ProblemaMisioneros(Problem):\n",
    "    ''' Clase problema (formalizacion de nuestro problema) siguiendo la\n",
    "        estructura que aima espera que tengan los problemas.'''\n",
    "    def __init__(self, initial, goal=None):\n",
    "        '''Inicializacion de nuestro problema.'''\n",
    "        Problem.__init__(self, initial, goal)\n",
    "        # cada accion tiene un texto para identificar al operador y despues una tupla de dos elementos con la\n",
    "        # cantidad de misioneros y canibales que se mueven en la canoa\n",
    "        self._actions = [('1c', (0, 1)), ('1m', (1, 0)), ('2c', (0, 2)), ('2m', (2, 0)), ('1m1c', (1, 1))]\n",
    "\n",
    "    def actions(self, s):\n",
    "        '''Devuelve las acciones validas para un estado.'''\n",
    "        # las acciones validas para un estado son aquellas que al aplicarse\n",
    "        # nos dejan en otro estado valido\n",
    "        return [a for a in self._actions if self._is_valid(self.result(s, a))]\n",
    "\n",
    "    def _is_valid(self, s):\n",
    "        '''Determina si un estado es valido o no.'''\n",
    "        # un estado es valido si no hay mas canibales que misioneros en ninguna\n",
    "        # orilla, y si las cantidades estan entre 0 y 3\n",
    "        return (s[0] >= s[1] or s[0] == 0) and ((3 - s[0]) >= (3 - s[1]) or s[0] == 3) and (0 <= s[0] <= 3) and (0 <= s[1] <= 3)\n",
    "\n",
    "    def result(self, s, a):\n",
    "        '''Devuelve el estado resultante de aplicar una accion a un estado\n",
    "           determinado.'''\n",
    "        # el estado resultante tiene la canoa en el lado opuesto, y con las\n",
    "        # cantidades de misioneros y canibales actualizadas segun la cantidad\n",
    "        # que viajaron en la canoa\n",
    "        if s[2] == 0:\n",
    "            return (s[0] - a[1][0], s[1] - a[1][1], 1)\n",
    "        else:\n",
    "            return (s[0] + a[1][0], s[1] + a[1][1], 0)\n",
    "\n"
   ]
  },
  {
   "cell_type": "code",
   "execution_count": 6,
   "metadata": {},
   "outputs": [],
   "source": [
    "# creamos un problema a partir de nuestra formalizacion de ProblemaMisioneros\n",
    "# como parametros le pasamos el estado inicial, y el estado objetivo que esperamos\n",
    "misioneros = ProblemaMisioneros((3, 3, 0), (0, 0, 1))\n",
    "\n",
    "# Asegurate de que entiendes la formalización del problema y haz algunas pruebas con la representación del problema de los misioneros. \n",
    "# En la siguiente parte vamos a usar las implementaciones de los algoritmos de búsqueda de AIMA para \n",
    "# resolver los problemas que hemos representado. Por ejemplo, para resolver el problema de los misioneros con \n",
    "# el método de busqueda en anchura la llamada sería:  breadth_first_tree_search(estado).solution()"
   ]
  },
  {
   "cell_type": "code",
   "execution_count": 7,
   "metadata": {},
   "outputs": [
    {
     "data": {
      "text/plain": [
       "(3, 3, 0)"
      ]
     },
     "execution_count": 7,
     "metadata": {},
     "output_type": "execute_result"
    }
   ],
   "source": [
    "misioneros.initial"
   ]
  },
  {
   "cell_type": "code",
   "execution_count": 15,
   "metadata": {},
   "outputs": [
    {
     "data": {
      "text/plain": [
       "[('1c', (0, 1)), ('2c', (0, 2)), ('1m1c', (1, 1))]"
      ]
     },
     "execution_count": 15,
     "metadata": {},
     "output_type": "execute_result"
    }
   ],
   "source": [
    "misioneros.actions(misioneros.initial)"
   ]
  },
  {
   "cell_type": "markdown",
   "metadata": {},
   "source": [
    "### Representación del problema del puzzle de 8"
   ]
  },
  {
   "cell_type": "markdown",
   "metadata": {},
   "source": [
    "Vamos a definir la clase Ocho_Puzzle, que implementa la representación del problema del 8-puzzle visto en clase. \n",
    "Se os proporciona una versión incompleta y tendréis que completar el código que se presenta a continuación, en los lugares marcados con interrogantes."
   ]
  },
  {
   "cell_type": "markdown",
   "metadata": {},
   "source": [
    "### 8 Puzzle \n",
    "\n",
    "Tablero 3x3 cuyo objetivo es mover la configuración de las piezas desde un estado inicial dado a un estado objetivo moviendo las fichas al espacio en blanco. \n",
    "\n",
    "ejemplo:- \n",
    "\n",
    "                  Inicial                             Goal \n",
    "              | 7 | 2 | 4 |                       | 1 | 2 | 3 |\n",
    "              | 5 | 0 | 6 |                       | 4 | 5 | 6 |\n",
    "              | 8 | 3 | 1 |                       | 7 | 8 | 0 |\n",
    "              \n",
    "Hay 9! configuraciones iniciales pero ojo! porque no todas tienen solución. **Tenlo en cuenta al hacer las pruebas**. "
   ]
  },
  {
   "cell_type": "markdown",
   "metadata": {},
   "source": [
    "### EJERCICIO 1. Completa la definición de los operadores en el problema del Puzle de 8. "
   ]
  },
  {
   "cell_type": "code",
   "execution_count": 7,
   "metadata": {},
   "outputs": [],
   "source": [
    "class Ocho_Puzzle(Problem):\n",
    "    \"\"\"Problema a del 8-puzzle.  Los estados serán tuplas de nueve elementos,\n",
    "    permutaciones de los números del 0 al 8 (el 0 es el hueco). Representan la\n",
    "    disposición de las fichas en el tablero, leídas por filas de arriba a\n",
    "    abajo, y dentro de cada fila, de izquierda a derecha. Las cuatro\n",
    "    acciones del problema las representaremos mediante las cadenas:\n",
    "    \"Mover hueco arriba\", \"Mover hueco abajo\", \"Mover hueco izquierda\" y\n",
    "    \"Mover hueco derecha\", respectivamente.\"\"\"\"\"\n",
    "\n",
    "    def __init__(self, initial, goal=(1, 2, 3, 4, 5, 6, 7, 8, 0)):\n",
    "        \"\"\" Define goal state and initialize a problem \"\"\"\n",
    "        self.goal = goal\n",
    "        Problem.__init__(self, initial, goal)\n",
    "    \n",
    "    def actions(self,estado):\n",
    "        pos_hueco=estado.index(0) # busco la posicion del 0\n",
    "        accs=list()\n",
    "        \n",
    "        if pos_hueco not in (0,1,2):\n",
    "            accs.append(\"Mover hueco arriba\")\n",
    "        \n",
    "        ### COMPLETA LA DEFINICIÓN DE LOS OPERADORES. \n",
    "    \n",
    "        if pos_hueco not in (6,7,8):\n",
    "            accs.append(\"Mover hueco abajo\")\n",
    "        if pos_hueco not in (2,5,8):\n",
    "            accs.append(\"Mover hueco derecha\")\n",
    "        if pos_hueco not in (0,3,6):\n",
    "            accs.append(\"Mover hueco izquierda\")\n",
    "        \n",
    "        return accs     \n",
    "\n",
    "    def result(self,estado,accion):\n",
    "        pos_hueco = estado.index(0)\n",
    "        l = list(estado)\n",
    "        if accion == \"Mover hueco arriba\":\n",
    "            l[pos_hueco] = l[pos_hueco-3]\n",
    "            l[pos_hueco-3] = 0\n",
    "        \n",
    "       ### COMPLETA LA DEFINICIÓN DE LOS OPERADORES. \n",
    "\n",
    "        elif accion == \"Mover hueco abajo\":\n",
    "            l[pos_hueco] = l[pos_hueco+3]\n",
    "            l[pos_hueco+3] = 0\n",
    "        elif accion == \"Mover hueco izquierda\":\n",
    "            l[pos_hueco] = l[pos_hueco-1]\n",
    "            l[pos_hueco-1] = 0\n",
    "        elif accion == \"Mover hueco derecha\":\n",
    "            l[pos_hueco] = l[pos_hueco+1]\n",
    "            l[pos_hueco+1] = 0\n",
    "\n",
    "        return tuple(l)\n",
    "    \n",
    "    def check_solvability(self, state):\n",
    "        \"\"\" Checks if the given state is solvable \"\"\"\n",
    "        # The solvability of a configuration can be checked by calculating the Inversion Permutation. \n",
    "        #If the total Inversion Permutation is even then the initial configuration is solvable else the initial configuration is not solvable which means that only 9!/2 initial states lead to a solution.\n",
    "        inversion = 0\n",
    "        for i in range(len(state)):\n",
    "            for j in range(i+1, len(state)):\n",
    "                if (state[i] > state[j]) and state[i] != 0 and state[j]!= 0:\n",
    "                    inversion += 1\n",
    "        return inversion % 2 == 0 \n",
    "\n",
    "    def h(self, node):\n",
    "        \"\"\" Return the heuristic value for a given state. \"\"\"\n",
    "        return 1"
   ]
  },
  {
   "cell_type": "markdown",
   "metadata": {},
   "source": [
    "#### Una vez completada la definición de la clase podrás probar los siguientes ejemplos."
   ]
  },
  {
   "cell_type": "code",
   "execution_count": 17,
   "metadata": {},
   "outputs": [
    {
     "data": {
      "text/plain": [
       "(2, 8, 3, 1, 6, 4, 7, 0, 5)"
      ]
     },
     "execution_count": 17,
     "metadata": {},
     "output_type": "execute_result"
    }
   ],
   "source": [
    "p8 = Ocho_Puzzle((2, 8, 3, 1, 6, 4, 7, 0, 5))\n",
    "p8.initial"
   ]
  },
  {
   "cell_type": "code",
   "execution_count": 18,
   "metadata": {},
   "outputs": [
    {
     "data": {
      "text/plain": [
       "['Mover hueco arriba', 'Mover hueco derecha', 'Mover hueco izquierda']"
      ]
     },
     "execution_count": 18,
     "metadata": {},
     "output_type": "execute_result"
    }
   ],
   "source": [
    "p8.actions(p8.initial)\n",
    "#Respuesta: ['Mover hueco arriba', 'Mover hueco izquierda', 'Mover hueco derecha']"
   ]
  },
  {
   "cell_type": "code",
   "execution_count": 19,
   "metadata": {},
   "outputs": [
    {
     "data": {
      "text/plain": [
       "(2, 8, 3, 1, 0, 4, 7, 6, 5)"
      ]
     },
     "execution_count": 19,
     "metadata": {},
     "output_type": "execute_result"
    }
   ],
   "source": [
    "p8.result(p8.initial,\"Mover hueco arriba\")"
   ]
  },
  {
   "cell_type": "markdown",
   "metadata": {},
   "source": [
    "p8.result(p8.initial,\"Mover hueco abajo\")"
   ]
  },
  {
   "cell_type": "code",
   "execution_count": 20,
   "metadata": {},
   "outputs": [
    {
     "data": {
      "text/plain": [
       "(2, 8, 3, 1, 6, 4, 7, 5, 0)"
      ]
     },
     "execution_count": 20,
     "metadata": {},
     "output_type": "execute_result"
    }
   ],
   "source": [
    "p8.result(p8.initial,\"Mover hueco derecha\")"
   ]
  },
  {
   "cell_type": "code",
   "execution_count": 21,
   "metadata": {},
   "outputs": [
    {
     "data": {
      "text/plain": [
       "1"
      ]
     },
     "execution_count": 21,
     "metadata": {},
     "output_type": "execute_result"
    }
   ],
   "source": [
    "p8.coste_de_aplicar_accion(p8.initial,\"Mover hueco arriba\")"
   ]
  },
  {
   "cell_type": "markdown",
   "metadata": {},
   "source": [
    "### EJERCICIO 2.  Usando la representación anterior representa el problema del puzle de 16 piezas."
   ]
  },
  {
   "cell_type": "code",
   "execution_count": 45,
   "metadata": {},
   "outputs": [],
   "source": [
    "class Quince_Puzzle(Problem): \n",
    "    ## Completa la definición del problema\n",
    "    def __init__(self, initial, goal=(1, 2, 3, 4, 5, 6, 7, 8, 9, 10, 11, 12, 13, 14, 15, 0)):\n",
    "        self.goal = goal\n",
    "        Problem.__init__(self, initial, goal)\n",
    "    \n",
    "    def actions(self,state):\n",
    "        pos_hueco=state.index(0) # busco la posicion del 0\n",
    "        actions=list()\n",
    "        \n",
    "        if pos_hueco not in (0,1,2,3):\n",
    "            actions.append(\"Mover hueco arriba\")\n",
    "        if pos_hueco not in (12,13,14,15):\n",
    "            actions.append(\"Mover hueco abajo\")\n",
    "        if pos_hueco not in (0,4,8,12) or (1,5,9,13):\n",
    "            actions.append(\"Mover hueco izquierda\")\n",
    "        if pos_hueco not in (3,7,11,15) or (2,6,10,14):\n",
    "            actions.append(\"Mover hueco derecha\")\n",
    "        \n",
    "        return actions  \n",
    "    \n",
    "    def result(self,state,action):\n",
    "        pos_hueco = state.index(0)\n",
    "        l = list(state)\n",
    "\n",
    "        if action == \"Mover hueco arriba\":\n",
    "            if pos_hueco-4 > -1:\n",
    "                l[pos_hueco] = l[pos_hueco-4]\n",
    "                l[pos_hueco-4] = 0\n",
    "\n",
    "        elif action == \"Mover hueco abajo\":\n",
    "            if pos_hueco+4 < 16:\n",
    "                l[pos_hueco] = l[pos_hueco+4]\n",
    "                l[pos_hueco+4] = 0\n",
    "\n",
    "        elif action == \"Mover hueco izquierda\":\n",
    "                if pos_hueco-1 > -1:\n",
    "                    l[pos_hueco] = l[pos_hueco-1]\n",
    "                    l[pos_hueco-1] = 0\n",
    "\n",
    "        elif action == \"Mover hueco derecha\":\n",
    "                if pos_hueco+1 < 16:\n",
    "                    l[pos_hueco] = l[pos_hueco+1]\n",
    "                    l[pos_hueco+1] = 0\n",
    "\n",
    "        return tuple(l)\n",
    "\n",
    "    def check_solvability(self, state):\n",
    "        \"\"\" Checks if the given state is solvable \"\"\"\n",
    "        # The solvability of a configuration can be checked by calculating the Inversion Permutation. \n",
    "        #If the total Inversion Permutation is even then the initial configuration is solvable else the initial configuration is not solvable which means that only 9!/2 initial states lead to a solution.\n",
    "        inversion = 0\n",
    "        for i in range(len(state)):\n",
    "            for j in range(i+1, len(state)):\n",
    "                if (state[i] > state[j]) and state[i] != 0 and state[j]!= 0:\n",
    "                    inversion += 1\n",
    "        return inversion % 2 == 0 \n",
    "\n",
    "    def h(self, node):\n",
    "        return 1"
   ]
  },
  {
   "cell_type": "markdown",
   "metadata": {},
   "source": [
    "Realiza algunas pruebas para comprobar que la clase está bien definida. "
   ]
  },
  {
   "cell_type": "code",
   "execution_count": 46,
   "metadata": {},
   "outputs": [
    {
     "data": {
      "text/plain": [
       "(15, 3, 2, 4, 5, 1, 10, 14, 9, 11, 7, 0, 13, 8, 12, 6)"
      ]
     },
     "execution_count": 46,
     "metadata": {},
     "output_type": "execute_result"
    }
   ],
   "source": [
    "p16 = Quince_Puzzle((15, 3, 2, 4, 5, 1, 10, 14, 9, 11, 7, 0, 13, 8, 12, 6))\n",
    "p16.initial"
   ]
  },
  {
   "cell_type": "code",
   "execution_count": 47,
   "metadata": {},
   "outputs": [
    {
     "data": {
      "text/plain": [
       "['Mover hueco arriba',\n",
       " 'Mover hueco abajo',\n",
       " 'Mover hueco izquierda',\n",
       " 'Mover hueco derecha']"
      ]
     },
     "execution_count": 47,
     "metadata": {},
     "output_type": "execute_result"
    }
   ],
   "source": [
    "p16.actions(p16.initial)"
   ]
  },
  {
   "cell_type": "code",
   "execution_count": 48,
   "metadata": {},
   "outputs": [
    {
     "data": {
      "text/plain": [
       "(15, 3, 2, 4, 5, 1, 10, 0, 9, 11, 7, 14, 13, 8, 12, 6)"
      ]
     },
     "execution_count": 48,
     "metadata": {},
     "output_type": "execute_result"
    }
   ],
   "source": [
    "p16.result(p16.initial,\"Mover hueco arriba\")"
   ]
  },
  {
   "cell_type": "code",
   "execution_count": 49,
   "metadata": {},
   "outputs": [
    {
     "data": {
      "text/plain": [
       "(15, 3, 2, 4, 5, 1, 10, 14, 9, 11, 0, 7, 13, 8, 12, 6)"
      ]
     },
     "execution_count": 49,
     "metadata": {},
     "output_type": "execute_result"
    }
   ],
   "source": [
    "p16.result(p16.initial,\"Mover hueco izquierda\")"
   ]
  },
  {
   "cell_type": "markdown",
   "metadata": {},
   "source": [
    "## Parte II: Experimentación con los algoritmos implementados. Ejecución de los algoritmos de búsqueda de soluciones para una instancia del Problema."
   ]
  },
  {
   "cell_type": "markdown",
   "metadata": {},
   "source": [
    "En primer lugar vamos a ver cómo funciona la búsqueda ciega (en anchura y en profundidad) para encontrar soluciones para los tres problemas anteriores: el problema de las jarras, los misioneros y el problema del ocho puzzle con distintos estados iniciales."
   ]
  },
  {
   "cell_type": "code",
   "execution_count": 4,
   "metadata": {},
   "outputs": [],
   "source": [
    "# Cargamos el módulo con los algoritmos de búsqueda.\n",
    "from search import *\n",
    "from search import breadth_first_tree_search, depth_first_tree_search, depth_first_graph_search, breadth_first_graph_search"
   ]
  },
  {
   "cell_type": "markdown",
   "metadata": {},
   "source": [
    "Para que la importación de search funcione el archivo search.py y utils.py tienen que estar en la misma carpeta que este notebook o poner la ruta correspondiente."
   ]
  },
  {
   "cell_type": "code",
   "execution_count": 5,
   "metadata": {},
   "outputs": [],
   "source": [
    "# una opcion para poner un prefijo a la ruta antes de importar es:\n",
    "import sys\n",
    "sys.path.append('aima/')\n",
    "import search"
   ]
  },
  {
   "cell_type": "code",
   "execution_count": 29,
   "metadata": {},
   "outputs": [],
   "source": [
    "## comprueba la resolución del problema de las jarras con el método de búsqueda en anchura."
   ]
  },
  {
   "cell_type": "code",
   "execution_count": 30,
   "metadata": {},
   "outputs": [
    {
     "data": {
      "text/plain": [
       "['llenar jarra de 4',\n",
       " 'trasvasar de jarra de 4 a jarra de 3',\n",
       " 'vaciar jarra de 3',\n",
       " 'trasvasar de jarra de 4 a jarra de 3',\n",
       " 'llenar jarra de 4',\n",
       " 'trasvasar de jarra de 4 a jarra de 3']"
      ]
     },
     "execution_count": 30,
     "metadata": {},
     "output_type": "execute_result"
    }
   ],
   "source": [
    "breadth_first_tree_search(Jarras()).solution()"
   ]
  },
  {
   "cell_type": "code",
   "execution_count": 31,
   "metadata": {},
   "outputs": [
    {
     "data": {
      "text/plain": [
       "['llenar jarra de 3',\n",
       " 'trasvasar de jarra de 3 a jarra de 4',\n",
       " 'llenar jarra de 3',\n",
       " 'trasvasar de jarra de 3 a jarra de 4',\n",
       " 'vaciar jarra de 4',\n",
       " 'trasvasar de jarra de 3 a jarra de 4']"
      ]
     },
     "execution_count": 31,
     "metadata": {},
     "output_type": "execute_result"
    }
   ],
   "source": [
    "depth_first_graph_search(Jarras()).solution()"
   ]
  },
  {
   "cell_type": "markdown",
   "metadata": {},
   "source": [
    "### EJERCICIO 3. Prueba los algoritmos de búsqueda ciega con el problema de los misioneros y con el  puzzle de 8 y de 16.  Comenta al final cómo se comportan los algoritmos en cuanto a eficiencia y resultados. "
   ]
  },
  {
   "cell_type": "code",
   "execution_count": 32,
   "metadata": {},
   "outputs": [],
   "source": [
    "# Usaremos las implementaciones de los algoritmos de búsqueda de AIMA para \n",
    "# resolver los problemas que hemos representado. \n",
    "\n",
    "#Por ejemplo, para resolver el problema de los misioneros con \n",
    "# el método de busqueda en anchura \n",
    "\n",
    "# breadth_first_tree_search(misioneros).solution()\n",
    "\n",
    "# Realiza pruebas con los diferentes algoritmos observando el comportamiento."
   ]
  },
  {
   "cell_type": "code",
   "execution_count": 33,
   "metadata": {},
   "outputs": [
    {
     "data": {
      "text/plain": [
       "(2, 8, 3, 1, 6, 4, 7, 0, 5)"
      ]
     },
     "execution_count": 33,
     "metadata": {},
     "output_type": "execute_result"
    }
   ],
   "source": [
    "p8 = Ocho_Puzzle((2, 8, 3, 1, 6, 4, 7, 0, 5))\n",
    "p8.initial"
   ]
  },
  {
   "cell_type": "code",
   "execution_count": 34,
   "metadata": {},
   "outputs": [
    {
     "data": {
      "text/plain": [
       "(1, 2, 3, 4, 5, 6, 7, 8, 0)"
      ]
     },
     "execution_count": 34,
     "metadata": {},
     "output_type": "execute_result"
    }
   ],
   "source": [
    "p8.goal"
   ]
  },
  {
   "cell_type": "code",
   "execution_count": 35,
   "metadata": {},
   "outputs": [],
   "source": [
    "##breadth_first_tree_search(Ocho_Puzzle((2, 8, 3, 1, 6, 4, 7, 0, 5))).solution()\n",
    "## La llamada corresponde al algoritmo de busqueda en anchura sin control de repetidos.  \n",
    "## Esta llamada no funciona, se queda en [*]\n",
    "## Si es método de busqueda en anchura es completo.. ¿no debería terminar? ¿qué crees que está pasando?\n",
    "## ...............................................................................\n",
    "##Cómo no tiene control de repetidos, está trabado en un bucle porque sigue bajando y toma ramas sin discriminar si ya pasó por allí"
   ]
  },
  {
   "cell_type": "markdown",
   "metadata": {},
   "source": [
    "# Añade a la definición del problema Ocho_Puzzle la función solvability que comprueba si un estado inicial tiene solución.\n",
    "def check_solvability(self, state):\n",
    "        \"\"\" Checks if the given state is solvable \"\"\"\n",
    "# The solvability of a configuration can be checked by calculating the Inversion Permutation. \n",
    "#If the total Inversion Permutation is even then the initial configuration is solvable else the initial configuration is not solvable which means that only 9!/2 initial states lead to a solution.\n",
    "        inversion = 0\n",
    "        for i in range(len(state)):\n",
    "            for j in range(i+1, len(state)):\n",
    "                if (state[i] > state[j]) and state[i] != 0 and state[j]!= 0:\n",
    "                    inversion += 1\n",
    "        return inversion % 2 == 0        "
   ]
  },
  {
   "cell_type": "code",
   "execution_count": 11,
   "metadata": {},
   "outputs": [],
   "source": [
    "# Comprueba si el estado inicial (2, 8, 3, 1, 6, 4, 7, 0, 5) tiene solución.\n",
    "p8 = Ocho_Puzzle((2, 8, 3, 1, 6, 4, 7, 0, 5))\n",
    "if p8.check_solvability(p8.initial):\n",
    "    sol= breadth_first_tree_search(p8).solution()\n",
    "else: \n",
    "    sol=\"Este estado inicial no tiene solucion\""
   ]
  },
  {
   "cell_type": "code",
   "execution_count": 12,
   "metadata": {},
   "outputs": [
    {
     "data": {
      "text/plain": [
       "'Este estado inicial no tiene solucion'"
      ]
     },
     "execution_count": 12,
     "metadata": {},
     "output_type": "execute_result"
    }
   ],
   "source": [
    "sol"
   ]
  },
  {
   "cell_type": "markdown",
   "metadata": {},
   "source": [
    "breadth_first_tree_search(Ocho_Puzzle((1,2,3,4,5,6,0,7,8))).solution()"
   ]
  },
  {
   "cell_type": "code",
   "execution_count": 38,
   "metadata": {},
   "outputs": [],
   "source": [
    "estado = Ocho_Puzzle((2, 4, 3, 1, 5, 6, 7, 8, 0))"
   ]
  },
  {
   "cell_type": "code",
   "execution_count": 39,
   "metadata": {},
   "outputs": [
    {
     "data": {
      "text/plain": [
       "['Mover hueco arriba',\n",
       " 'Mover hueco izquierda',\n",
       " 'Mover hueco arriba',\n",
       " 'Mover hueco izquierda',\n",
       " 'Mover hueco abajo',\n",
       " 'Mover hueco derecha',\n",
       " 'Mover hueco derecha',\n",
       " 'Mover hueco abajo']"
      ]
     },
     "execution_count": 39,
     "metadata": {},
     "output_type": "execute_result"
    }
   ],
   "source": [
    "breadth_first_tree_search(estado).solution()\n",
    "# Respuesta: ['arriba', 'izquierda', 'arriba', 'izquierda', 'abajo', 'derecha', 'derecha', 'abajo']"
   ]
  },
  {
   "cell_type": "code",
   "execution_count": 54,
   "metadata": {},
   "outputs": [
    {
     "data": {
      "text/plain": [
       "['Mover hueco izquierda',\n",
       " 'Mover hueco izquierda',\n",
       " 'Mover hueco arriba',\n",
       " 'Mover hueco derecha',\n",
       " 'Mover hueco derecha',\n",
       " 'Mover hueco abajo',\n",
       " 'Mover hueco izquierda',\n",
       " 'Mover hueco izquierda',\n",
       " 'Mover hueco arriba',\n",
       " 'Mover hueco derecha',\n",
       " 'Mover hueco derecha',\n",
       " 'Mover hueco abajo',\n",
       " 'Mover hueco izquierda',\n",
       " 'Mover hueco izquierda',\n",
       " 'Mover hueco arriba',\n",
       " 'Mover hueco derecha',\n",
       " 'Mover hueco derecha',\n",
       " 'Mover hueco abajo',\n",
       " 'Mover hueco izquierda',\n",
       " 'Mover hueco izquierda',\n",
       " 'Mover hueco arriba',\n",
       " 'Mover hueco derecha',\n",
       " 'Mover hueco derecha',\n",
       " 'Mover hueco abajo',\n",
       " 'Mover hueco izquierda',\n",
       " 'Mover hueco izquierda',\n",
       " 'Mover hueco arriba',\n",
       " 'Mover hueco derecha',\n",
       " 'Mover hueco abajo',\n",
       " 'Mover hueco izquierda',\n",
       " 'Mover hueco arriba',\n",
       " 'Mover hueco derecha',\n",
       " 'Mover hueco derecha',\n",
       " 'Mover hueco abajo',\n",
       " 'Mover hueco izquierda',\n",
       " 'Mover hueco izquierda',\n",
       " 'Mover hueco arriba',\n",
       " 'Mover hueco derecha',\n",
       " 'Mover hueco derecha',\n",
       " 'Mover hueco abajo',\n",
       " 'Mover hueco izquierda',\n",
       " 'Mover hueco izquierda',\n",
       " 'Mover hueco arriba',\n",
       " 'Mover hueco arriba',\n",
       " 'Mover hueco derecha',\n",
       " 'Mover hueco derecha',\n",
       " 'Mover hueco abajo',\n",
       " 'Mover hueco izquierda',\n",
       " 'Mover hueco izquierda',\n",
       " 'Mover hueco abajo',\n",
       " 'Mover hueco derecha',\n",
       " 'Mover hueco derecha',\n",
       " 'Mover hueco arriba',\n",
       " 'Mover hueco izquierda',\n",
       " 'Mover hueco izquierda',\n",
       " 'Mover hueco abajo',\n",
       " 'Mover hueco derecha',\n",
       " 'Mover hueco derecha',\n",
       " 'Mover hueco arriba',\n",
       " 'Mover hueco izquierda',\n",
       " 'Mover hueco izquierda',\n",
       " 'Mover hueco abajo',\n",
       " 'Mover hueco derecha',\n",
       " 'Mover hueco derecha',\n",
       " 'Mover hueco arriba',\n",
       " 'Mover hueco izquierda',\n",
       " 'Mover hueco izquierda',\n",
       " 'Mover hueco abajo',\n",
       " 'Mover hueco derecha',\n",
       " 'Mover hueco derecha',\n",
       " 'Mover hueco arriba',\n",
       " 'Mover hueco izquierda',\n",
       " 'Mover hueco izquierda',\n",
       " 'Mover hueco abajo',\n",
       " 'Mover hueco derecha',\n",
       " 'Mover hueco arriba',\n",
       " 'Mover hueco izquierda',\n",
       " 'Mover hueco abajo',\n",
       " 'Mover hueco derecha',\n",
       " 'Mover hueco derecha',\n",
       " 'Mover hueco arriba',\n",
       " 'Mover hueco izquierda',\n",
       " 'Mover hueco izquierda',\n",
       " 'Mover hueco abajo',\n",
       " 'Mover hueco derecha',\n",
       " 'Mover hueco derecha',\n",
       " 'Mover hueco arriba',\n",
       " 'Mover hueco izquierda',\n",
       " 'Mover hueco izquierda',\n",
       " 'Mover hueco arriba',\n",
       " 'Mover hueco derecha',\n",
       " 'Mover hueco derecha',\n",
       " 'Mover hueco abajo',\n",
       " 'Mover hueco izquierda',\n",
       " 'Mover hueco izquierda',\n",
       " 'Mover hueco abajo',\n",
       " 'Mover hueco derecha',\n",
       " 'Mover hueco derecha',\n",
       " 'Mover hueco arriba',\n",
       " 'Mover hueco izquierda',\n",
       " 'Mover hueco izquierda',\n",
       " 'Mover hueco abajo',\n",
       " 'Mover hueco derecha',\n",
       " 'Mover hueco derecha',\n",
       " 'Mover hueco arriba',\n",
       " 'Mover hueco izquierda',\n",
       " 'Mover hueco izquierda',\n",
       " 'Mover hueco abajo',\n",
       " 'Mover hueco derecha',\n",
       " 'Mover hueco derecha',\n",
       " 'Mover hueco arriba',\n",
       " 'Mover hueco izquierda',\n",
       " 'Mover hueco izquierda',\n",
       " 'Mover hueco abajo',\n",
       " 'Mover hueco derecha',\n",
       " 'Mover hueco derecha',\n",
       " 'Mover hueco arriba',\n",
       " 'Mover hueco izquierda',\n",
       " 'Mover hueco izquierda',\n",
       " 'Mover hueco abajo',\n",
       " 'Mover hueco derecha',\n",
       " 'Mover hueco arriba',\n",
       " 'Mover hueco izquierda',\n",
       " 'Mover hueco abajo',\n",
       " 'Mover hueco derecha',\n",
       " 'Mover hueco derecha',\n",
       " 'Mover hueco arriba',\n",
       " 'Mover hueco izquierda',\n",
       " 'Mover hueco izquierda',\n",
       " 'Mover hueco abajo',\n",
       " 'Mover hueco derecha',\n",
       " 'Mover hueco derecha',\n",
       " 'Mover hueco arriba',\n",
       " 'Mover hueco izquierda',\n",
       " 'Mover hueco izquierda',\n",
       " 'Mover hueco arriba',\n",
       " 'Mover hueco derecha',\n",
       " 'Mover hueco derecha',\n",
       " 'Mover hueco abajo',\n",
       " 'Mover hueco izquierda',\n",
       " 'Mover hueco izquierda',\n",
       " 'Mover hueco abajo',\n",
       " 'Mover hueco derecha',\n",
       " 'Mover hueco derecha',\n",
       " 'Mover hueco arriba',\n",
       " 'Mover hueco izquierda',\n",
       " 'Mover hueco izquierda',\n",
       " 'Mover hueco abajo',\n",
       " 'Mover hueco derecha',\n",
       " 'Mover hueco derecha',\n",
       " 'Mover hueco arriba',\n",
       " 'Mover hueco izquierda',\n",
       " 'Mover hueco izquierda',\n",
       " 'Mover hueco abajo',\n",
       " 'Mover hueco derecha',\n",
       " 'Mover hueco derecha',\n",
       " 'Mover hueco arriba',\n",
       " 'Mover hueco izquierda',\n",
       " 'Mover hueco izquierda',\n",
       " 'Mover hueco abajo',\n",
       " 'Mover hueco derecha',\n",
       " 'Mover hueco derecha',\n",
       " 'Mover hueco arriba',\n",
       " 'Mover hueco izquierda',\n",
       " 'Mover hueco izquierda',\n",
       " 'Mover hueco abajo',\n",
       " 'Mover hueco derecha',\n",
       " 'Mover hueco arriba',\n",
       " 'Mover hueco izquierda',\n",
       " 'Mover hueco abajo',\n",
       " 'Mover hueco derecha',\n",
       " 'Mover hueco derecha',\n",
       " 'Mover hueco arriba',\n",
       " 'Mover hueco izquierda',\n",
       " 'Mover hueco izquierda',\n",
       " 'Mover hueco abajo',\n",
       " 'Mover hueco derecha',\n",
       " 'Mover hueco derecha',\n",
       " 'Mover hueco arriba',\n",
       " 'Mover hueco izquierda',\n",
       " 'Mover hueco izquierda',\n",
       " 'Mover hueco arriba',\n",
       " 'Mover hueco derecha',\n",
       " 'Mover hueco derecha',\n",
       " 'Mover hueco abajo',\n",
       " 'Mover hueco izquierda',\n",
       " 'Mover hueco izquierda',\n",
       " 'Mover hueco abajo',\n",
       " 'Mover hueco derecha',\n",
       " 'Mover hueco derecha',\n",
       " 'Mover hueco arriba',\n",
       " 'Mover hueco izquierda',\n",
       " 'Mover hueco izquierda',\n",
       " 'Mover hueco abajo',\n",
       " 'Mover hueco derecha',\n",
       " 'Mover hueco derecha',\n",
       " 'Mover hueco arriba',\n",
       " 'Mover hueco izquierda',\n",
       " 'Mover hueco izquierda',\n",
       " 'Mover hueco abajo',\n",
       " 'Mover hueco derecha',\n",
       " 'Mover hueco derecha',\n",
       " 'Mover hueco arriba',\n",
       " 'Mover hueco izquierda',\n",
       " 'Mover hueco izquierda',\n",
       " 'Mover hueco abajo',\n",
       " 'Mover hueco derecha',\n",
       " 'Mover hueco derecha',\n",
       " 'Mover hueco arriba',\n",
       " 'Mover hueco izquierda',\n",
       " 'Mover hueco izquierda',\n",
       " 'Mover hueco abajo',\n",
       " 'Mover hueco derecha',\n",
       " 'Mover hueco arriba',\n",
       " 'Mover hueco izquierda',\n",
       " 'Mover hueco abajo',\n",
       " 'Mover hueco derecha',\n",
       " 'Mover hueco derecha',\n",
       " 'Mover hueco arriba',\n",
       " 'Mover hueco izquierda',\n",
       " 'Mover hueco izquierda',\n",
       " 'Mover hueco abajo',\n",
       " 'Mover hueco derecha',\n",
       " 'Mover hueco derecha',\n",
       " 'Mover hueco arriba',\n",
       " 'Mover hueco izquierda',\n",
       " 'Mover hueco izquierda',\n",
       " 'Mover hueco arriba',\n",
       " 'Mover hueco derecha',\n",
       " 'Mover hueco derecha',\n",
       " 'Mover hueco abajo',\n",
       " 'Mover hueco izquierda',\n",
       " 'Mover hueco izquierda',\n",
       " 'Mover hueco abajo',\n",
       " 'Mover hueco derecha',\n",
       " 'Mover hueco derecha',\n",
       " 'Mover hueco arriba',\n",
       " 'Mover hueco izquierda',\n",
       " 'Mover hueco izquierda',\n",
       " 'Mover hueco abajo',\n",
       " 'Mover hueco derecha',\n",
       " 'Mover hueco derecha',\n",
       " 'Mover hueco arriba',\n",
       " 'Mover hueco izquierda',\n",
       " 'Mover hueco izquierda',\n",
       " 'Mover hueco abajo',\n",
       " 'Mover hueco derecha',\n",
       " 'Mover hueco derecha',\n",
       " 'Mover hueco arriba',\n",
       " 'Mover hueco izquierda',\n",
       " 'Mover hueco izquierda',\n",
       " 'Mover hueco abajo',\n",
       " 'Mover hueco derecha',\n",
       " 'Mover hueco derecha',\n",
       " 'Mover hueco arriba',\n",
       " 'Mover hueco izquierda',\n",
       " 'Mover hueco izquierda',\n",
       " 'Mover hueco abajo',\n",
       " 'Mover hueco derecha',\n",
       " 'Mover hueco arriba',\n",
       " 'Mover hueco izquierda',\n",
       " 'Mover hueco abajo',\n",
       " 'Mover hueco derecha',\n",
       " 'Mover hueco derecha',\n",
       " 'Mover hueco arriba',\n",
       " 'Mover hueco izquierda',\n",
       " 'Mover hueco izquierda',\n",
       " 'Mover hueco abajo',\n",
       " 'Mover hueco derecha',\n",
       " 'Mover hueco derecha',\n",
       " 'Mover hueco arriba',\n",
       " 'Mover hueco izquierda',\n",
       " 'Mover hueco izquierda',\n",
       " 'Mover hueco arriba',\n",
       " 'Mover hueco derecha',\n",
       " 'Mover hueco derecha',\n",
       " 'Mover hueco abajo',\n",
       " 'Mover hueco izquierda',\n",
       " 'Mover hueco izquierda',\n",
       " 'Mover hueco abajo',\n",
       " 'Mover hueco derecha',\n",
       " 'Mover hueco derecha',\n",
       " 'Mover hueco arriba',\n",
       " 'Mover hueco izquierda',\n",
       " 'Mover hueco izquierda',\n",
       " 'Mover hueco abajo',\n",
       " 'Mover hueco derecha',\n",
       " 'Mover hueco derecha',\n",
       " 'Mover hueco arriba',\n",
       " 'Mover hueco izquierda',\n",
       " 'Mover hueco izquierda',\n",
       " 'Mover hueco abajo',\n",
       " 'Mover hueco derecha',\n",
       " 'Mover hueco derecha',\n",
       " 'Mover hueco arriba',\n",
       " 'Mover hueco izquierda',\n",
       " 'Mover hueco izquierda',\n",
       " 'Mover hueco abajo',\n",
       " 'Mover hueco derecha',\n",
       " 'Mover hueco derecha',\n",
       " 'Mover hueco arriba',\n",
       " 'Mover hueco izquierda',\n",
       " 'Mover hueco izquierda',\n",
       " 'Mover hueco abajo',\n",
       " 'Mover hueco derecha',\n",
       " 'Mover hueco arriba',\n",
       " 'Mover hueco izquierda',\n",
       " 'Mover hueco abajo',\n",
       " 'Mover hueco derecha',\n",
       " 'Mover hueco derecha',\n",
       " 'Mover hueco arriba',\n",
       " 'Mover hueco izquierda',\n",
       " 'Mover hueco izquierda',\n",
       " 'Mover hueco abajo',\n",
       " 'Mover hueco derecha',\n",
       " 'Mover hueco derecha',\n",
       " 'Mover hueco arriba',\n",
       " 'Mover hueco izquierda',\n",
       " 'Mover hueco izquierda',\n",
       " 'Mover hueco arriba',\n",
       " 'Mover hueco derecha',\n",
       " 'Mover hueco derecha',\n",
       " 'Mover hueco abajo',\n",
       " 'Mover hueco abajo',\n",
       " 'Mover hueco izquierda',\n",
       " 'Mover hueco izquierda',\n",
       " 'Mover hueco arriba',\n",
       " 'Mover hueco derecha',\n",
       " 'Mover hueco derecha',\n",
       " 'Mover hueco abajo',\n",
       " 'Mover hueco izquierda',\n",
       " 'Mover hueco izquierda',\n",
       " 'Mover hueco arriba',\n",
       " 'Mover hueco derecha',\n",
       " 'Mover hueco derecha',\n",
       " 'Mover hueco arriba',\n",
       " 'Mover hueco izquierda',\n",
       " 'Mover hueco izquierda',\n",
       " 'Mover hueco abajo',\n",
       " 'Mover hueco derecha',\n",
       " 'Mover hueco derecha',\n",
       " 'Mover hueco abajo',\n",
       " 'Mover hueco izquierda',\n",
       " 'Mover hueco izquierda',\n",
       " 'Mover hueco arriba',\n",
       " 'Mover hueco derecha',\n",
       " 'Mover hueco derecha',\n",
       " 'Mover hueco abajo',\n",
       " 'Mover hueco izquierda',\n",
       " 'Mover hueco izquierda',\n",
       " 'Mover hueco arriba',\n",
       " 'Mover hueco derecha',\n",
       " 'Mover hueco derecha',\n",
       " 'Mover hueco abajo',\n",
       " 'Mover hueco izquierda',\n",
       " 'Mover hueco izquierda',\n",
       " 'Mover hueco arriba',\n",
       " 'Mover hueco derecha',\n",
       " 'Mover hueco derecha',\n",
       " 'Mover hueco abajo',\n",
       " 'Mover hueco izquierda',\n",
       " 'Mover hueco izquierda',\n",
       " 'Mover hueco arriba',\n",
       " 'Mover hueco derecha',\n",
       " 'Mover hueco derecha',\n",
       " 'Mover hueco abajo',\n",
       " 'Mover hueco izquierda',\n",
       " 'Mover hueco arriba',\n",
       " 'Mover hueco izquierda',\n",
       " 'Mover hueco abajo',\n",
       " 'Mover hueco derecha',\n",
       " 'Mover hueco derecha',\n",
       " 'Mover hueco arriba',\n",
       " 'Mover hueco izquierda',\n",
       " 'Mover hueco izquierda',\n",
       " 'Mover hueco abajo',\n",
       " 'Mover hueco derecha',\n",
       " 'Mover hueco derecha',\n",
       " 'Mover hueco arriba',\n",
       " 'Mover hueco izquierda',\n",
       " 'Mover hueco izquierda',\n",
       " 'Mover hueco arriba',\n",
       " 'Mover hueco derecha',\n",
       " 'Mover hueco derecha',\n",
       " 'Mover hueco abajo',\n",
       " 'Mover hueco izquierda',\n",
       " 'Mover hueco izquierda',\n",
       " 'Mover hueco abajo',\n",
       " 'Mover hueco derecha',\n",
       " 'Mover hueco derecha',\n",
       " 'Mover hueco arriba',\n",
       " 'Mover hueco izquierda',\n",
       " 'Mover hueco izquierda',\n",
       " 'Mover hueco abajo',\n",
       " 'Mover hueco derecha',\n",
       " 'Mover hueco derecha',\n",
       " 'Mover hueco arriba',\n",
       " 'Mover hueco izquierda',\n",
       " 'Mover hueco izquierda',\n",
       " 'Mover hueco abajo',\n",
       " 'Mover hueco derecha',\n",
       " 'Mover hueco derecha',\n",
       " 'Mover hueco arriba',\n",
       " 'Mover hueco izquierda',\n",
       " 'Mover hueco izquierda',\n",
       " 'Mover hueco abajo',\n",
       " 'Mover hueco derecha',\n",
       " 'Mover hueco derecha',\n",
       " 'Mover hueco arriba',\n",
       " 'Mover hueco izquierda',\n",
       " 'Mover hueco izquierda',\n",
       " 'Mover hueco abajo',\n",
       " 'Mover hueco derecha',\n",
       " 'Mover hueco arriba',\n",
       " 'Mover hueco izquierda',\n",
       " 'Mover hueco abajo',\n",
       " 'Mover hueco derecha',\n",
       " 'Mover hueco derecha',\n",
       " 'Mover hueco arriba',\n",
       " 'Mover hueco izquierda',\n",
       " 'Mover hueco izquierda',\n",
       " 'Mover hueco abajo',\n",
       " 'Mover hueco derecha',\n",
       " 'Mover hueco derecha',\n",
       " 'Mover hueco arriba',\n",
       " 'Mover hueco izquierda',\n",
       " 'Mover hueco izquierda',\n",
       " 'Mover hueco arriba',\n",
       " 'Mover hueco derecha',\n",
       " 'Mover hueco derecha',\n",
       " 'Mover hueco abajo',\n",
       " 'Mover hueco izquierda',\n",
       " 'Mover hueco izquierda',\n",
       " 'Mover hueco abajo',\n",
       " 'Mover hueco derecha',\n",
       " 'Mover hueco derecha',\n",
       " 'Mover hueco arriba',\n",
       " 'Mover hueco izquierda',\n",
       " 'Mover hueco izquierda',\n",
       " 'Mover hueco abajo',\n",
       " 'Mover hueco derecha',\n",
       " 'Mover hueco derecha',\n",
       " 'Mover hueco arriba',\n",
       " 'Mover hueco izquierda',\n",
       " 'Mover hueco izquierda',\n",
       " 'Mover hueco abajo',\n",
       " 'Mover hueco derecha',\n",
       " 'Mover hueco derecha',\n",
       " 'Mover hueco arriba',\n",
       " 'Mover hueco izquierda',\n",
       " 'Mover hueco izquierda',\n",
       " 'Mover hueco abajo',\n",
       " 'Mover hueco derecha',\n",
       " 'Mover hueco derecha',\n",
       " 'Mover hueco arriba',\n",
       " 'Mover hueco izquierda',\n",
       " 'Mover hueco izquierda',\n",
       " 'Mover hueco abajo',\n",
       " 'Mover hueco derecha',\n",
       " 'Mover hueco arriba',\n",
       " 'Mover hueco izquierda',\n",
       " 'Mover hueco abajo',\n",
       " 'Mover hueco derecha',\n",
       " 'Mover hueco derecha',\n",
       " 'Mover hueco arriba',\n",
       " 'Mover hueco izquierda',\n",
       " 'Mover hueco izquierda',\n",
       " 'Mover hueco abajo',\n",
       " 'Mover hueco derecha',\n",
       " 'Mover hueco derecha',\n",
       " 'Mover hueco arriba',\n",
       " 'Mover hueco izquierda',\n",
       " 'Mover hueco izquierda',\n",
       " 'Mover hueco arriba',\n",
       " 'Mover hueco derecha',\n",
       " 'Mover hueco derecha',\n",
       " 'Mover hueco abajo',\n",
       " 'Mover hueco izquierda',\n",
       " 'Mover hueco izquierda',\n",
       " 'Mover hueco abajo',\n",
       " 'Mover hueco derecha',\n",
       " 'Mover hueco derecha',\n",
       " 'Mover hueco arriba',\n",
       " 'Mover hueco izquierda',\n",
       " 'Mover hueco izquierda',\n",
       " 'Mover hueco abajo',\n",
       " 'Mover hueco derecha',\n",
       " 'Mover hueco derecha',\n",
       " 'Mover hueco arriba',\n",
       " 'Mover hueco izquierda',\n",
       " 'Mover hueco izquierda',\n",
       " 'Mover hueco abajo',\n",
       " 'Mover hueco derecha',\n",
       " 'Mover hueco derecha',\n",
       " 'Mover hueco arriba',\n",
       " 'Mover hueco izquierda',\n",
       " 'Mover hueco izquierda',\n",
       " 'Mover hueco abajo',\n",
       " 'Mover hueco derecha',\n",
       " 'Mover hueco derecha',\n",
       " 'Mover hueco arriba',\n",
       " 'Mover hueco izquierda',\n",
       " 'Mover hueco izquierda',\n",
       " 'Mover hueco abajo',\n",
       " 'Mover hueco derecha',\n",
       " 'Mover hueco arriba',\n",
       " 'Mover hueco izquierda',\n",
       " 'Mover hueco abajo',\n",
       " 'Mover hueco derecha',\n",
       " 'Mover hueco derecha',\n",
       " 'Mover hueco arriba',\n",
       " 'Mover hueco izquierda',\n",
       " 'Mover hueco izquierda',\n",
       " 'Mover hueco abajo',\n",
       " 'Mover hueco derecha',\n",
       " 'Mover hueco derecha',\n",
       " 'Mover hueco arriba',\n",
       " 'Mover hueco izquierda',\n",
       " 'Mover hueco izquierda',\n",
       " 'Mover hueco arriba',\n",
       " 'Mover hueco derecha',\n",
       " 'Mover hueco derecha',\n",
       " 'Mover hueco abajo',\n",
       " 'Mover hueco izquierda',\n",
       " 'Mover hueco izquierda',\n",
       " 'Mover hueco abajo',\n",
       " 'Mover hueco derecha',\n",
       " 'Mover hueco derecha',\n",
       " 'Mover hueco arriba',\n",
       " 'Mover hueco izquierda',\n",
       " 'Mover hueco izquierda',\n",
       " 'Mover hueco abajo',\n",
       " 'Mover hueco derecha',\n",
       " 'Mover hueco derecha',\n",
       " 'Mover hueco arriba',\n",
       " 'Mover hueco izquierda',\n",
       " 'Mover hueco izquierda',\n",
       " 'Mover hueco abajo',\n",
       " 'Mover hueco derecha',\n",
       " 'Mover hueco derecha',\n",
       " 'Mover hueco arriba',\n",
       " 'Mover hueco izquierda',\n",
       " 'Mover hueco izquierda',\n",
       " 'Mover hueco abajo',\n",
       " 'Mover hueco derecha',\n",
       " 'Mover hueco derecha',\n",
       " 'Mover hueco arriba',\n",
       " 'Mover hueco izquierda',\n",
       " 'Mover hueco izquierda',\n",
       " 'Mover hueco abajo',\n",
       " 'Mover hueco derecha',\n",
       " 'Mover hueco arriba',\n",
       " 'Mover hueco izquierda',\n",
       " 'Mover hueco abajo',\n",
       " 'Mover hueco derecha',\n",
       " 'Mover hueco derecha',\n",
       " 'Mover hueco arriba',\n",
       " 'Mover hueco izquierda',\n",
       " 'Mover hueco izquierda',\n",
       " 'Mover hueco abajo',\n",
       " 'Mover hueco derecha',\n",
       " 'Mover hueco derecha',\n",
       " 'Mover hueco arriba',\n",
       " 'Mover hueco izquierda',\n",
       " 'Mover hueco izquierda',\n",
       " 'Mover hueco arriba',\n",
       " 'Mover hueco derecha',\n",
       " 'Mover hueco derecha',\n",
       " 'Mover hueco abajo',\n",
       " 'Mover hueco izquierda',\n",
       " 'Mover hueco izquierda',\n",
       " 'Mover hueco abajo',\n",
       " 'Mover hueco derecha',\n",
       " 'Mover hueco derecha',\n",
       " 'Mover hueco arriba',\n",
       " 'Mover hueco izquierda',\n",
       " 'Mover hueco izquierda',\n",
       " 'Mover hueco abajo',\n",
       " 'Mover hueco derecha',\n",
       " 'Mover hueco derecha',\n",
       " 'Mover hueco arriba',\n",
       " 'Mover hueco izquierda',\n",
       " 'Mover hueco izquierda',\n",
       " 'Mover hueco abajo',\n",
       " 'Mover hueco derecha',\n",
       " 'Mover hueco derecha',\n",
       " 'Mover hueco arriba',\n",
       " 'Mover hueco izquierda',\n",
       " 'Mover hueco izquierda',\n",
       " 'Mover hueco abajo',\n",
       " 'Mover hueco derecha',\n",
       " 'Mover hueco derecha',\n",
       " 'Mover hueco arriba',\n",
       " 'Mover hueco izquierda',\n",
       " 'Mover hueco izquierda',\n",
       " 'Mover hueco abajo',\n",
       " 'Mover hueco derecha',\n",
       " 'Mover hueco arriba',\n",
       " 'Mover hueco izquierda',\n",
       " 'Mover hueco abajo',\n",
       " 'Mover hueco derecha',\n",
       " 'Mover hueco derecha',\n",
       " 'Mover hueco arriba',\n",
       " 'Mover hueco izquierda',\n",
       " 'Mover hueco izquierda',\n",
       " 'Mover hueco abajo',\n",
       " 'Mover hueco derecha',\n",
       " 'Mover hueco derecha',\n",
       " 'Mover hueco arriba',\n",
       " 'Mover hueco izquierda',\n",
       " 'Mover hueco izquierda',\n",
       " 'Mover hueco arriba',\n",
       " 'Mover hueco derecha',\n",
       " 'Mover hueco derecha',\n",
       " 'Mover hueco abajo',\n",
       " 'Mover hueco izquierda',\n",
       " 'Mover hueco izquierda',\n",
       " 'Mover hueco abajo',\n",
       " 'Mover hueco derecha',\n",
       " 'Mover hueco derecha',\n",
       " 'Mover hueco arriba',\n",
       " 'Mover hueco izquierda',\n",
       " 'Mover hueco izquierda',\n",
       " 'Mover hueco abajo',\n",
       " 'Mover hueco derecha',\n",
       " 'Mover hueco derecha',\n",
       " 'Mover hueco arriba',\n",
       " 'Mover hueco izquierda',\n",
       " 'Mover hueco izquierda',\n",
       " 'Mover hueco abajo',\n",
       " 'Mover hueco derecha',\n",
       " 'Mover hueco derecha',\n",
       " 'Mover hueco arriba',\n",
       " 'Mover hueco izquierda',\n",
       " 'Mover hueco izquierda',\n",
       " 'Mover hueco abajo',\n",
       " 'Mover hueco derecha',\n",
       " 'Mover hueco derecha',\n",
       " 'Mover hueco arriba',\n",
       " 'Mover hueco izquierda',\n",
       " 'Mover hueco izquierda',\n",
       " 'Mover hueco abajo',\n",
       " 'Mover hueco derecha',\n",
       " 'Mover hueco arriba',\n",
       " 'Mover hueco izquierda',\n",
       " 'Mover hueco abajo',\n",
       " 'Mover hueco derecha',\n",
       " 'Mover hueco derecha',\n",
       " 'Mover hueco arriba',\n",
       " 'Mover hueco izquierda',\n",
       " 'Mover hueco izquierda',\n",
       " 'Mover hueco abajo',\n",
       " 'Mover hueco derecha',\n",
       " 'Mover hueco derecha',\n",
       " 'Mover hueco arriba',\n",
       " 'Mover hueco izquierda',\n",
       " 'Mover hueco izquierda',\n",
       " 'Mover hueco arriba',\n",
       " 'Mover hueco derecha',\n",
       " 'Mover hueco abajo',\n",
       " 'Mover hueco izquierda',\n",
       " 'Mover hueco abajo',\n",
       " 'Mover hueco derecha',\n",
       " 'Mover hueco derecha',\n",
       " 'Mover hueco arriba',\n",
       " 'Mover hueco izquierda',\n",
       " 'Mover hueco izquierda',\n",
       " 'Mover hueco abajo',\n",
       " 'Mover hueco derecha',\n",
       " 'Mover hueco derecha',\n",
       " 'Mover hueco arriba',\n",
       " 'Mover hueco izquierda',\n",
       " 'Mover hueco izquierda',\n",
       " 'Mover hueco abajo',\n",
       " 'Mover hueco derecha',\n",
       " 'Mover hueco derecha',\n",
       " 'Mover hueco arriba',\n",
       " 'Mover hueco izquierda',\n",
       " 'Mover hueco izquierda',\n",
       " 'Mover hueco abajo',\n",
       " 'Mover hueco derecha',\n",
       " 'Mover hueco derecha',\n",
       " 'Mover hueco arriba',\n",
       " 'Mover hueco izquierda',\n",
       " 'Mover hueco izquierda',\n",
       " 'Mover hueco abajo',\n",
       " 'Mover hueco derecha',\n",
       " 'Mover hueco arriba',\n",
       " 'Mover hueco izquierda',\n",
       " 'Mover hueco abajo',\n",
       " 'Mover hueco derecha',\n",
       " 'Mover hueco derecha',\n",
       " 'Mover hueco arriba',\n",
       " 'Mover hueco izquierda',\n",
       " 'Mover hueco izquierda',\n",
       " 'Mover hueco abajo',\n",
       " 'Mover hueco derecha',\n",
       " 'Mover hueco derecha',\n",
       " 'Mover hueco arriba',\n",
       " 'Mover hueco izquierda',\n",
       " 'Mover hueco izquierda',\n",
       " 'Mover hueco arriba',\n",
       " 'Mover hueco derecha',\n",
       " 'Mover hueco derecha',\n",
       " 'Mover hueco abajo',\n",
       " 'Mover hueco izquierda',\n",
       " 'Mover hueco izquierda',\n",
       " 'Mover hueco abajo',\n",
       " 'Mover hueco derecha',\n",
       " 'Mover hueco derecha',\n",
       " 'Mover hueco arriba',\n",
       " 'Mover hueco izquierda',\n",
       " 'Mover hueco izquierda',\n",
       " 'Mover hueco abajo',\n",
       " 'Mover hueco derecha',\n",
       " 'Mover hueco derecha',\n",
       " 'Mover hueco arriba',\n",
       " 'Mover hueco izquierda',\n",
       " 'Mover hueco izquierda',\n",
       " 'Mover hueco abajo',\n",
       " 'Mover hueco derecha',\n",
       " 'Mover hueco derecha',\n",
       " 'Mover hueco arriba',\n",
       " 'Mover hueco izquierda',\n",
       " 'Mover hueco izquierda',\n",
       " 'Mover hueco abajo',\n",
       " 'Mover hueco derecha',\n",
       " 'Mover hueco derecha',\n",
       " 'Mover hueco arriba',\n",
       " 'Mover hueco izquierda',\n",
       " 'Mover hueco izquierda',\n",
       " 'Mover hueco abajo',\n",
       " 'Mover hueco derecha',\n",
       " 'Mover hueco arriba',\n",
       " 'Mover hueco izquierda',\n",
       " 'Mover hueco abajo',\n",
       " 'Mover hueco derecha',\n",
       " 'Mover hueco derecha',\n",
       " 'Mover hueco arriba',\n",
       " 'Mover hueco izquierda',\n",
       " 'Mover hueco izquierda',\n",
       " 'Mover hueco abajo',\n",
       " 'Mover hueco derecha',\n",
       " 'Mover hueco derecha',\n",
       " 'Mover hueco arriba',\n",
       " 'Mover hueco izquierda',\n",
       " 'Mover hueco abajo',\n",
       " 'Mover hueco izquierda',\n",
       " 'Mover hueco arriba',\n",
       " 'Mover hueco arriba',\n",
       " 'Mover hueco derecha',\n",
       " 'Mover hueco derecha',\n",
       " 'Mover hueco abajo',\n",
       " 'Mover hueco izquierda',\n",
       " 'Mover hueco izquierda',\n",
       " 'Mover hueco abajo',\n",
       " 'Mover hueco derecha',\n",
       " 'Mover hueco derecha',\n",
       " 'Mover hueco arriba',\n",
       " 'Mover hueco izquierda',\n",
       " 'Mover hueco izquierda',\n",
       " 'Mover hueco abajo',\n",
       " 'Mover hueco derecha',\n",
       " 'Mover hueco derecha',\n",
       " 'Mover hueco arriba',\n",
       " 'Mover hueco izquierda',\n",
       " 'Mover hueco izquierda',\n",
       " 'Mover hueco abajo',\n",
       " 'Mover hueco derecha',\n",
       " 'Mover hueco derecha',\n",
       " 'Mover hueco arriba',\n",
       " 'Mover hueco izquierda',\n",
       " 'Mover hueco izquierda',\n",
       " 'Mover hueco abajo',\n",
       " 'Mover hueco derecha',\n",
       " 'Mover hueco derecha',\n",
       " 'Mover hueco arriba',\n",
       " 'Mover hueco izquierda',\n",
       " 'Mover hueco izquierda',\n",
       " 'Mover hueco abajo',\n",
       " 'Mover hueco derecha',\n",
       " 'Mover hueco arriba',\n",
       " 'Mover hueco izquierda',\n",
       " 'Mover hueco abajo',\n",
       " 'Mover hueco derecha',\n",
       " 'Mover hueco derecha',\n",
       " 'Mover hueco arriba',\n",
       " 'Mover hueco izquierda',\n",
       " 'Mover hueco izquierda',\n",
       " 'Mover hueco abajo',\n",
       " 'Mover hueco derecha',\n",
       " 'Mover hueco derecha',\n",
       " 'Mover hueco arriba',\n",
       " 'Mover hueco izquierda',\n",
       " 'Mover hueco izquierda',\n",
       " 'Mover hueco arriba',\n",
       " 'Mover hueco derecha',\n",
       " 'Mover hueco derecha',\n",
       " 'Mover hueco abajo',\n",
       " 'Mover hueco izquierda',\n",
       " 'Mover hueco izquierda',\n",
       " 'Mover hueco abajo',\n",
       " 'Mover hueco derecha',\n",
       " 'Mover hueco derecha',\n",
       " 'Mover hueco arriba',\n",
       " 'Mover hueco izquierda',\n",
       " 'Mover hueco izquierda',\n",
       " 'Mover hueco abajo',\n",
       " 'Mover hueco derecha',\n",
       " 'Mover hueco derecha',\n",
       " 'Mover hueco arriba',\n",
       " 'Mover hueco izquierda',\n",
       " 'Mover hueco izquierda',\n",
       " 'Mover hueco abajo',\n",
       " 'Mover hueco derecha',\n",
       " 'Mover hueco derecha',\n",
       " 'Mover hueco arriba',\n",
       " 'Mover hueco izquierda',\n",
       " 'Mover hueco izquierda',\n",
       " 'Mover hueco abajo',\n",
       " 'Mover hueco derecha',\n",
       " 'Mover hueco derecha',\n",
       " 'Mover hueco arriba',\n",
       " 'Mover hueco izquierda',\n",
       " 'Mover hueco izquierda',\n",
       " 'Mover hueco abajo',\n",
       " 'Mover hueco derecha',\n",
       " 'Mover hueco arriba',\n",
       " 'Mover hueco izquierda',\n",
       " 'Mover hueco abajo',\n",
       " 'Mover hueco derecha',\n",
       " 'Mover hueco derecha',\n",
       " 'Mover hueco arriba',\n",
       " 'Mover hueco izquierda',\n",
       " 'Mover hueco izquierda',\n",
       " 'Mover hueco abajo',\n",
       " 'Mover hueco derecha',\n",
       " 'Mover hueco derecha',\n",
       " 'Mover hueco arriba',\n",
       " 'Mover hueco izquierda',\n",
       " 'Mover hueco izquierda',\n",
       " 'Mover hueco arriba',\n",
       " 'Mover hueco derecha',\n",
       " 'Mover hueco derecha',\n",
       " 'Mover hueco abajo',\n",
       " 'Mover hueco izquierda',\n",
       " 'Mover hueco izquierda',\n",
       " 'Mover hueco abajo',\n",
       " 'Mover hueco derecha',\n",
       " 'Mover hueco derecha',\n",
       " 'Mover hueco arriba',\n",
       " 'Mover hueco izquierda',\n",
       " 'Mover hueco izquierda',\n",
       " 'Mover hueco abajo',\n",
       " 'Mover hueco derecha',\n",
       " 'Mover hueco derecha',\n",
       " 'Mover hueco arriba',\n",
       " 'Mover hueco izquierda',\n",
       " 'Mover hueco izquierda',\n",
       " 'Mover hueco abajo',\n",
       " 'Mover hueco derecha',\n",
       " 'Mover hueco derecha',\n",
       " 'Mover hueco arriba',\n",
       " 'Mover hueco izquierda',\n",
       " 'Mover hueco izquierda',\n",
       " 'Mover hueco abajo',\n",
       " 'Mover hueco derecha',\n",
       " 'Mover hueco derecha',\n",
       " 'Mover hueco arriba',\n",
       " 'Mover hueco izquierda',\n",
       " 'Mover hueco izquierda',\n",
       " 'Mover hueco abajo',\n",
       " 'Mover hueco derecha',\n",
       " 'Mover hueco arriba',\n",
       " 'Mover hueco izquierda',\n",
       " 'Mover hueco abajo',\n",
       " 'Mover hueco derecha',\n",
       " 'Mover hueco derecha',\n",
       " 'Mover hueco arriba',\n",
       " 'Mover hueco izquierda',\n",
       " 'Mover hueco izquierda',\n",
       " 'Mover hueco abajo',\n",
       " 'Mover hueco derecha',\n",
       " 'Mover hueco derecha',\n",
       " 'Mover hueco arriba',\n",
       " 'Mover hueco izquierda',\n",
       " 'Mover hueco izquierda',\n",
       " 'Mover hueco arriba',\n",
       " 'Mover hueco derecha',\n",
       " 'Mover hueco derecha',\n",
       " 'Mover hueco abajo',\n",
       " 'Mover hueco izquierda',\n",
       " 'Mover hueco izquierda',\n",
       " 'Mover hueco abajo',\n",
       " 'Mover hueco derecha',\n",
       " 'Mover hueco derecha',\n",
       " 'Mover hueco arriba',\n",
       " 'Mover hueco izquierda',\n",
       " 'Mover hueco izquierda',\n",
       " 'Mover hueco abajo',\n",
       " 'Mover hueco derecha',\n",
       " 'Mover hueco derecha',\n",
       " 'Mover hueco arriba',\n",
       " 'Mover hueco izquierda',\n",
       " 'Mover hueco izquierda',\n",
       " 'Mover hueco abajo',\n",
       " 'Mover hueco derecha',\n",
       " 'Mover hueco derecha',\n",
       " 'Mover hueco arriba',\n",
       " 'Mover hueco izquierda',\n",
       " 'Mover hueco izquierda',\n",
       " 'Mover hueco abajo',\n",
       " 'Mover hueco derecha',\n",
       " 'Mover hueco derecha',\n",
       " 'Mover hueco arriba',\n",
       " 'Mover hueco izquierda',\n",
       " 'Mover hueco izquierda',\n",
       " 'Mover hueco abajo',\n",
       " 'Mover hueco derecha',\n",
       " 'Mover hueco arriba',\n",
       " 'Mover hueco izquierda',\n",
       " 'Mover hueco abajo',\n",
       " 'Mover hueco derecha',\n",
       " 'Mover hueco derecha',\n",
       " 'Mover hueco arriba',\n",
       " 'Mover hueco izquierda',\n",
       " 'Mover hueco izquierda',\n",
       " 'Mover hueco abajo',\n",
       " 'Mover hueco derecha',\n",
       " 'Mover hueco derecha',\n",
       " 'Mover hueco arriba',\n",
       " 'Mover hueco izquierda',\n",
       " 'Mover hueco izquierda',\n",
       " 'Mover hueco arriba',\n",
       " 'Mover hueco derecha',\n",
       " 'Mover hueco derecha',\n",
       " 'Mover hueco abajo',\n",
       " 'Mover hueco izquierda',\n",
       " 'Mover hueco izquierda',\n",
       " 'Mover hueco abajo',\n",
       " 'Mover hueco derecha',\n",
       " 'Mover hueco derecha',\n",
       " 'Mover hueco arriba',\n",
       " 'Mover hueco izquierda',\n",
       " 'Mover hueco izquierda',\n",
       " 'Mover hueco abajo',\n",
       " 'Mover hueco derecha',\n",
       " 'Mover hueco derecha',\n",
       " 'Mover hueco arriba',\n",
       " 'Mover hueco izquierda',\n",
       " 'Mover hueco izquierda',\n",
       " 'Mover hueco abajo',\n",
       " 'Mover hueco derecha',\n",
       " 'Mover hueco derecha',\n",
       " 'Mover hueco arriba',\n",
       " 'Mover hueco izquierda',\n",
       " 'Mover hueco izquierda',\n",
       " 'Mover hueco abajo',\n",
       " 'Mover hueco derecha',\n",
       " 'Mover hueco derecha',\n",
       " 'Mover hueco arriba',\n",
       " 'Mover hueco izquierda',\n",
       " 'Mover hueco izquierda',\n",
       " 'Mover hueco abajo',\n",
       " 'Mover hueco derecha',\n",
       " 'Mover hueco arriba',\n",
       " 'Mover hueco izquierda',\n",
       " 'Mover hueco abajo',\n",
       " 'Mover hueco derecha',\n",
       " 'Mover hueco derecha',\n",
       " 'Mover hueco arriba',\n",
       " 'Mover hueco izquierda',\n",
       " 'Mover hueco izquierda',\n",
       " 'Mover hueco abajo',\n",
       " 'Mover hueco derecha',\n",
       " 'Mover hueco derecha',\n",
       " 'Mover hueco arriba',\n",
       " 'Mover hueco izquierda',\n",
       " 'Mover hueco izquierda',\n",
       " 'Mover hueco arriba',\n",
       " 'Mover hueco derecha',\n",
       " 'Mover hueco derecha',\n",
       " 'Mover hueco abajo',\n",
       " 'Mover hueco izquierda',\n",
       " 'Mover hueco izquierda',\n",
       " 'Mover hueco arriba',\n",
       " 'Mover hueco derecha',\n",
       " 'Mover hueco derecha',\n",
       " 'Mover hueco abajo',\n",
       " 'Mover hueco izquierda',\n",
       " 'Mover hueco izquierda',\n",
       " 'Mover hueco abajo',\n",
       " 'Mover hueco derecha',\n",
       " 'Mover hueco derecha',\n",
       " 'Mover hueco arriba',\n",
       " 'Mover hueco izquierda',\n",
       " 'Mover hueco izquierda',\n",
       " 'Mover hueco abajo',\n",
       " 'Mover hueco derecha',\n",
       " 'Mover hueco derecha',\n",
       " ...]"
      ]
     },
     "execution_count": 54,
     "metadata": {},
     "output_type": "execute_result"
    }
   ],
   "source": [
    "depth_first_graph_search(estado).solution()"
   ]
  },
  {
   "cell_type": "code",
   "execution_count": 40,
   "metadata": {},
   "outputs": [
    {
     "data": {
      "text/plain": [
       "['Mover hueco arriba',\n",
       " 'Mover hueco izquierda',\n",
       " 'Mover hueco arriba',\n",
       " 'Mover hueco izquierda',\n",
       " 'Mover hueco abajo',\n",
       " 'Mover hueco derecha',\n",
       " 'Mover hueco derecha',\n",
       " 'Mover hueco abajo']"
      ]
     },
     "execution_count": 40,
     "metadata": {},
     "output_type": "execute_result"
    }
   ],
   "source": [
    "breadth_first_graph_search(estado).solution()"
   ]
  },
  {
   "cell_type": "code",
   "execution_count": 50,
   "metadata": {},
   "outputs": [],
   "source": [
    "estadoDos = Quince_Puzzle((15, 3, 2, 4, 5, 1, 10, 14, 9, 11, 7, 0, 13, 8, 12, 6))"
   ]
  },
  {
   "cell_type": "code",
   "execution_count": 51,
   "metadata": {},
   "outputs": [],
   "source": [
    "if estadoDos.check_solvability(estadoDos.initial):\n",
    "    sol= \"Este estado inicial tiene solucion\"\n",
    "else: \n",
    "    sol=\"Este estado inicial no tiene solucion\""
   ]
  },
  {
   "cell_type": "code",
   "execution_count": 52,
   "metadata": {},
   "outputs": [
    {
     "data": {
      "text/plain": [
       "'Este estado inicial tiene solucion'"
      ]
     },
     "execution_count": 52,
     "metadata": {},
     "output_type": "execute_result"
    }
   ],
   "source": [
    "sol"
   ]
  },
  {
   "cell_type": "code",
   "execution_count": 55,
   "metadata": {},
   "outputs": [],
   "source": [
    "breadth_first_tree_search(estadoDos).solution()"
   ]
  },
  {
   "cell_type": "code",
   "execution_count": 52,
   "metadata": {},
   "outputs": [
    {
     "ename": "KeyboardInterrupt",
     "evalue": "",
     "output_type": "error",
     "traceback": [
      "\u001b[0;31m---------------------------------------------------------------------------\u001b[0m",
      "\u001b[0;31mKeyboardInterrupt\u001b[0m                         Traceback (most recent call last)",
      "\u001b[0;32m/var/folders/42/k0333_056k56_th3b_jxr8vm0000gn/T/ipykernel_37064/3451981186.py\u001b[0m in \u001b[0;36m<module>\u001b[0;34m\u001b[0m\n\u001b[0;32m----> 1\u001b[0;31m \u001b[0mbreadth_first_graph_search\u001b[0m\u001b[0;34m(\u001b[0m\u001b[0mestadoDos\u001b[0m\u001b[0;34m)\u001b[0m\u001b[0;34m.\u001b[0m\u001b[0msolution\u001b[0m\u001b[0;34m(\u001b[0m\u001b[0;34m)\u001b[0m\u001b[0;34m\u001b[0m\u001b[0;34m\u001b[0m\u001b[0m\n\u001b[0m",
      "\u001b[0;32m~/Desktop/SI/Sesión2.Resolución de problemas con búsqueda (AIMA)-20220217/aima/search.py\u001b[0m in \u001b[0;36mbreadth_first_graph_search\u001b[0;34m(problem)\u001b[0m\n\u001b[1;32m    251\u001b[0m         \u001b[0mexplored\u001b[0m\u001b[0;34m.\u001b[0m\u001b[0madd\u001b[0m\u001b[0;34m(\u001b[0m\u001b[0mnode\u001b[0m\u001b[0;34m.\u001b[0m\u001b[0mstate\u001b[0m\u001b[0;34m)\u001b[0m\u001b[0;34m\u001b[0m\u001b[0;34m\u001b[0m\u001b[0m\n\u001b[1;32m    252\u001b[0m         \u001b[0;32mfor\u001b[0m \u001b[0mchild\u001b[0m \u001b[0;32min\u001b[0m \u001b[0mnode\u001b[0m\u001b[0;34m.\u001b[0m\u001b[0mexpand\u001b[0m\u001b[0;34m(\u001b[0m\u001b[0mproblem\u001b[0m\u001b[0;34m)\u001b[0m\u001b[0;34m:\u001b[0m\u001b[0;34m\u001b[0m\u001b[0;34m\u001b[0m\u001b[0m\n\u001b[0;32m--> 253\u001b[0;31m             \u001b[0;32mif\u001b[0m \u001b[0mchild\u001b[0m\u001b[0;34m.\u001b[0m\u001b[0mstate\u001b[0m \u001b[0;32mnot\u001b[0m \u001b[0;32min\u001b[0m \u001b[0mexplored\u001b[0m \u001b[0;32mand\u001b[0m \u001b[0mchild\u001b[0m \u001b[0;32mnot\u001b[0m \u001b[0;32min\u001b[0m \u001b[0mfrontier\u001b[0m\u001b[0;34m:\u001b[0m\u001b[0;34m\u001b[0m\u001b[0;34m\u001b[0m\u001b[0m\n\u001b[0m\u001b[1;32m    254\u001b[0m                 \u001b[0;32mif\u001b[0m \u001b[0mproblem\u001b[0m\u001b[0;34m.\u001b[0m\u001b[0mgoal_test\u001b[0m\u001b[0;34m(\u001b[0m\u001b[0mchild\u001b[0m\u001b[0;34m.\u001b[0m\u001b[0mstate\u001b[0m\u001b[0;34m)\u001b[0m\u001b[0;34m:\u001b[0m\u001b[0;34m\u001b[0m\u001b[0;34m\u001b[0m\u001b[0m\n\u001b[1;32m    255\u001b[0m                     \u001b[0;32mreturn\u001b[0m \u001b[0mchild\u001b[0m\u001b[0;34m\u001b[0m\u001b[0;34m\u001b[0m\u001b[0m\n",
      "\u001b[0;32m~/Desktop/SI/Sesión2.Resolución de problemas con búsqueda (AIMA)-20220217/aima/search.py\u001b[0m in \u001b[0;36m__eq__\u001b[0;34m(self, other)\u001b[0m\n\u001b[1;32m    121\u001b[0m \u001b[0;34m\u001b[0m\u001b[0m\n\u001b[1;32m    122\u001b[0m     \u001b[0;32mdef\u001b[0m \u001b[0m__eq__\u001b[0m\u001b[0;34m(\u001b[0m\u001b[0mself\u001b[0m\u001b[0;34m,\u001b[0m \u001b[0mother\u001b[0m\u001b[0;34m)\u001b[0m\u001b[0;34m:\u001b[0m\u001b[0;34m\u001b[0m\u001b[0;34m\u001b[0m\u001b[0m\n\u001b[0;32m--> 123\u001b[0;31m         \u001b[0;32mreturn\u001b[0m \u001b[0misinstance\u001b[0m\u001b[0;34m(\u001b[0m\u001b[0mother\u001b[0m\u001b[0;34m,\u001b[0m \u001b[0mNode\u001b[0m\u001b[0;34m)\u001b[0m \u001b[0;32mand\u001b[0m \u001b[0mself\u001b[0m\u001b[0;34m.\u001b[0m\u001b[0mstate\u001b[0m \u001b[0;34m==\u001b[0m \u001b[0mother\u001b[0m\u001b[0;34m.\u001b[0m\u001b[0mstate\u001b[0m\u001b[0;34m\u001b[0m\u001b[0;34m\u001b[0m\u001b[0m\n\u001b[0m\u001b[1;32m    124\u001b[0m \u001b[0;34m\u001b[0m\u001b[0m\n\u001b[1;32m    125\u001b[0m     \u001b[0;32mdef\u001b[0m \u001b[0m__hash__\u001b[0m\u001b[0;34m(\u001b[0m\u001b[0mself\u001b[0m\u001b[0;34m)\u001b[0m\u001b[0;34m:\u001b[0m\u001b[0;34m\u001b[0m\u001b[0;34m\u001b[0m\u001b[0m\n",
      "\u001b[0;31mKeyboardInterrupt\u001b[0m: "
     ]
    }
   ],
   "source": [
    "breadth_first_graph_search(estadoDos).solution()"
   ]
  },
  {
   "cell_type": "code",
   "execution_count": 43,
   "metadata": {},
   "outputs": [
    {
     "ename": "KeyboardInterrupt",
     "evalue": "",
     "output_type": "error",
     "traceback": [
      "\u001b[0;31m---------------------------------------------------------------------------\u001b[0m",
      "\u001b[0;31mKeyboardInterrupt\u001b[0m                         Traceback (most recent call last)",
      "\u001b[0;32m/var/folders/42/k0333_056k56_th3b_jxr8vm0000gn/T/ipykernel_37064/593811331.py\u001b[0m in \u001b[0;36m<module>\u001b[0;34m\u001b[0m\n\u001b[0;32m----> 1\u001b[0;31m \u001b[0mdepth_first_graph_search\u001b[0m\u001b[0;34m(\u001b[0m\u001b[0mestadoDos\u001b[0m\u001b[0;34m)\u001b[0m\u001b[0;34m.\u001b[0m\u001b[0msolution\u001b[0m\u001b[0;34m(\u001b[0m\u001b[0;34m)\u001b[0m\u001b[0;34m\u001b[0m\u001b[0;34m\u001b[0m\u001b[0m\n\u001b[0m",
      "\u001b[0;32m~/Desktop/SI/Sesión2.Resolución de problemas con búsqueda (AIMA)-20220217/aima/search.py\u001b[0m in \u001b[0;36mdepth_first_graph_search\u001b[0;34m(problem)\u001b[0m\n\u001b[1;32m    231\u001b[0m             \u001b[0;32mreturn\u001b[0m \u001b[0mnode\u001b[0m\u001b[0;34m\u001b[0m\u001b[0;34m\u001b[0m\u001b[0m\n\u001b[1;32m    232\u001b[0m         \u001b[0mexplored\u001b[0m\u001b[0;34m.\u001b[0m\u001b[0madd\u001b[0m\u001b[0;34m(\u001b[0m\u001b[0mnode\u001b[0m\u001b[0;34m.\u001b[0m\u001b[0mstate\u001b[0m\u001b[0;34m)\u001b[0m\u001b[0;34m\u001b[0m\u001b[0;34m\u001b[0m\u001b[0m\n\u001b[0;32m--> 233\u001b[0;31m         frontier.extend(child for child in node.expand(problem)\n\u001b[0m\u001b[1;32m    234\u001b[0m                         if child.state not in explored and child not in frontier)\n\u001b[1;32m    235\u001b[0m     \u001b[0;32mreturn\u001b[0m \u001b[0;32mNone\u001b[0m\u001b[0;34m\u001b[0m\u001b[0;34m\u001b[0m\u001b[0m\n",
      "\u001b[0;32m~/Desktop/SI/Sesión2.Resolución de problemas con búsqueda (AIMA)-20220217/aima/search.py\u001b[0m in \u001b[0;36m<genexpr>\u001b[0;34m(.0)\u001b[0m\n\u001b[1;32m    232\u001b[0m         \u001b[0mexplored\u001b[0m\u001b[0;34m.\u001b[0m\u001b[0madd\u001b[0m\u001b[0;34m(\u001b[0m\u001b[0mnode\u001b[0m\u001b[0;34m.\u001b[0m\u001b[0mstate\u001b[0m\u001b[0;34m)\u001b[0m\u001b[0;34m\u001b[0m\u001b[0;34m\u001b[0m\u001b[0m\n\u001b[1;32m    233\u001b[0m         frontier.extend(child for child in node.expand(problem)\n\u001b[0;32m--> 234\u001b[0;31m                         if child.state not in explored and child not in frontier)\n\u001b[0m\u001b[1;32m    235\u001b[0m     \u001b[0;32mreturn\u001b[0m \u001b[0;32mNone\u001b[0m\u001b[0;34m\u001b[0m\u001b[0;34m\u001b[0m\u001b[0m\n\u001b[1;32m    236\u001b[0m \u001b[0;34m\u001b[0m\u001b[0m\n",
      "\u001b[0;32m~/Desktop/SI/Sesión2.Resolución de problemas con búsqueda (AIMA)-20220217/aima/search.py\u001b[0m in \u001b[0;36m__eq__\u001b[0;34m(self, other)\u001b[0m\n\u001b[1;32m    120\u001b[0m     \u001b[0;31m# want in other contexts.]\u001b[0m\u001b[0;34m\u001b[0m\u001b[0;34m\u001b[0m\u001b[0m\n\u001b[1;32m    121\u001b[0m \u001b[0;34m\u001b[0m\u001b[0m\n\u001b[0;32m--> 122\u001b[0;31m     \u001b[0;32mdef\u001b[0m \u001b[0m__eq__\u001b[0m\u001b[0;34m(\u001b[0m\u001b[0mself\u001b[0m\u001b[0;34m,\u001b[0m \u001b[0mother\u001b[0m\u001b[0;34m)\u001b[0m\u001b[0;34m:\u001b[0m\u001b[0;34m\u001b[0m\u001b[0;34m\u001b[0m\u001b[0m\n\u001b[0m\u001b[1;32m    123\u001b[0m         \u001b[0;32mreturn\u001b[0m \u001b[0misinstance\u001b[0m\u001b[0;34m(\u001b[0m\u001b[0mother\u001b[0m\u001b[0;34m,\u001b[0m \u001b[0mNode\u001b[0m\u001b[0;34m)\u001b[0m \u001b[0;32mand\u001b[0m \u001b[0mself\u001b[0m\u001b[0;34m.\u001b[0m\u001b[0mstate\u001b[0m \u001b[0;34m==\u001b[0m \u001b[0mother\u001b[0m\u001b[0;34m.\u001b[0m\u001b[0mstate\u001b[0m\u001b[0;34m\u001b[0m\u001b[0;34m\u001b[0m\u001b[0m\n\u001b[1;32m    124\u001b[0m \u001b[0;34m\u001b[0m\u001b[0m\n",
      "\u001b[0;31mKeyboardInterrupt\u001b[0m: "
     ]
    }
   ],
   "source": [
    "depth_first_graph_search(estadoDos).solution()"
   ]
  },
  {
   "cell_type": "code",
   "execution_count": 44,
   "metadata": {},
   "outputs": [
    {
     "ename": "KeyboardInterrupt",
     "evalue": "",
     "output_type": "error",
     "traceback": [
      "\u001b[0;31m---------------------------------------------------------------------------\u001b[0m",
      "\u001b[0;31mKeyboardInterrupt\u001b[0m                         Traceback (most recent call last)",
      "\u001b[0;32m/var/folders/42/k0333_056k56_th3b_jxr8vm0000gn/T/ipykernel_37064/4245903860.py\u001b[0m in \u001b[0;36m<module>\u001b[0;34m\u001b[0m\n\u001b[0;32m----> 1\u001b[0;31m \u001b[0mdepth_first_tree_search\u001b[0m\u001b[0;34m(\u001b[0m\u001b[0mestadoDos\u001b[0m\u001b[0;34m)\u001b[0m\u001b[0;34m.\u001b[0m\u001b[0msolution\u001b[0m\u001b[0;34m(\u001b[0m\u001b[0;34m)\u001b[0m\u001b[0;34m\u001b[0m\u001b[0;34m\u001b[0m\u001b[0m\n\u001b[0m",
      "\u001b[0;32m~/Desktop/SI/Sesión2.Resolución de problemas con búsqueda (AIMA)-20220217/aima/search.py\u001b[0m in \u001b[0;36mdepth_first_tree_search\u001b[0;34m(problem)\u001b[0m\n\u001b[1;32m    210\u001b[0m         \u001b[0;32mif\u001b[0m \u001b[0mproblem\u001b[0m\u001b[0;34m.\u001b[0m\u001b[0mgoal_test\u001b[0m\u001b[0;34m(\u001b[0m\u001b[0mnode\u001b[0m\u001b[0;34m.\u001b[0m\u001b[0mstate\u001b[0m\u001b[0;34m)\u001b[0m\u001b[0;34m:\u001b[0m\u001b[0;34m\u001b[0m\u001b[0;34m\u001b[0m\u001b[0m\n\u001b[1;32m    211\u001b[0m             \u001b[0;32mreturn\u001b[0m \u001b[0mnode\u001b[0m\u001b[0;34m\u001b[0m\u001b[0;34m\u001b[0m\u001b[0m\n\u001b[0;32m--> 212\u001b[0;31m         \u001b[0mfrontier\u001b[0m\u001b[0;34m.\u001b[0m\u001b[0mextend\u001b[0m\u001b[0;34m(\u001b[0m\u001b[0mnode\u001b[0m\u001b[0;34m.\u001b[0m\u001b[0mexpand\u001b[0m\u001b[0;34m(\u001b[0m\u001b[0mproblem\u001b[0m\u001b[0;34m)\u001b[0m\u001b[0;34m)\u001b[0m\u001b[0;34m\u001b[0m\u001b[0;34m\u001b[0m\u001b[0m\n\u001b[0m\u001b[1;32m    213\u001b[0m     \u001b[0;32mreturn\u001b[0m \u001b[0;32mNone\u001b[0m\u001b[0;34m\u001b[0m\u001b[0;34m\u001b[0m\u001b[0m\n\u001b[1;32m    214\u001b[0m \u001b[0;34m\u001b[0m\u001b[0m\n",
      "\u001b[0;32m~/Desktop/SI/Sesión2.Resolución de problemas con búsqueda (AIMA)-20220217/aima/search.py\u001b[0m in \u001b[0;36mexpand\u001b[0;34m(self, problem)\u001b[0m\n\u001b[1;32m     94\u001b[0m     \u001b[0;32mdef\u001b[0m \u001b[0mexpand\u001b[0m\u001b[0;34m(\u001b[0m\u001b[0mself\u001b[0m\u001b[0;34m,\u001b[0m \u001b[0mproblem\u001b[0m\u001b[0;34m)\u001b[0m\u001b[0;34m:\u001b[0m\u001b[0;34m\u001b[0m\u001b[0;34m\u001b[0m\u001b[0m\n\u001b[1;32m     95\u001b[0m         \u001b[0;34m\"\"\"List the nodes reachable in one step from this node.\"\"\"\u001b[0m\u001b[0;34m\u001b[0m\u001b[0;34m\u001b[0m\u001b[0m\n\u001b[0;32m---> 96\u001b[0;31m         return [self.child_node(problem, action)\n\u001b[0m\u001b[1;32m     97\u001b[0m                 for action in problem.actions(self.state)]\n\u001b[1;32m     98\u001b[0m \u001b[0;34m\u001b[0m\u001b[0m\n",
      "\u001b[0;32m~/Desktop/SI/Sesión2.Resolución de problemas con búsqueda (AIMA)-20220217/aima/search.py\u001b[0m in \u001b[0;36m<listcomp>\u001b[0;34m(.0)\u001b[0m\n\u001b[1;32m     94\u001b[0m     \u001b[0;32mdef\u001b[0m \u001b[0mexpand\u001b[0m\u001b[0;34m(\u001b[0m\u001b[0mself\u001b[0m\u001b[0;34m,\u001b[0m \u001b[0mproblem\u001b[0m\u001b[0;34m)\u001b[0m\u001b[0;34m:\u001b[0m\u001b[0;34m\u001b[0m\u001b[0;34m\u001b[0m\u001b[0m\n\u001b[1;32m     95\u001b[0m         \u001b[0;34m\"\"\"List the nodes reachable in one step from this node.\"\"\"\u001b[0m\u001b[0;34m\u001b[0m\u001b[0;34m\u001b[0m\u001b[0m\n\u001b[0;32m---> 96\u001b[0;31m         return [self.child_node(problem, action)\n\u001b[0m\u001b[1;32m     97\u001b[0m                 for action in problem.actions(self.state)]\n\u001b[1;32m     98\u001b[0m \u001b[0;34m\u001b[0m\u001b[0m\n",
      "\u001b[0;32m~/Desktop/SI/Sesión2.Resolución de problemas con búsqueda (AIMA)-20220217/aima/search.py\u001b[0m in \u001b[0;36mchild_node\u001b[0;34m(self, problem, action)\u001b[0m\n\u001b[1;32m    100\u001b[0m         \u001b[0;34m\"\"\"[Figure 3.10]\"\"\"\u001b[0m\u001b[0;34m\u001b[0m\u001b[0;34m\u001b[0m\u001b[0m\n\u001b[1;32m    101\u001b[0m         \u001b[0mnext_state\u001b[0m \u001b[0;34m=\u001b[0m \u001b[0mproblem\u001b[0m\u001b[0;34m.\u001b[0m\u001b[0mresult\u001b[0m\u001b[0;34m(\u001b[0m\u001b[0mself\u001b[0m\u001b[0;34m.\u001b[0m\u001b[0mstate\u001b[0m\u001b[0;34m,\u001b[0m \u001b[0maction\u001b[0m\u001b[0;34m)\u001b[0m\u001b[0;34m\u001b[0m\u001b[0;34m\u001b[0m\u001b[0m\n\u001b[0;32m--> 102\u001b[0;31m         \u001b[0mnext_node\u001b[0m \u001b[0;34m=\u001b[0m \u001b[0mNode\u001b[0m\u001b[0;34m(\u001b[0m\u001b[0mnext_state\u001b[0m\u001b[0;34m,\u001b[0m \u001b[0mself\u001b[0m\u001b[0;34m,\u001b[0m \u001b[0maction\u001b[0m\u001b[0;34m,\u001b[0m \u001b[0mproblem\u001b[0m\u001b[0;34m.\u001b[0m\u001b[0mpath_cost\u001b[0m\u001b[0;34m(\u001b[0m\u001b[0mself\u001b[0m\u001b[0;34m.\u001b[0m\u001b[0mpath_cost\u001b[0m\u001b[0;34m,\u001b[0m \u001b[0mself\u001b[0m\u001b[0;34m.\u001b[0m\u001b[0mstate\u001b[0m\u001b[0;34m,\u001b[0m \u001b[0maction\u001b[0m\u001b[0;34m,\u001b[0m \u001b[0mnext_state\u001b[0m\u001b[0;34m)\u001b[0m\u001b[0;34m)\u001b[0m\u001b[0;34m\u001b[0m\u001b[0;34m\u001b[0m\u001b[0m\n\u001b[0m\u001b[1;32m    103\u001b[0m         \u001b[0;32mreturn\u001b[0m \u001b[0mnext_node\u001b[0m\u001b[0;34m\u001b[0m\u001b[0;34m\u001b[0m\u001b[0m\n\u001b[1;32m    104\u001b[0m \u001b[0;34m\u001b[0m\u001b[0m\n",
      "\u001b[0;32m~/Desktop/SI/Sesión2.Resolución de problemas con búsqueda (AIMA)-20220217/aima/search.py\u001b[0m in \u001b[0;36m__init__\u001b[0;34m(self, state, parent, action, path_cost)\u001b[0m\n\u001b[1;32m     78\u001b[0m     \u001b[0;32mdef\u001b[0m \u001b[0m__init__\u001b[0m\u001b[0;34m(\u001b[0m\u001b[0mself\u001b[0m\u001b[0;34m,\u001b[0m \u001b[0mstate\u001b[0m\u001b[0;34m,\u001b[0m \u001b[0mparent\u001b[0m\u001b[0;34m=\u001b[0m\u001b[0;32mNone\u001b[0m\u001b[0;34m,\u001b[0m \u001b[0maction\u001b[0m\u001b[0;34m=\u001b[0m\u001b[0;32mNone\u001b[0m\u001b[0;34m,\u001b[0m \u001b[0mpath_cost\u001b[0m\u001b[0;34m=\u001b[0m\u001b[0;36m0\u001b[0m\u001b[0;34m)\u001b[0m\u001b[0;34m:\u001b[0m\u001b[0;34m\u001b[0m\u001b[0;34m\u001b[0m\u001b[0m\n\u001b[1;32m     79\u001b[0m         \u001b[0;34m\"\"\"Create a search tree Node, derived from a parent by an action.\"\"\"\u001b[0m\u001b[0;34m\u001b[0m\u001b[0;34m\u001b[0m\u001b[0m\n\u001b[0;32m---> 80\u001b[0;31m         \u001b[0mself\u001b[0m\u001b[0;34m.\u001b[0m\u001b[0mstate\u001b[0m \u001b[0;34m=\u001b[0m \u001b[0mstate\u001b[0m\u001b[0;34m\u001b[0m\u001b[0;34m\u001b[0m\u001b[0m\n\u001b[0m\u001b[1;32m     81\u001b[0m         \u001b[0mself\u001b[0m\u001b[0;34m.\u001b[0m\u001b[0mparent\u001b[0m \u001b[0;34m=\u001b[0m \u001b[0mparent\u001b[0m\u001b[0;34m\u001b[0m\u001b[0;34m\u001b[0m\u001b[0m\n\u001b[1;32m     82\u001b[0m         \u001b[0mself\u001b[0m\u001b[0;34m.\u001b[0m\u001b[0maction\u001b[0m \u001b[0;34m=\u001b[0m \u001b[0maction\u001b[0m\u001b[0;34m\u001b[0m\u001b[0;34m\u001b[0m\u001b[0m\n",
      "\u001b[0;31mKeyboardInterrupt\u001b[0m: "
     ]
    }
   ],
   "source": [
    "depth_first_tree_search(estadoDos).solution()"
   ]
  },
  {
   "cell_type": "code",
   "execution_count": 12,
   "metadata": {},
   "outputs": [
    {
     "data": {
      "text/plain": [
       "[('2c', (0, 2)),\n",
       " ('1c', (0, 1)),\n",
       " ('2c', (0, 2)),\n",
       " ('1c', (0, 1)),\n",
       " ('2m', (2, 0)),\n",
       " ('1m1c', (1, 1)),\n",
       " ('2m', (2, 0)),\n",
       " ('1c', (0, 1)),\n",
       " ('2c', (0, 2)),\n",
       " ('1c', (0, 1)),\n",
       " ('2c', (0, 2))]"
      ]
     },
     "execution_count": 12,
     "metadata": {},
     "output_type": "execute_result"
    }
   ],
   "source": [
    "breadth_first_tree_search(misioneros).solution()"
   ]
  },
  {
   "cell_type": "code",
   "execution_count": 14,
   "metadata": {},
   "outputs": [
    {
     "ename": "KeyboardInterrupt",
     "evalue": "",
     "output_type": "error",
     "traceback": [
      "\u001b[0;31m---------------------------------------------------------------------------\u001b[0m",
      "\u001b[0;31mKeyboardInterrupt\u001b[0m                         Traceback (most recent call last)",
      "\u001b[0;32m/var/folders/42/k0333_056k56_th3b_jxr8vm0000gn/T/ipykernel_2718/3470423259.py\u001b[0m in \u001b[0;36m<module>\u001b[0;34m\u001b[0m\n\u001b[0;32m----> 1\u001b[0;31m \u001b[0mdepth_first_tree_search\u001b[0m\u001b[0;34m(\u001b[0m\u001b[0mmisioneros\u001b[0m\u001b[0;34m)\u001b[0m\u001b[0;34m.\u001b[0m\u001b[0msolution\u001b[0m\u001b[0;34m(\u001b[0m\u001b[0;34m)\u001b[0m\u001b[0;34m\u001b[0m\u001b[0;34m\u001b[0m\u001b[0m\n\u001b[0m",
      "\u001b[0;32m~/Desktop/SI/Sesión2.Resolución de problemas con búsqueda (AIMA)-20220217/aima/search.py\u001b[0m in \u001b[0;36mdepth_first_tree_search\u001b[0;34m(problem)\u001b[0m\n\u001b[1;32m    208\u001b[0m     \u001b[0;32mwhile\u001b[0m \u001b[0mfrontier\u001b[0m\u001b[0;34m:\u001b[0m\u001b[0;34m\u001b[0m\u001b[0;34m\u001b[0m\u001b[0m\n\u001b[1;32m    209\u001b[0m         \u001b[0mnode\u001b[0m \u001b[0;34m=\u001b[0m \u001b[0mfrontier\u001b[0m\u001b[0;34m.\u001b[0m\u001b[0mpop\u001b[0m\u001b[0;34m(\u001b[0m\u001b[0;34m)\u001b[0m\u001b[0;34m\u001b[0m\u001b[0;34m\u001b[0m\u001b[0m\n\u001b[0;32m--> 210\u001b[0;31m         \u001b[0;32mif\u001b[0m \u001b[0mproblem\u001b[0m\u001b[0;34m.\u001b[0m\u001b[0mgoal_test\u001b[0m\u001b[0;34m(\u001b[0m\u001b[0mnode\u001b[0m\u001b[0;34m.\u001b[0m\u001b[0mstate\u001b[0m\u001b[0;34m)\u001b[0m\u001b[0;34m:\u001b[0m\u001b[0;34m\u001b[0m\u001b[0;34m\u001b[0m\u001b[0m\n\u001b[0m\u001b[1;32m    211\u001b[0m             \u001b[0;32mreturn\u001b[0m \u001b[0mnode\u001b[0m\u001b[0;34m\u001b[0m\u001b[0;34m\u001b[0m\u001b[0m\n\u001b[1;32m    212\u001b[0m         \u001b[0mfrontier\u001b[0m\u001b[0;34m.\u001b[0m\u001b[0mextend\u001b[0m\u001b[0;34m(\u001b[0m\u001b[0mnode\u001b[0m\u001b[0;34m.\u001b[0m\u001b[0mexpand\u001b[0m\u001b[0;34m(\u001b[0m\u001b[0mproblem\u001b[0m\u001b[0;34m)\u001b[0m\u001b[0;34m)\u001b[0m\u001b[0;34m\u001b[0m\u001b[0;34m\u001b[0m\u001b[0m\n",
      "\u001b[0;31mKeyboardInterrupt\u001b[0m: "
     ]
    }
   ],
   "source": [
    "depth_first_tree_search(misioneros).solution()"
   ]
  },
  {
   "cell_type": "code",
   "execution_count": 17,
   "metadata": {},
   "outputs": [
    {
     "data": {
      "text/plain": [
       "[('1m1c', (1, 1)),\n",
       " ('1m', (1, 0)),\n",
       " ('2c', (0, 2)),\n",
       " ('1c', (0, 1)),\n",
       " ('2m', (2, 0)),\n",
       " ('1m1c', (1, 1)),\n",
       " ('2m', (2, 0)),\n",
       " ('1c', (0, 1)),\n",
       " ('2c', (0, 2)),\n",
       " ('1m', (1, 0)),\n",
       " ('1m1c', (1, 1))]"
      ]
     },
     "execution_count": 17,
     "metadata": {},
     "output_type": "execute_result"
    }
   ],
   "source": [
    "depth_first_graph_search(misioneros).solution()"
   ]
  },
  {
   "cell_type": "code",
   "execution_count": 16,
   "metadata": {},
   "outputs": [
    {
     "data": {
      "text/plain": [
       "[('2c', (0, 2)),\n",
       " ('1c', (0, 1)),\n",
       " ('2c', (0, 2)),\n",
       " ('1c', (0, 1)),\n",
       " ('2m', (2, 0)),\n",
       " ('1m1c', (1, 1)),\n",
       " ('2m', (2, 0)),\n",
       " ('1c', (0, 1)),\n",
       " ('2c', (0, 2)),\n",
       " ('1c', (0, 1)),\n",
       " ('2c', (0, 2))]"
      ]
     },
     "execution_count": 16,
     "metadata": {},
     "output_type": "execute_result"
    }
   ],
   "source": [
    "breadth_first_graph_search(misioneros).solution()"
   ]
  },
  {
   "cell_type": "markdown",
   "metadata": {},
   "source": [
    "#### En este ejercicio se ha podido observar los resultados y tiempo de la ejecución de los algoritmos de búsqueda ciega.  Escribe aquí tus conclusiones respecto a la resolución de los problemas con búsqueda ciega:\n",
    "- Misioneros: con los algoritmos de anchura y el algoritmo de profundidad de grafos pudo presentar las soluciones rápidamente, pero no fue lo mismo para el de profundidad de árbol\n",
    "- Puzle de 8: En la Busqueda de Anchura con Arboles y con Grafo, me da un set de soluciones concreta rápidamente. Sin embargo, usando Primero en Profundidad con Grafo tarda bastante (45 minutos) para llegar al set de soluciones, y con árboles el tiempo era tanto que mi computador hacía crash. Puede ser que entre en un bucle \n",
    "- Puzle de 16: Probé que tuviera solución desde el estado que le dí, pero los calculos de cualquier search fueron tan extensos que mi computador crasheaba cuando lo dejaba correr. Es posible que debido a los calculos, inherentemente tarde mas de lo que el ordenador puede soportar, o que entre en un bucle cuando se utiliza los de profundidad por árbol.\n",
    "\n",
    "**********************************************************************************\n",
    "Puedes añadir todo el espacio que necesites."
   ]
  },
  {
   "cell_type": "markdown",
   "metadata": {},
   "source": [
    "### EJERCICIO 4:  Definición de heurísticas"
   ]
  },
  {
   "cell_type": "code",
   "execution_count": null,
   "metadata": {},
   "outputs": [],
   "source": [
    "#### 4.1. Para el problema de los misioneros define una heurística y comenta sus propiedades\n",
    "Puedes utilizar alguna de las heurísticas vistas en clase. \n",
    "\n",
    "# Heurísticas para el problema de los misioneros.\n",
    "(a,b,c)\n",
    "h = (a+b)/2;\n",
    "h = 2(a+b)-c*3\n"
   ]
  },
  {
   "cell_type": "markdown",
   "metadata": {},
   "source": [
    "### EJERCICIO 5. \n",
    "#### Usar las implementaciones de AIMA de los algoritmos de búsqueda_coste_uniforme, busqueda_primero_el_mejor y búsqueda_a_estrella (con las heurísticas anteriores) para resolver el problema de los misioneros y algun ejemplo del puzle de 8 y puzle de 16. \n",
    "\n",
    "#### Comparar los costes temporales usando %timeit y comentar los resultados."
   ]
  },
  {
   "cell_type": "code",
   "execution_count": 62,
   "metadata": {},
   "outputs": [],
   "source": [
    "from search import astar_search, best_first_graph_search, uniform_cost_search"
   ]
  },
  {
   "cell_type": "code",
   "execution_count": 57,
   "metadata": {},
   "outputs": [
    {
     "data": {
      "text/plain": [
       "['Mover hueco arriba',\n",
       " 'Mover hueco izquierda',\n",
       " 'Mover hueco arriba',\n",
       " 'Mover hueco izquierda',\n",
       " 'Mover hueco abajo',\n",
       " 'Mover hueco derecha',\n",
       " 'Mover hueco derecha',\n",
       " 'Mover hueco abajo']"
      ]
     },
     "execution_count": 57,
     "metadata": {},
     "output_type": "execute_result"
    }
   ],
   "source": [
    "####  Vamos a probar el 8-puzzle utilizando el siguiente **estado inicial** \n",
    "\n",
    "#              +---+---+---+\n",
    "#              | 2 | 4 | 3 |\n",
    "#              +---+---+---+\n",
    "#              | 1 | 5 | 6 |\n",
    "#              +---+---+---+\n",
    "#              | 7 | 8 | H |\n",
    "#              +---+---+---+\n",
    "\n",
    "puzle = Ocho_Puzzle((2, 4, 3, 1, 5, 6, 7, 8, 0)) \n",
    "astar_search(puzle).solution()"
   ]
  },
  {
   "cell_type": "code",
   "execution_count": 56,
   "metadata": {},
   "outputs": [
    {
     "data": {
      "text/plain": [
       "['Mover hueco arriba',\n",
       " 'Mover hueco izquierda',\n",
       " 'Mover hueco arriba',\n",
       " 'Mover hueco izquierda',\n",
       " 'Mover hueco abajo',\n",
       " 'Mover hueco derecha',\n",
       " 'Mover hueco derecha',\n",
       " 'Mover hueco abajo']"
      ]
     },
     "execution_count": 56,
     "metadata": {},
     "output_type": "execute_result"
    }
   ],
   "source": [
    "astar_search(puzle,manhattan).solution()"
   ]
  },
  {
   "cell_type": "code",
   "execution_count": 40,
   "metadata": {},
   "outputs": [
    {
     "data": {
      "text/plain": [
       "(2, 4, 3, 1, 5, 6, 7, 8, 0)"
      ]
     },
     "execution_count": 40,
     "metadata": {},
     "output_type": "execute_result"
    }
   ],
   "source": [
    "puzle.initial"
   ]
  },
  {
   "cell_type": "code",
   "execution_count": 41,
   "metadata": {},
   "outputs": [
    {
     "data": {
      "text/plain": [
       "(1, 2, 3, 4, 5, 6, 7, 8, 0)"
      ]
     },
     "execution_count": 41,
     "metadata": {},
     "output_type": "execute_result"
    }
   ],
   "source": [
    "puzle.goal"
   ]
  },
  {
   "cell_type": "code",
   "execution_count": 58,
   "metadata": {},
   "outputs": [
    {
     "data": {
      "text/plain": [
       "['Mover hueco arriba',\n",
       " 'Mover hueco izquierda',\n",
       " 'Mover hueco arriba',\n",
       " 'Mover hueco izquierda',\n",
       " 'Mover hueco abajo',\n",
       " 'Mover hueco derecha',\n",
       " 'Mover hueco derecha',\n",
       " 'Mover hueco abajo']"
      ]
     },
     "execution_count": 58,
     "metadata": {},
     "output_type": "execute_result"
    }
   ],
   "source": [
    "astar_search(puzle,linear).solution()"
   ]
  },
  {
   "cell_type": "code",
   "execution_count": 59,
   "metadata": {},
   "outputs": [
    {
     "data": {
      "text/plain": [
       "['Mover hueco arriba',\n",
       " 'Mover hueco izquierda',\n",
       " 'Mover hueco arriba',\n",
       " 'Mover hueco izquierda',\n",
       " 'Mover hueco abajo',\n",
       " 'Mover hueco derecha',\n",
       " 'Mover hueco derecha',\n",
       " 'Mover hueco abajo']"
      ]
     },
     "execution_count": 59,
     "metadata": {},
     "output_type": "execute_result"
    }
   ],
   "source": [
    "astar_search(puzle,max_heuristic).solution()"
   ]
  },
  {
   "cell_type": "markdown",
   "metadata": {},
   "source": [
    "¿Has notado diferencias en los tiempos de ejecución? ¿y en los resultados?\n",
    "Vamos a medirlo "
   ]
  },
  {
   "cell_type": "code",
   "execution_count": 60,
   "metadata": {},
   "outputs": [],
   "source": [
    "puzzle_1 = Ocho_Puzzle((2, 4, 3, 1, 5, 6, 7, 8, 0))\n",
    "puzzle_2 = Ocho_Puzzle((1, 2, 3, 4, 5, 6, 0, 7, 8))\n",
    "puzzle_3 = Ocho_Puzzle((1, 2, 3, 4, 5, 7, 8, 6, 0))"
   ]
  },
  {
   "cell_type": "code",
   "execution_count": 61,
   "metadata": {},
   "outputs": [
    {
     "name": "stdout",
     "output_type": "stream",
     "text": [
      "6.36 ms ± 327 µs per loop (mean ± std. dev. of 7 runs, 100 loops each)\n"
     ]
    }
   ],
   "source": [
    "%%timeit\n",
    "# timeit -n 1 -r 1\n",
    "astar_search(puzzle_1, linear)\n",
    "astar_search(puzzle_2, linear)\n",
    "astar_search(puzzle_3, linear)"
   ]
  },
  {
   "cell_type": "code",
   "execution_count": 62,
   "metadata": {},
   "outputs": [
    {
     "name": "stdout",
     "output_type": "stream",
     "text": [
      "23.3 ms ± 1.12 ms per loop (mean ± std. dev. of 7 runs, 10 loops each)\n"
     ]
    }
   ],
   "source": [
    "%%timeit\n",
    "astar_search(puzzle_1, manhattan)\n",
    "astar_search(puzzle_2, manhattan)\n",
    "astar_search(puzzle_3, manhattan)"
   ]
  },
  {
   "cell_type": "code",
   "execution_count": 69,
   "metadata": {},
   "outputs": [
    {
     "name": "stdout",
     "output_type": "stream",
     "text": [
      "365 ms ± 10.6 ms per loop (mean ± std. dev. of 7 runs, 1 loop each)\n"
     ]
    }
   ],
   "source": [
    "%%timeit\n",
    "astar_search(puzzle_1, sqrt_manhattan)\n",
    "astar_search(puzzle_2, sqrt_manhattan)\n",
    "astar_search(puzzle_3, sqrt_manhattan)"
   ]
  },
  {
   "cell_type": "code",
   "execution_count": 70,
   "metadata": {},
   "outputs": [
    {
     "name": "stdout",
     "output_type": "stream",
     "text": [
      "22.8 ms ± 1.08 ms per loop (mean ± std. dev. of 7 runs, 10 loops each)\n"
     ]
    }
   ],
   "source": [
    "%%timeit\n",
    "astar_search(puzzle_1, max_heuristic)\n",
    "astar_search(puzzle_2, max_heuristic)\n",
    "astar_search(puzzle_3, max_heuristic)"
   ]
  },
  {
   "cell_type": "markdown",
   "metadata": {},
   "source": [
    "####  Realiza pruebas también con el puzle de 16 con los estados iniciales que quieras.  Escribe aquí tus conclusiones sobre qué heurística te parece mejor para este problema.  \n",
    "\n",
    "Ten en cuenta que el número de posibles estados iniciales es n!, siendo n el número de fichas (números y hueco). Por tanto, en el puzle 4x4 (16 fichas), tendremos más de 130.000 millones de posibles estados iniciales. Sin embargo, sólo la mitad de esas combinaciones tiene solución. En el caso del siguiente estado inicial que sí tiene solución: (1,2,3,4,5,6,7,8,9,10,12,15,13,14,11,0) indica los nodos generados por A* con alguna de las heurísticas y comparalo con el puzle de 8.\n",
    "\n",
    "\n",
    "\n",
    "#### Justifica claramente la respuesta basándote en los resultados esperados  (según las clases teóricas) y los resultados obtenidos en las pruebas anteriores.\n",
    "\n",
    "Pienso que la mejor heurística viene siendo la Manhattan, considerando que a pesar de tener un resultado de 23.3ms, se ve que tuvo 10 bucles por run, mientras que el Linear tuvo 100. Esto puede impactar el procesamiento en el futuro con una carga mas grande, pero si consideramos unos estados iniciales relativamente sencillos. Se vió en clase que el Linear tiene un menor coste de distancia que el manhattan, y lógicamente se escogería para resolver este tipo de busqueda de estados de solución, pero en el futuro presciento que es mas comendable utilizar el manhattan.\n",
    "\n",
    "----------------------------------------------------------------------------\n",
    "----------------------------------------------------------------------------\n",
    "----------------------------------------------------------------------------\n",
    "----------------------------------------------------------------------------\n",
    "----------------------------------------------------------------------------\n",
    "----------------------------------------------------------------------------\n",
    "----------------------------------------------------------------------------\n",
    "----------------------------------------------------------------------------\n"
   ]
  },
  {
   "cell_type": "markdown",
   "metadata": {},
   "source": [
    "## Parte III:  Calcular estadísticas sobre la ejecución de los algoritmos para resolución de problemas de ocho puzzle. \n",
    "### El objetivo es comprobar experimentalmente las propiedades teóricas de los algoritmos vistas en clase.\n",
    "Usaremos la función %timeit para medir los tiempos y para el espacio una version modificada de Problema que almacena el número de nodos.\n",
    "\n"
   ]
  },
  {
   "cell_type": "markdown",
   "metadata": {},
   "source": [
    "En la clase modificada también vamos a incluir el calculo que nos diga si un cierto tablero tiene solución o no. Esto es muy útil.. como hemos comentado al principio solo algunos tableros tienen solucion. En el caso del puzle de 8 un tablero se ha demostrado que se puede comprobar calculando su paridad (o número de inversiones). Si es impar el tablero **no** tiene solución.  El concepto de inversión de una ficha será la suma del número de fichas que se encuentran en una posición superior a dicha ficha y que deberían estar situadas en una posición inferior. La inversión total será la suma de las inversiones individuales. Si este número es par, el puzzle tendrá solución. En caso contrario, no habrá solución. "
   ]
  },
  {
   "cell_type": "code",
   "execution_count": 7,
   "metadata": {},
   "outputs": [],
   "source": [
    "# Hacemos una definición ampliada de la clase Problem de AIMA que nos va a permitir experimentar con distintos\n",
    "# estados iniciales, algoritmos y heurísticas. \n",
    "\n",
    "# Añadimos en la clase ampliada la capacidad para contar el número de nodos analizados durante la\n",
    "# búsqueda:\n",
    "\n",
    "\n",
    "class Problema_con_Analizados(Problem):\n",
    "\n",
    "    \"\"\"Es un problema que se comporta exactamente igual que el que recibe al\n",
    "       inicializarse, y además incorpora unos atributos nuevos para almacenar el\n",
    "       número de nodos analizados durante la búsqueda. De esta manera, no\n",
    "       tenemos que modificar el código del algoritmo de búsqueda.\"\"\" \n",
    "         \n",
    "    def __init__(self, problem):\n",
    "        self.initial = problem.initial\n",
    "        self.problem = problem\n",
    "        self.analizados  = 0\n",
    "        self.goal = problem.goal\n",
    "\n",
    "    def actions(self, estado):\n",
    "        return self.problem.actions(estado)\n",
    "\n",
    "    def result(self, estado, accion):\n",
    "        return self.problem.result(estado, accion)\n",
    "\n",
    "    def goal_test(self, estado):\n",
    "        self.analizados += 1\n",
    "        return self.problem.goal_test(estado)\n",
    "\n",
    "    def coste_de_aplicar_accion(self, estado, accion):\n",
    "        return self.problem.coste_de_aplicar_accion(estado,accion)"
   ]
  },
  {
   "cell_type": "code",
   "execution_count": 24,
   "metadata": {},
   "outputs": [],
   "source": [
    "estado_inicial = (1,2,3,4,5,6,7,0,8)\n",
    "p8p=Problema_con_Analizados(Ocho_Puzzle(estado_inicial))\n",
    "p8 = Ocho_Puzzle(estado_inicial)"
   ]
  },
  {
   "cell_type": "code",
   "execution_count": 20,
   "metadata": {},
   "outputs": [
    {
     "data": {
      "text/plain": [
       "(1, 2, 3, 4, 5, 6, 7, 0, 8)"
      ]
     },
     "execution_count": 20,
     "metadata": {},
     "output_type": "execute_result"
    }
   ],
   "source": [
    "p8p.initial"
   ]
  },
  {
   "cell_type": "code",
   "execution_count": 21,
   "metadata": {},
   "outputs": [
    {
     "data": {
      "text/plain": [
       "(1, 2, 3, 4, 5, 6, 7, 8, 0)"
      ]
     },
     "execution_count": 21,
     "metadata": {},
     "output_type": "execute_result"
    }
   ],
   "source": [
    "p8p.goal"
   ]
  },
  {
   "cell_type": "code",
   "execution_count": 71,
   "metadata": {},
   "outputs": [
    {
     "data": {
      "text/plain": [
       "['Mover hueco arriba',\n",
       " 'Mover hueco izquierda',\n",
       " 'Mover hueco arriba',\n",
       " 'Mover hueco izquierda',\n",
       " 'Mover hueco abajo',\n",
       " 'Mover hueco derecha',\n",
       " 'Mover hueco derecha',\n",
       " 'Mover hueco abajo']"
      ]
     },
     "execution_count": 71,
     "metadata": {},
     "output_type": "execute_result"
    }
   ],
   "source": [
    "puzzle_1 = Ocho_Puzzle((2, 4, 3, 1, 5, 6, 7, 8, 0))\n",
    "astar_search(puzzle_1, manhattan).solution()"
   ]
  },
  {
   "cell_type": "code",
   "execution_count": 14,
   "metadata": {},
   "outputs": [],
   "source": [
    "#### 4.2. Para el problema del puzle de 8 y de 16 se pide definir  las siguientes funciones heurísticas: \n",
    "# linear(node) cuenta el número de casillas mal colocadas respecto al estado final.\n",
    "# manhattan(node): suma la distancia Manhattan desde cada casilla a la posición en la que debería estar en el estado final.\n",
    "# max_heuristic(node: maximo de las dos anteriores\n",
    "# sqrt_manhattan(node):  raíz cuadrada de la distancia Manhattan\n",
    "\n",
    "# Heuristicas para el 8 Puzzle. Puedes definir las funciones fuera de la clase ya que en la llamada a A* puedes pasar el nombre  de la función. \n",
    "\n",
    "import math\n",
    "\n",
    "def linear(node):\n",
    "    #goal = node.state.goal\n",
    "    goal = (1,2,3,4,5,6,7,8,0)\n",
    "    ln=0\n",
    "    for (i,j) in zip(node.state, goal):\n",
    "        if(i!=j):\n",
    "            ln+=1\n",
    "    return ln\n",
    "\n",
    "def manhattan(node):\n",
    "    cost = 0\n",
    "    mhd =0\n",
    "    state = node.state\n",
    "    goal = (1,2,3,4,5,6,7,8,0)\n",
    "    for i in state:\n",
    "        indexI = state.index(i)\n",
    "        indexJ = goal.index(i)\n",
    "        cost = (abs((indexJ - indexI))%3)+1\n",
    "        mhd+=cost\n",
    "        cost=0\n",
    "    return mhd\n",
    "                \n",
    "def sqrt_manhattan(node):\n",
    "    #state = node.state\n",
    "    mhd = manhattan(node)\n",
    "    return math.sqrt(mhd)\n",
    "\n",
    "def max_heuristic(node):\n",
    "    score1 = manhattan(node)\n",
    "    score2 = linear(node)\n",
    "    return max(score1, score2)\n",
    "        "
   ]
  },
  {
   "cell_type": "code",
   "execution_count": 72,
   "metadata": {},
   "outputs": [
    {
     "data": {
      "text/plain": [
       "['Mover hueco derecha']"
      ]
     },
     "execution_count": 72,
     "metadata": {},
     "output_type": "execute_result"
    }
   ],
   "source": [
    "astar_search(p8, manhattan).solution()"
   ]
  },
  {
   "cell_type": "code",
   "execution_count": 73,
   "metadata": {},
   "outputs": [
    {
     "data": {
      "text/plain": [
       "['Mover hueco derecha']"
      ]
     },
     "execution_count": 73,
     "metadata": {},
     "output_type": "execute_result"
    }
   ],
   "source": [
    "astar_search(p8p, manhattan).solution()"
   ]
  },
  {
   "cell_type": "code",
   "execution_count": 15,
   "metadata": {},
   "outputs": [],
   "source": [
    "def resuelve_ocho_puzzle(estado_inicial, algoritmo, h=None):\n",
    "    \"\"\"Función para aplicar un algoritmo de búsqueda dado al problema del ocho\n",
    "       puzzle, con un estado inicial dado y (cuando el algoritmo lo necesite)\n",
    "       una heurística dada.\n",
    "       Ejemplo de uso:\n",
    "           puzzle_1 = (2, 4, 3, 1, 5, 6, 7, 8, 0)\n",
    "           resuelve_ocho_puzzle(puzzle_1,astar_search,h2_ocho_puzzle)\n",
    "        Solución: ['Mover hueco arriba', 'Mover hueco izquierda', 'Mover hueco arriba', \n",
    "        'Mover hueco izquierda', 'Mover hueco abajo', 'Mover hueco derecha', 'Mover hueco derecha', 'Mover hueco abajo']\n",
    "        Algoritmo: astar_search\n",
    "        Heurística: h2_ocho_puzzle\n",
    "        Longitud de la solución: 8. Nodos analizados: 11\n",
    "       \"\"\"\n",
    "    p8=Ocho_Puzzle(estado_inicial)\n",
    "    p8p=Problema_con_Analizados(p8)\n",
    "    if p8.check_solvability(estado_inicial):\n",
    "        if h: \n",
    "            sol= algoritmo(p8p,h).solution()\n",
    "        else: \n",
    "            sol= algoritmo(p8p).solution()\n",
    "        print(\"Solución: {0}\".format(sol))\n",
    "        print(\"Algoritmo: {0}\".format(algoritmo.__name__))\n",
    "        if h: \n",
    "            print(\"Heurística: {0}\".format(h.__name__))\n",
    "        else:\n",
    "            pass\n",
    "        print(\"Longitud de la solución: {0}. Nodos analizados: {1}\".format(len(sol),p8p.analizados))\n",
    "    else: \n",
    "        print(\"Este problema no tiene solucion. \")\n"
   ]
  },
  {
   "cell_type": "code",
   "execution_count": 75,
   "metadata": {},
   "outputs": [
    {
     "name": "stdout",
     "output_type": "stream",
     "text": [
      "Solución: ['Mover hueco derecha']\n",
      "Algoritmo: astar_search\n",
      "Heurística: manhattan\n",
      "Longitud de la solución: 1. Nodos analizados: 2\n"
     ]
    }
   ],
   "source": [
    "resuelve_ocho_puzzle(estado_inicial,astar_search,manhattan)"
   ]
  },
  {
   "cell_type": "code",
   "execution_count": 18,
   "metadata": {},
   "outputs": [],
   "source": [
    "##BORRAR ESTO EN EL ENUNCIADO\n",
    "E1 = (2,7,3,4,6,8,1,0,5)\n",
    "E2 = (3,0,1,8,4,6,5,2,7)\n",
    "E3 = (4,5,6,1,0,3,7,8,2)\n",
    "E4 = (1,2,3,0,5,6,4,7,8)\n",
    "E5 = (0,8,7,6,5,4,3,2,1)\n",
    "#resuelve_ocho_puzzle(E5,astar_search,manhattan)"
   ]
  },
  {
   "cell_type": "code",
   "execution_count": 99,
   "metadata": {},
   "outputs": [
    {
     "ename": "KeyboardInterrupt",
     "evalue": "",
     "output_type": "error",
     "traceback": [
      "\u001b[0;31m---------------------------------------------------------------------------\u001b[0m",
      "\u001b[0;31mKeyboardInterrupt\u001b[0m                         Traceback (most recent call last)",
      "\u001b[0;32m/var/folders/42/k0333_056k56_th3b_jxr8vm0000gn/T/ipykernel_2718/1219913619.py\u001b[0m in \u001b[0;36m<module>\u001b[0;34m\u001b[0m\n\u001b[0;32m----> 1\u001b[0;31m \u001b[0mresuelve_ocho_puzzle\u001b[0m\u001b[0;34m(\u001b[0m\u001b[0mE5\u001b[0m\u001b[0;34m,\u001b[0m\u001b[0mastar_search\u001b[0m\u001b[0;34m,\u001b[0m\u001b[0mlinear\u001b[0m\u001b[0;34m)\u001b[0m\u001b[0;34m\u001b[0m\u001b[0;34m\u001b[0m\u001b[0m\n\u001b[0m",
      "\u001b[0;32m/var/folders/42/k0333_056k56_th3b_jxr8vm0000gn/T/ipykernel_2718/227161608.py\u001b[0m in \u001b[0;36mresuelve_ocho_puzzle\u001b[0;34m(estado_inicial, algoritmo, h)\u001b[0m\n\u001b[1;32m     16\u001b[0m     \u001b[0;32mif\u001b[0m \u001b[0mp8\u001b[0m\u001b[0;34m.\u001b[0m\u001b[0mcheck_solvability\u001b[0m\u001b[0;34m(\u001b[0m\u001b[0mestado_inicial\u001b[0m\u001b[0;34m)\u001b[0m\u001b[0;34m:\u001b[0m\u001b[0;34m\u001b[0m\u001b[0;34m\u001b[0m\u001b[0m\n\u001b[1;32m     17\u001b[0m         \u001b[0;32mif\u001b[0m \u001b[0mh\u001b[0m\u001b[0;34m:\u001b[0m\u001b[0;34m\u001b[0m\u001b[0;34m\u001b[0m\u001b[0m\n\u001b[0;32m---> 18\u001b[0;31m             \u001b[0msol\u001b[0m\u001b[0;34m=\u001b[0m \u001b[0malgoritmo\u001b[0m\u001b[0;34m(\u001b[0m\u001b[0mp8p\u001b[0m\u001b[0;34m,\u001b[0m\u001b[0mh\u001b[0m\u001b[0;34m)\u001b[0m\u001b[0;34m.\u001b[0m\u001b[0msolution\u001b[0m\u001b[0;34m(\u001b[0m\u001b[0;34m)\u001b[0m\u001b[0;34m\u001b[0m\u001b[0;34m\u001b[0m\u001b[0m\n\u001b[0m\u001b[1;32m     19\u001b[0m         \u001b[0;32melse\u001b[0m\u001b[0;34m:\u001b[0m\u001b[0;34m\u001b[0m\u001b[0;34m\u001b[0m\u001b[0m\n\u001b[1;32m     20\u001b[0m             \u001b[0msol\u001b[0m\u001b[0;34m=\u001b[0m \u001b[0malgoritmo\u001b[0m\u001b[0;34m(\u001b[0m\u001b[0mp8p\u001b[0m\u001b[0;34m)\u001b[0m\u001b[0;34m.\u001b[0m\u001b[0msolution\u001b[0m\u001b[0;34m(\u001b[0m\u001b[0;34m)\u001b[0m\u001b[0;34m\u001b[0m\u001b[0;34m\u001b[0m\u001b[0m\n",
      "\u001b[0;32m~/Desktop/SI/Sesión2.Resolución de problemas con búsqueda (AIMA)-20220217/aima/search.py\u001b[0m in \u001b[0;36mastar_search\u001b[0;34m(problem, h, display)\u001b[0m\n\u001b[1;32m    418\u001b[0m     else in your Problem subclass.\"\"\"\n\u001b[1;32m    419\u001b[0m     \u001b[0mh\u001b[0m \u001b[0;34m=\u001b[0m \u001b[0mmemoize\u001b[0m\u001b[0;34m(\u001b[0m\u001b[0mh\u001b[0m \u001b[0;32mor\u001b[0m \u001b[0mproblem\u001b[0m\u001b[0;34m.\u001b[0m\u001b[0mh\u001b[0m\u001b[0;34m,\u001b[0m \u001b[0;34m'h'\u001b[0m\u001b[0;34m)\u001b[0m\u001b[0;34m\u001b[0m\u001b[0;34m\u001b[0m\u001b[0m\n\u001b[0;32m--> 420\u001b[0;31m     \u001b[0;32mreturn\u001b[0m \u001b[0mbest_first_graph_search\u001b[0m\u001b[0;34m(\u001b[0m\u001b[0mproblem\u001b[0m\u001b[0;34m,\u001b[0m \u001b[0;32mlambda\u001b[0m \u001b[0mn\u001b[0m\u001b[0;34m:\u001b[0m \u001b[0mn\u001b[0m\u001b[0;34m.\u001b[0m\u001b[0mpath_cost\u001b[0m \u001b[0;34m+\u001b[0m \u001b[0mh\u001b[0m\u001b[0;34m(\u001b[0m\u001b[0mn\u001b[0m\u001b[0;34m)\u001b[0m\u001b[0;34m,\u001b[0m \u001b[0mdisplay\u001b[0m\u001b[0;34m)\u001b[0m\u001b[0;34m\u001b[0m\u001b[0;34m\u001b[0m\u001b[0m\n\u001b[0m\u001b[1;32m    421\u001b[0m \u001b[0;34m\u001b[0m\u001b[0m\n\u001b[1;32m    422\u001b[0m \u001b[0;34m\u001b[0m\u001b[0m\n",
      "\u001b[0;32m~/Desktop/SI/Sesión2.Resolución de problemas con búsqueda (AIMA)-20220217/aima/search.py\u001b[0m in \u001b[0;36mbest_first_graph_search\u001b[0;34m(problem, f, display)\u001b[0m\n\u001b[1;32m    279\u001b[0m         \u001b[0mexplored\u001b[0m\u001b[0;34m.\u001b[0m\u001b[0madd\u001b[0m\u001b[0;34m(\u001b[0m\u001b[0mnode\u001b[0m\u001b[0;34m.\u001b[0m\u001b[0mstate\u001b[0m\u001b[0;34m)\u001b[0m\u001b[0;34m\u001b[0m\u001b[0;34m\u001b[0m\u001b[0m\n\u001b[1;32m    280\u001b[0m         \u001b[0;32mfor\u001b[0m \u001b[0mchild\u001b[0m \u001b[0;32min\u001b[0m \u001b[0mnode\u001b[0m\u001b[0;34m.\u001b[0m\u001b[0mexpand\u001b[0m\u001b[0;34m(\u001b[0m\u001b[0mproblem\u001b[0m\u001b[0;34m)\u001b[0m\u001b[0;34m:\u001b[0m\u001b[0;34m\u001b[0m\u001b[0;34m\u001b[0m\u001b[0m\n\u001b[0;32m--> 281\u001b[0;31m             \u001b[0;32mif\u001b[0m \u001b[0mchild\u001b[0m\u001b[0;34m.\u001b[0m\u001b[0mstate\u001b[0m \u001b[0;32mnot\u001b[0m \u001b[0;32min\u001b[0m \u001b[0mexplored\u001b[0m \u001b[0;32mand\u001b[0m \u001b[0mchild\u001b[0m \u001b[0;32mnot\u001b[0m \u001b[0;32min\u001b[0m \u001b[0mfrontier\u001b[0m\u001b[0;34m:\u001b[0m\u001b[0;34m\u001b[0m\u001b[0;34m\u001b[0m\u001b[0m\n\u001b[0m\u001b[1;32m    282\u001b[0m                 \u001b[0mfrontier\u001b[0m\u001b[0;34m.\u001b[0m\u001b[0mappend\u001b[0m\u001b[0;34m(\u001b[0m\u001b[0mchild\u001b[0m\u001b[0;34m)\u001b[0m\u001b[0;34m\u001b[0m\u001b[0;34m\u001b[0m\u001b[0m\n\u001b[1;32m    283\u001b[0m             \u001b[0;32melif\u001b[0m \u001b[0mchild\u001b[0m \u001b[0;32min\u001b[0m \u001b[0mfrontier\u001b[0m\u001b[0;34m:\u001b[0m\u001b[0;34m\u001b[0m\u001b[0;34m\u001b[0m\u001b[0m\n",
      "\u001b[0;32m~/Desktop/SI/Sesión2.Resolución de problemas con búsqueda (AIMA)-20220217/aima/utils.py\u001b[0m in \u001b[0;36m__contains__\u001b[0;34m(self, key)\u001b[0m\n\u001b[1;32m    759\u001b[0m     \u001b[0;32mdef\u001b[0m \u001b[0m__contains__\u001b[0m\u001b[0;34m(\u001b[0m\u001b[0mself\u001b[0m\u001b[0;34m,\u001b[0m \u001b[0mkey\u001b[0m\u001b[0;34m)\u001b[0m\u001b[0;34m:\u001b[0m\u001b[0;34m\u001b[0m\u001b[0;34m\u001b[0m\u001b[0m\n\u001b[1;32m    760\u001b[0m         \u001b[0;34m\"\"\"Return True if the key is in PriorityQueue.\"\"\"\u001b[0m\u001b[0;34m\u001b[0m\u001b[0;34m\u001b[0m\u001b[0m\n\u001b[0;32m--> 761\u001b[0;31m         \u001b[0;32mreturn\u001b[0m \u001b[0many\u001b[0m\u001b[0;34m(\u001b[0m\u001b[0;34m[\u001b[0m\u001b[0mitem\u001b[0m \u001b[0;34m==\u001b[0m \u001b[0mkey\u001b[0m \u001b[0;32mfor\u001b[0m \u001b[0m_\u001b[0m\u001b[0;34m,\u001b[0m \u001b[0mitem\u001b[0m \u001b[0;32min\u001b[0m \u001b[0mself\u001b[0m\u001b[0;34m.\u001b[0m\u001b[0mheap\u001b[0m\u001b[0;34m]\u001b[0m\u001b[0;34m)\u001b[0m\u001b[0;34m\u001b[0m\u001b[0;34m\u001b[0m\u001b[0m\n\u001b[0m\u001b[1;32m    762\u001b[0m \u001b[0;34m\u001b[0m\u001b[0m\n\u001b[1;32m    763\u001b[0m     \u001b[0;32mdef\u001b[0m \u001b[0m__getitem__\u001b[0m\u001b[0;34m(\u001b[0m\u001b[0mself\u001b[0m\u001b[0;34m,\u001b[0m \u001b[0mkey\u001b[0m\u001b[0;34m)\u001b[0m\u001b[0;34m:\u001b[0m\u001b[0;34m\u001b[0m\u001b[0;34m\u001b[0m\u001b[0m\n",
      "\u001b[0;32m~/Desktop/SI/Sesión2.Resolución de problemas con búsqueda (AIMA)-20220217/aima/utils.py\u001b[0m in \u001b[0;36m<listcomp>\u001b[0;34m(.0)\u001b[0m\n\u001b[1;32m    759\u001b[0m     \u001b[0;32mdef\u001b[0m \u001b[0m__contains__\u001b[0m\u001b[0;34m(\u001b[0m\u001b[0mself\u001b[0m\u001b[0;34m,\u001b[0m \u001b[0mkey\u001b[0m\u001b[0;34m)\u001b[0m\u001b[0;34m:\u001b[0m\u001b[0;34m\u001b[0m\u001b[0;34m\u001b[0m\u001b[0m\n\u001b[1;32m    760\u001b[0m         \u001b[0;34m\"\"\"Return True if the key is in PriorityQueue.\"\"\"\u001b[0m\u001b[0;34m\u001b[0m\u001b[0;34m\u001b[0m\u001b[0m\n\u001b[0;32m--> 761\u001b[0;31m         \u001b[0;32mreturn\u001b[0m \u001b[0many\u001b[0m\u001b[0;34m(\u001b[0m\u001b[0;34m[\u001b[0m\u001b[0mitem\u001b[0m \u001b[0;34m==\u001b[0m \u001b[0mkey\u001b[0m \u001b[0;32mfor\u001b[0m \u001b[0m_\u001b[0m\u001b[0;34m,\u001b[0m \u001b[0mitem\u001b[0m \u001b[0;32min\u001b[0m \u001b[0mself\u001b[0m\u001b[0;34m.\u001b[0m\u001b[0mheap\u001b[0m\u001b[0;34m]\u001b[0m\u001b[0;34m)\u001b[0m\u001b[0;34m\u001b[0m\u001b[0;34m\u001b[0m\u001b[0m\n\u001b[0m\u001b[1;32m    762\u001b[0m \u001b[0;34m\u001b[0m\u001b[0m\n\u001b[1;32m    763\u001b[0m     \u001b[0;32mdef\u001b[0m \u001b[0m__getitem__\u001b[0m\u001b[0;34m(\u001b[0m\u001b[0mself\u001b[0m\u001b[0;34m,\u001b[0m \u001b[0mkey\u001b[0m\u001b[0;34m)\u001b[0m\u001b[0;34m:\u001b[0m\u001b[0;34m\u001b[0m\u001b[0;34m\u001b[0m\u001b[0m\n",
      "\u001b[0;32m~/Desktop/SI/Sesión2.Resolución de problemas con búsqueda (AIMA)-20220217/aima/search.py\u001b[0m in \u001b[0;36m__eq__\u001b[0;34m(self, other)\u001b[0m\n\u001b[1;32m    121\u001b[0m \u001b[0;34m\u001b[0m\u001b[0m\n\u001b[1;32m    122\u001b[0m     \u001b[0;32mdef\u001b[0m \u001b[0m__eq__\u001b[0m\u001b[0;34m(\u001b[0m\u001b[0mself\u001b[0m\u001b[0;34m,\u001b[0m \u001b[0mother\u001b[0m\u001b[0;34m)\u001b[0m\u001b[0;34m:\u001b[0m\u001b[0;34m\u001b[0m\u001b[0;34m\u001b[0m\u001b[0m\n\u001b[0;32m--> 123\u001b[0;31m         \u001b[0;32mreturn\u001b[0m \u001b[0misinstance\u001b[0m\u001b[0;34m(\u001b[0m\u001b[0mother\u001b[0m\u001b[0;34m,\u001b[0m \u001b[0mNode\u001b[0m\u001b[0;34m)\u001b[0m \u001b[0;32mand\u001b[0m \u001b[0mself\u001b[0m\u001b[0;34m.\u001b[0m\u001b[0mstate\u001b[0m \u001b[0;34m==\u001b[0m \u001b[0mother\u001b[0m\u001b[0;34m.\u001b[0m\u001b[0mstate\u001b[0m\u001b[0;34m\u001b[0m\u001b[0;34m\u001b[0m\u001b[0m\n\u001b[0m\u001b[1;32m    124\u001b[0m \u001b[0;34m\u001b[0m\u001b[0m\n\u001b[1;32m    125\u001b[0m     \u001b[0;32mdef\u001b[0m \u001b[0m__hash__\u001b[0m\u001b[0;34m(\u001b[0m\u001b[0mself\u001b[0m\u001b[0;34m)\u001b[0m\u001b[0;34m:\u001b[0m\u001b[0;34m\u001b[0m\u001b[0;34m\u001b[0m\u001b[0m\n",
      "\u001b[0;31mKeyboardInterrupt\u001b[0m: "
     ]
    }
   ],
   "source": [
    "resuelve_ocho_puzzle(E5,astar_search,linear)"
   ]
  },
  {
   "cell_type": "code",
   "execution_count": 97,
   "metadata": {},
   "outputs": [
    {
     "name": "stdout",
     "output_type": "stream",
     "text": [
      "Solución: ['Mover hueco abajo', 'Mover hueco derecha', 'Mover hueco arriba', 'Mover hueco izquierda', 'Mover hueco abajo', 'Mover hueco derecha', 'Mover hueco derecha', 'Mover hueco arriba', 'Mover hueco izquierda', 'Mover hueco izquierda', 'Mover hueco abajo', 'Mover hueco derecha', 'Mover hueco arriba', 'Mover hueco izquierda', 'Mover hueco abajo', 'Mover hueco derecha', 'Mover hueco abajo', 'Mover hueco derecha', 'Mover hueco arriba', 'Mover hueco izquierda', 'Mover hueco izquierda', 'Mover hueco abajo', 'Mover hueco derecha', 'Mover hueco arriba', 'Mover hueco derecha', 'Mover hueco arriba', 'Mover hueco izquierda', 'Mover hueco abajo', 'Mover hueco abajo', 'Mover hueco derecha', 'Mover hueco arriba', 'Mover hueco arriba', 'Mover hueco izquierda', 'Mover hueco abajo', 'Mover hueco derecha', 'Mover hueco abajo', 'Mover hueco izquierda', 'Mover hueco arriba', 'Mover hueco arriba', 'Mover hueco derecha', 'Mover hueco abajo', 'Mover hueco abajo', 'Mover hueco izquierda', 'Mover hueco arriba', 'Mover hueco izquierda', 'Mover hueco arriba', 'Mover hueco derecha', 'Mover hueco abajo', 'Mover hueco abajo', 'Mover hueco derecha', 'Mover hueco arriba', 'Mover hueco arriba', 'Mover hueco izquierda', 'Mover hueco izquierda', 'Mover hueco abajo', 'Mover hueco derecha', 'Mover hueco abajo', 'Mover hueco derecha', 'Mover hueco arriba', 'Mover hueco arriba', 'Mover hueco izquierda', 'Mover hueco abajo', 'Mover hueco izquierda', 'Mover hueco abajo', 'Mover hueco derecha', 'Mover hueco arriba', 'Mover hueco arriba', 'Mover hueco derecha', 'Mover hueco abajo', 'Mover hueco abajo', 'Mover hueco izquierda', 'Mover hueco arriba', 'Mover hueco izquierda', 'Mover hueco arriba', 'Mover hueco derecha', 'Mover hueco abajo', 'Mover hueco abajo', 'Mover hueco derecha', 'Mover hueco arriba', 'Mover hueco arriba', 'Mover hueco izquierda', 'Mover hueco izquierda', 'Mover hueco abajo', 'Mover hueco derecha', 'Mover hueco arriba', 'Mover hueco derecha', 'Mover hueco abajo', 'Mover hueco izquierda', 'Mover hueco izquierda', 'Mover hueco arriba', 'Mover hueco derecha', 'Mover hueco abajo', 'Mover hueco derecha', 'Mover hueco abajo', 'Mover hueco izquierda', 'Mover hueco arriba', 'Mover hueco arriba', 'Mover hueco derecha', 'Mover hueco abajo', 'Mover hueco abajo', 'Mover hueco izquierda', 'Mover hueco arriba', 'Mover hueco derecha', 'Mover hueco abajo', 'Mover hueco izquierda', 'Mover hueco arriba', 'Mover hueco derecha', 'Mover hueco arriba', 'Mover hueco izquierda', 'Mover hueco abajo', 'Mover hueco abajo', 'Mover hueco derecha']\n",
      "Algoritmo: best_first_graph_search\n",
      "Heurística: manhattan\n",
      "Longitud de la solución: 112. Nodos analizados: 321\n"
     ]
    }
   ],
   "source": [
    "resuelve_ocho_puzzle(E5,best_first_graph_search,manhattan)"
   ]
  },
  {
   "cell_type": "code",
   "execution_count": 21,
   "metadata": {},
   "outputs": [
    {
     "ename": "KeyboardInterrupt",
     "evalue": "",
     "output_type": "error",
     "traceback": [
      "\u001b[0;31m---------------------------------------------------------------------------\u001b[0m",
      "\u001b[0;31mKeyboardInterrupt\u001b[0m                         Traceback (most recent call last)",
      "\u001b[0;32m/var/folders/42/k0333_056k56_th3b_jxr8vm0000gn/T/ipykernel_46071/899929331.py\u001b[0m in \u001b[0;36m<module>\u001b[0;34m\u001b[0m\n\u001b[0;32m----> 1\u001b[0;31m \u001b[0mresuelve_ocho_puzzle\u001b[0m\u001b[0;34m(\u001b[0m\u001b[0mE3\u001b[0m\u001b[0;34m,\u001b[0m\u001b[0mdepth_first_graph_search\u001b[0m\u001b[0;34m)\u001b[0m\u001b[0;34m\u001b[0m\u001b[0;34m\u001b[0m\u001b[0m\n\u001b[0m",
      "\u001b[0;32m/var/folders/42/k0333_056k56_th3b_jxr8vm0000gn/T/ipykernel_46071/227161608.py\u001b[0m in \u001b[0;36mresuelve_ocho_puzzle\u001b[0;34m(estado_inicial, algoritmo, h)\u001b[0m\n\u001b[1;32m     18\u001b[0m             \u001b[0msol\u001b[0m\u001b[0;34m=\u001b[0m \u001b[0malgoritmo\u001b[0m\u001b[0;34m(\u001b[0m\u001b[0mp8p\u001b[0m\u001b[0;34m,\u001b[0m\u001b[0mh\u001b[0m\u001b[0;34m)\u001b[0m\u001b[0;34m.\u001b[0m\u001b[0msolution\u001b[0m\u001b[0;34m(\u001b[0m\u001b[0;34m)\u001b[0m\u001b[0;34m\u001b[0m\u001b[0;34m\u001b[0m\u001b[0m\n\u001b[1;32m     19\u001b[0m         \u001b[0;32melse\u001b[0m\u001b[0;34m:\u001b[0m\u001b[0;34m\u001b[0m\u001b[0;34m\u001b[0m\u001b[0m\n\u001b[0;32m---> 20\u001b[0;31m             \u001b[0msol\u001b[0m\u001b[0;34m=\u001b[0m \u001b[0malgoritmo\u001b[0m\u001b[0;34m(\u001b[0m\u001b[0mp8p\u001b[0m\u001b[0;34m)\u001b[0m\u001b[0;34m.\u001b[0m\u001b[0msolution\u001b[0m\u001b[0;34m(\u001b[0m\u001b[0;34m)\u001b[0m\u001b[0;34m\u001b[0m\u001b[0;34m\u001b[0m\u001b[0m\n\u001b[0m\u001b[1;32m     21\u001b[0m         \u001b[0mprint\u001b[0m\u001b[0;34m(\u001b[0m\u001b[0;34m\"Solución: {0}\"\u001b[0m\u001b[0;34m.\u001b[0m\u001b[0mformat\u001b[0m\u001b[0;34m(\u001b[0m\u001b[0msol\u001b[0m\u001b[0;34m)\u001b[0m\u001b[0;34m)\u001b[0m\u001b[0;34m\u001b[0m\u001b[0;34m\u001b[0m\u001b[0m\n\u001b[1;32m     22\u001b[0m         \u001b[0mprint\u001b[0m\u001b[0;34m(\u001b[0m\u001b[0;34m\"Algoritmo: {0}\"\u001b[0m\u001b[0;34m.\u001b[0m\u001b[0mformat\u001b[0m\u001b[0;34m(\u001b[0m\u001b[0malgoritmo\u001b[0m\u001b[0;34m.\u001b[0m\u001b[0m__name__\u001b[0m\u001b[0;34m)\u001b[0m\u001b[0;34m)\u001b[0m\u001b[0;34m\u001b[0m\u001b[0;34m\u001b[0m\u001b[0m\n",
      "\u001b[0;32m~/Desktop/SI/Sesión2.Resolución de problemas con búsqueda (AIMA)-20220217/aima/search.py\u001b[0m in \u001b[0;36mdepth_first_graph_search\u001b[0;34m(problem)\u001b[0m\n\u001b[1;32m    231\u001b[0m             \u001b[0;32mreturn\u001b[0m \u001b[0mnode\u001b[0m\u001b[0;34m\u001b[0m\u001b[0;34m\u001b[0m\u001b[0m\n\u001b[1;32m    232\u001b[0m         \u001b[0mexplored\u001b[0m\u001b[0;34m.\u001b[0m\u001b[0madd\u001b[0m\u001b[0;34m(\u001b[0m\u001b[0mnode\u001b[0m\u001b[0;34m.\u001b[0m\u001b[0mstate\u001b[0m\u001b[0;34m)\u001b[0m\u001b[0;34m\u001b[0m\u001b[0;34m\u001b[0m\u001b[0m\n\u001b[0;32m--> 233\u001b[0;31m         frontier.extend(child for child in node.expand(problem)\n\u001b[0m\u001b[1;32m    234\u001b[0m                         if child.state not in explored and child not in frontier)\n\u001b[1;32m    235\u001b[0m     \u001b[0;32mreturn\u001b[0m \u001b[0;32mNone\u001b[0m\u001b[0;34m\u001b[0m\u001b[0;34m\u001b[0m\u001b[0m\n",
      "\u001b[0;32m~/Desktop/SI/Sesión2.Resolución de problemas con búsqueda (AIMA)-20220217/aima/search.py\u001b[0m in \u001b[0;36m<genexpr>\u001b[0;34m(.0)\u001b[0m\n\u001b[1;32m    232\u001b[0m         \u001b[0mexplored\u001b[0m\u001b[0;34m.\u001b[0m\u001b[0madd\u001b[0m\u001b[0;34m(\u001b[0m\u001b[0mnode\u001b[0m\u001b[0;34m.\u001b[0m\u001b[0mstate\u001b[0m\u001b[0;34m)\u001b[0m\u001b[0;34m\u001b[0m\u001b[0;34m\u001b[0m\u001b[0m\n\u001b[1;32m    233\u001b[0m         frontier.extend(child for child in node.expand(problem)\n\u001b[0;32m--> 234\u001b[0;31m                         if child.state not in explored and child not in frontier)\n\u001b[0m\u001b[1;32m    235\u001b[0m     \u001b[0;32mreturn\u001b[0m \u001b[0;32mNone\u001b[0m\u001b[0;34m\u001b[0m\u001b[0;34m\u001b[0m\u001b[0m\n\u001b[1;32m    236\u001b[0m \u001b[0;34m\u001b[0m\u001b[0m\n",
      "\u001b[0;32m~/Desktop/SI/Sesión2.Resolución de problemas con búsqueda (AIMA)-20220217/aima/search.py\u001b[0m in \u001b[0;36m__eq__\u001b[0;34m(self, other)\u001b[0m\n\u001b[1;32m    121\u001b[0m \u001b[0;34m\u001b[0m\u001b[0m\n\u001b[1;32m    122\u001b[0m     \u001b[0;32mdef\u001b[0m \u001b[0m__eq__\u001b[0m\u001b[0;34m(\u001b[0m\u001b[0mself\u001b[0m\u001b[0;34m,\u001b[0m \u001b[0mother\u001b[0m\u001b[0;34m)\u001b[0m\u001b[0;34m:\u001b[0m\u001b[0;34m\u001b[0m\u001b[0;34m\u001b[0m\u001b[0m\n\u001b[0;32m--> 123\u001b[0;31m         \u001b[0;32mreturn\u001b[0m \u001b[0misinstance\u001b[0m\u001b[0;34m(\u001b[0m\u001b[0mother\u001b[0m\u001b[0;34m,\u001b[0m \u001b[0mNode\u001b[0m\u001b[0;34m)\u001b[0m \u001b[0;32mand\u001b[0m \u001b[0mself\u001b[0m\u001b[0;34m.\u001b[0m\u001b[0mstate\u001b[0m \u001b[0;34m==\u001b[0m \u001b[0mother\u001b[0m\u001b[0;34m.\u001b[0m\u001b[0mstate\u001b[0m\u001b[0;34m\u001b[0m\u001b[0;34m\u001b[0m\u001b[0m\n\u001b[0m\u001b[1;32m    124\u001b[0m \u001b[0;34m\u001b[0m\u001b[0m\n\u001b[1;32m    125\u001b[0m     \u001b[0;32mdef\u001b[0m \u001b[0m__hash__\u001b[0m\u001b[0;34m(\u001b[0m\u001b[0mself\u001b[0m\u001b[0;34m)\u001b[0m\u001b[0;34m:\u001b[0m\u001b[0;34m\u001b[0m\u001b[0;34m\u001b[0m\u001b[0m\n",
      "\u001b[0;31mKeyboardInterrupt\u001b[0m: "
     ]
    }
   ],
   "source": [
    "resuelve_ocho_puzzle(E3,depth_first_graph_search)"
   ]
  },
  {
   "cell_type": "code",
   "execution_count": 22,
   "metadata": {},
   "outputs": [
    {
     "ename": "KeyboardInterrupt",
     "evalue": "",
     "output_type": "error",
     "traceback": [
      "\u001b[0;31m---------------------------------------------------------------------------\u001b[0m",
      "\u001b[0;31mKeyboardInterrupt\u001b[0m                         Traceback (most recent call last)",
      "\u001b[0;32m/var/folders/42/k0333_056k56_th3b_jxr8vm0000gn/T/ipykernel_46071/3315265476.py\u001b[0m in \u001b[0;36m<module>\u001b[0;34m\u001b[0m\n\u001b[0;32m----> 1\u001b[0;31m \u001b[0mresuelve_ocho_puzzle\u001b[0m\u001b[0;34m(\u001b[0m\u001b[0mE1\u001b[0m\u001b[0;34m,\u001b[0m\u001b[0mbreadth_first_tree_search\u001b[0m\u001b[0;34m)\u001b[0m\u001b[0;34m\u001b[0m\u001b[0;34m\u001b[0m\u001b[0m\n\u001b[0m",
      "\u001b[0;32m/var/folders/42/k0333_056k56_th3b_jxr8vm0000gn/T/ipykernel_46071/227161608.py\u001b[0m in \u001b[0;36mresuelve_ocho_puzzle\u001b[0;34m(estado_inicial, algoritmo, h)\u001b[0m\n\u001b[1;32m     18\u001b[0m             \u001b[0msol\u001b[0m\u001b[0;34m=\u001b[0m \u001b[0malgoritmo\u001b[0m\u001b[0;34m(\u001b[0m\u001b[0mp8p\u001b[0m\u001b[0;34m,\u001b[0m\u001b[0mh\u001b[0m\u001b[0;34m)\u001b[0m\u001b[0;34m.\u001b[0m\u001b[0msolution\u001b[0m\u001b[0;34m(\u001b[0m\u001b[0;34m)\u001b[0m\u001b[0;34m\u001b[0m\u001b[0;34m\u001b[0m\u001b[0m\n\u001b[1;32m     19\u001b[0m         \u001b[0;32melse\u001b[0m\u001b[0;34m:\u001b[0m\u001b[0;34m\u001b[0m\u001b[0;34m\u001b[0m\u001b[0m\n\u001b[0;32m---> 20\u001b[0;31m             \u001b[0msol\u001b[0m\u001b[0;34m=\u001b[0m \u001b[0malgoritmo\u001b[0m\u001b[0;34m(\u001b[0m\u001b[0mp8p\u001b[0m\u001b[0;34m)\u001b[0m\u001b[0;34m.\u001b[0m\u001b[0msolution\u001b[0m\u001b[0;34m(\u001b[0m\u001b[0;34m)\u001b[0m\u001b[0;34m\u001b[0m\u001b[0;34m\u001b[0m\u001b[0m\n\u001b[0m\u001b[1;32m     21\u001b[0m         \u001b[0mprint\u001b[0m\u001b[0;34m(\u001b[0m\u001b[0;34m\"Solución: {0}\"\u001b[0m\u001b[0;34m.\u001b[0m\u001b[0mformat\u001b[0m\u001b[0;34m(\u001b[0m\u001b[0msol\u001b[0m\u001b[0;34m)\u001b[0m\u001b[0;34m)\u001b[0m\u001b[0;34m\u001b[0m\u001b[0;34m\u001b[0m\u001b[0m\n\u001b[1;32m     22\u001b[0m         \u001b[0mprint\u001b[0m\u001b[0;34m(\u001b[0m\u001b[0;34m\"Algoritmo: {0}\"\u001b[0m\u001b[0;34m.\u001b[0m\u001b[0mformat\u001b[0m\u001b[0;34m(\u001b[0m\u001b[0malgoritmo\u001b[0m\u001b[0;34m.\u001b[0m\u001b[0m__name__\u001b[0m\u001b[0;34m)\u001b[0m\u001b[0;34m)\u001b[0m\u001b[0;34m\u001b[0m\u001b[0;34m\u001b[0m\u001b[0m\n",
      "\u001b[0;32m~/Desktop/SI/Sesión2.Resolución de problemas con búsqueda (AIMA)-20220217/aima/search.py\u001b[0m in \u001b[0;36mbreadth_first_tree_search\u001b[0;34m(problem)\u001b[0m\n\u001b[1;32m    191\u001b[0m         \u001b[0;32mif\u001b[0m \u001b[0mproblem\u001b[0m\u001b[0;34m.\u001b[0m\u001b[0mgoal_test\u001b[0m\u001b[0;34m(\u001b[0m\u001b[0mnode\u001b[0m\u001b[0;34m.\u001b[0m\u001b[0mstate\u001b[0m\u001b[0;34m)\u001b[0m\u001b[0;34m:\u001b[0m\u001b[0;34m\u001b[0m\u001b[0;34m\u001b[0m\u001b[0m\n\u001b[1;32m    192\u001b[0m             \u001b[0;32mreturn\u001b[0m \u001b[0mnode\u001b[0m\u001b[0;34m\u001b[0m\u001b[0;34m\u001b[0m\u001b[0m\n\u001b[0;32m--> 193\u001b[0;31m         \u001b[0mfrontier\u001b[0m\u001b[0;34m.\u001b[0m\u001b[0mextend\u001b[0m\u001b[0;34m(\u001b[0m\u001b[0mnode\u001b[0m\u001b[0;34m.\u001b[0m\u001b[0mexpand\u001b[0m\u001b[0;34m(\u001b[0m\u001b[0mproblem\u001b[0m\u001b[0;34m)\u001b[0m\u001b[0;34m)\u001b[0m\u001b[0;34m\u001b[0m\u001b[0;34m\u001b[0m\u001b[0m\n\u001b[0m\u001b[1;32m    194\u001b[0m     \u001b[0;32mreturn\u001b[0m \u001b[0;32mNone\u001b[0m\u001b[0;34m\u001b[0m\u001b[0;34m\u001b[0m\u001b[0m\n\u001b[1;32m    195\u001b[0m \u001b[0;34m\u001b[0m\u001b[0m\n",
      "\u001b[0;32m~/Desktop/SI/Sesión2.Resolución de problemas con búsqueda (AIMA)-20220217/aima/search.py\u001b[0m in \u001b[0;36mexpand\u001b[0;34m(self, problem)\u001b[0m\n\u001b[1;32m     94\u001b[0m     \u001b[0;32mdef\u001b[0m \u001b[0mexpand\u001b[0m\u001b[0;34m(\u001b[0m\u001b[0mself\u001b[0m\u001b[0;34m,\u001b[0m \u001b[0mproblem\u001b[0m\u001b[0;34m)\u001b[0m\u001b[0;34m:\u001b[0m\u001b[0;34m\u001b[0m\u001b[0;34m\u001b[0m\u001b[0m\n\u001b[1;32m     95\u001b[0m         \u001b[0;34m\"\"\"List the nodes reachable in one step from this node.\"\"\"\u001b[0m\u001b[0;34m\u001b[0m\u001b[0;34m\u001b[0m\u001b[0m\n\u001b[0;32m---> 96\u001b[0;31m         return [self.child_node(problem, action)\n\u001b[0m\u001b[1;32m     97\u001b[0m                 for action in problem.actions(self.state)]\n\u001b[1;32m     98\u001b[0m \u001b[0;34m\u001b[0m\u001b[0m\n",
      "\u001b[0;32m~/Desktop/SI/Sesión2.Resolución de problemas con búsqueda (AIMA)-20220217/aima/search.py\u001b[0m in \u001b[0;36m<listcomp>\u001b[0;34m(.0)\u001b[0m\n\u001b[1;32m     94\u001b[0m     \u001b[0;32mdef\u001b[0m \u001b[0mexpand\u001b[0m\u001b[0;34m(\u001b[0m\u001b[0mself\u001b[0m\u001b[0;34m,\u001b[0m \u001b[0mproblem\u001b[0m\u001b[0;34m)\u001b[0m\u001b[0;34m:\u001b[0m\u001b[0;34m\u001b[0m\u001b[0;34m\u001b[0m\u001b[0m\n\u001b[1;32m     95\u001b[0m         \u001b[0;34m\"\"\"List the nodes reachable in one step from this node.\"\"\"\u001b[0m\u001b[0;34m\u001b[0m\u001b[0;34m\u001b[0m\u001b[0m\n\u001b[0;32m---> 96\u001b[0;31m         return [self.child_node(problem, action)\n\u001b[0m\u001b[1;32m     97\u001b[0m                 for action in problem.actions(self.state)]\n\u001b[1;32m     98\u001b[0m \u001b[0;34m\u001b[0m\u001b[0m\n",
      "\u001b[0;32m~/Desktop/SI/Sesión2.Resolución de problemas con búsqueda (AIMA)-20220217/aima/search.py\u001b[0m in \u001b[0;36mchild_node\u001b[0;34m(self, problem, action)\u001b[0m\n\u001b[1;32m    100\u001b[0m         \u001b[0;34m\"\"\"[Figure 3.10]\"\"\"\u001b[0m\u001b[0;34m\u001b[0m\u001b[0;34m\u001b[0m\u001b[0m\n\u001b[1;32m    101\u001b[0m         \u001b[0mnext_state\u001b[0m \u001b[0;34m=\u001b[0m \u001b[0mproblem\u001b[0m\u001b[0;34m.\u001b[0m\u001b[0mresult\u001b[0m\u001b[0;34m(\u001b[0m\u001b[0mself\u001b[0m\u001b[0;34m.\u001b[0m\u001b[0mstate\u001b[0m\u001b[0;34m,\u001b[0m \u001b[0maction\u001b[0m\u001b[0;34m)\u001b[0m\u001b[0;34m\u001b[0m\u001b[0;34m\u001b[0m\u001b[0m\n\u001b[0;32m--> 102\u001b[0;31m         \u001b[0mnext_node\u001b[0m \u001b[0;34m=\u001b[0m \u001b[0mNode\u001b[0m\u001b[0;34m(\u001b[0m\u001b[0mnext_state\u001b[0m\u001b[0;34m,\u001b[0m \u001b[0mself\u001b[0m\u001b[0;34m,\u001b[0m \u001b[0maction\u001b[0m\u001b[0;34m,\u001b[0m \u001b[0mproblem\u001b[0m\u001b[0;34m.\u001b[0m\u001b[0mpath_cost\u001b[0m\u001b[0;34m(\u001b[0m\u001b[0mself\u001b[0m\u001b[0;34m.\u001b[0m\u001b[0mpath_cost\u001b[0m\u001b[0;34m,\u001b[0m \u001b[0mself\u001b[0m\u001b[0;34m.\u001b[0m\u001b[0mstate\u001b[0m\u001b[0;34m,\u001b[0m \u001b[0maction\u001b[0m\u001b[0;34m,\u001b[0m \u001b[0mnext_state\u001b[0m\u001b[0;34m)\u001b[0m\u001b[0;34m)\u001b[0m\u001b[0;34m\u001b[0m\u001b[0;34m\u001b[0m\u001b[0m\n\u001b[0m\u001b[1;32m    103\u001b[0m         \u001b[0;32mreturn\u001b[0m \u001b[0mnext_node\u001b[0m\u001b[0;34m\u001b[0m\u001b[0;34m\u001b[0m\u001b[0m\n\u001b[1;32m    104\u001b[0m \u001b[0;34m\u001b[0m\u001b[0m\n",
      "\u001b[0;32m~/Desktop/SI/Sesión2.Resolución de problemas con búsqueda (AIMA)-20220217/aima/search.py\u001b[0m in \u001b[0;36m__init__\u001b[0;34m(self, state, parent, action, path_cost)\u001b[0m\n\u001b[1;32m     78\u001b[0m     \u001b[0;32mdef\u001b[0m \u001b[0m__init__\u001b[0m\u001b[0;34m(\u001b[0m\u001b[0mself\u001b[0m\u001b[0;34m,\u001b[0m \u001b[0mstate\u001b[0m\u001b[0;34m,\u001b[0m \u001b[0mparent\u001b[0m\u001b[0;34m=\u001b[0m\u001b[0;32mNone\u001b[0m\u001b[0;34m,\u001b[0m \u001b[0maction\u001b[0m\u001b[0;34m=\u001b[0m\u001b[0;32mNone\u001b[0m\u001b[0;34m,\u001b[0m \u001b[0mpath_cost\u001b[0m\u001b[0;34m=\u001b[0m\u001b[0;36m0\u001b[0m\u001b[0;34m)\u001b[0m\u001b[0;34m:\u001b[0m\u001b[0;34m\u001b[0m\u001b[0;34m\u001b[0m\u001b[0m\n\u001b[1;32m     79\u001b[0m         \u001b[0;34m\"\"\"Create a search tree Node, derived from a parent by an action.\"\"\"\u001b[0m\u001b[0;34m\u001b[0m\u001b[0;34m\u001b[0m\u001b[0m\n\u001b[0;32m---> 80\u001b[0;31m         \u001b[0mself\u001b[0m\u001b[0;34m.\u001b[0m\u001b[0mstate\u001b[0m \u001b[0;34m=\u001b[0m \u001b[0mstate\u001b[0m\u001b[0;34m\u001b[0m\u001b[0;34m\u001b[0m\u001b[0m\n\u001b[0m\u001b[1;32m     81\u001b[0m         \u001b[0mself\u001b[0m\u001b[0;34m.\u001b[0m\u001b[0mparent\u001b[0m \u001b[0;34m=\u001b[0m \u001b[0mparent\u001b[0m\u001b[0;34m\u001b[0m\u001b[0;34m\u001b[0m\u001b[0m\n\u001b[1;32m     82\u001b[0m         \u001b[0mself\u001b[0m\u001b[0;34m.\u001b[0m\u001b[0maction\u001b[0m \u001b[0;34m=\u001b[0m \u001b[0maction\u001b[0m\u001b[0;34m\u001b[0m\u001b[0;34m\u001b[0m\u001b[0m\n",
      "\u001b[0;31mKeyboardInterrupt\u001b[0m: "
     ]
    }
   ],
   "source": [
    "resuelve_ocho_puzzle(E1,breadth_first_tree_search)"
   ]
  },
  {
   "cell_type": "markdown",
   "metadata": {},
   "source": [
    "### Ejercicio 6:  resolver usando las distintas búsquedas y en su caso, las distintas heurísticas, el problema del 8 puzzle para los siguientes estados iniciales:\n",
    "\n",
    "E1 = (2,7,3,4,6,8,1,0,5)\n",
    "E2 = (3,0,1,8,4,6,5,2,7)\n",
    "E3 = (4,5,6,1,0,3,7,8,2)\n",
    "E4 = (1,2,3,0,5,6,4,7,8)\n",
    "E5 = (0,8,7,6,5,4,3,2,1)\n",
    "\n",
    "          E1              E2              E3              E4               E5\n",
    "           \n",
    "     +---+---+---+   +---+---+---+   +---+---+---+   +---+---+---+    +---+---+---+  \n",
    "     | 2 | 7 | 3 |   | 3 | 0 | 1 |   | 4 | 5 | 6 |   | 1 | 2 | 3 |    | H | 8 | 7 |\n",
    "     +---+---+---+   +---+---+---+   +---+---+---+   +---+---+---+    +---+---+---+\n",
    "     | 4 | 6 | 8 |   | 8 | 4 | 6 |   | 1 | 0 | 3 |   | H | 5 | 6 |    | 6 | 5 | 4 |\n",
    "     +---+---+---+   +---+---+---+   +---+---+---+   +---+---+---+    +---+---+---+\n",
    "     | 1 | H | 5 |   | 5 | 2 | 7 |   | 7 | 8 | 2 |   | 4 | 7 | 8 |    | 3 | 2 | 1 |\n",
    "     +---+---+---+   +---+---+---+   +---+---+---+   +---+---+---+    +---+---+---+\n",
    "   \n",
    " Se pide, en cada caso, obtener detalles del tiempo y espacio necesario para la resolución de estos estados.\n",
    " Hacerlo con la función resuelve_ocho_puzzle, para\n",
    " obtener, además de la solución, la longitud (el coste) de la solución\n",
    " obtenida y el número de nodos analizados. Anotar los resultados en la siguiente tabla (L, longitud de la solución, NA, nodos analizados, T, tiempo)\n",
    " \n",
    "-----------------------------------------------------------------------------------------\n",
    "                                       E1               E2                  E3              E4          E5\n",
    "    Anchura                            L=               L= No tiene sol.    L=              L=          L=\n",
    "                                       T=               T=                  T=              T=          T=\n",
    "                                       NA=              NA=                 NA=             NA=         NA=\n",
    "   \n",
    "    Profundidad                        L=               L= No tiene sol.    L=              L=          L=\n",
    "                                       T= <123m 55.3s   T=                  T=              T=          T=\n",
    "                                       NA=              NA=                 NA=             NA=         NA=\n",
    "                                       \n",
    "    Coste Uniforme                     L= 17            L= No tiene sol.    L= 20           L= 3        L=\n",
    "                                       T= 2m 38.5s      T=                  T= 28m 52.6s    T= 0.1s     T= <745m 18.4s\n",
    "                                       NA= 14105        NA=                 NA= 48428       NA= 13      NA=\n",
    "                                       \n",
    "    Primero el mejor (linear)          L= 43            L= No tiene sol.    L= 76           L= 3       L= 28\n",
    "                                       T= 0.3s          T=                  T= 0.3s         T= 0.8s    T= 0.1s\n",
    "                                       NA= 689          NA=                 NA= 748         NA= 4      NA= 29\n",
    "                                                                            \n",
    "    Primero el mejor (manhattan)       L= 63            L= No tiene sol.    L= 40           L= 3       L= 112\n",
    "                                       T= 0.1s          T=                  T= 0.1s         T= 0.8s    T= 0.2s\n",
    "                                       NA= 300          NA=                 NA= 200         NA= 5      NA= 321\n",
    "                                                                             \n",
    "    A* (linear)                        L= 17            L= No tiene sol.    L= 20           L= 3        L= \n",
    "                                       T= 0.3s          T=                  T= 1m 1.6s      T= 0.1s     T= <379m 13.3s y no terminó\n",
    "                                       NA= 660          NA=                 NA= 3377        NA= 4       NA= \n",
    "                                                                             \n",
    "    A* (manhattan)                     L= 17            L= No tiene sol.    L= 20           L= 3        L= 28\n",
    "                                       T= 0.6s          T=                  T= 6.6s         T= 0.9s     T= 10m 6.4s\n",
    "                                       NA= 1037         NA=                 NA= 3199        NA= 5       NA= 5\n",
    "\n",
    "\n",
    " -----------------------------------------------------------------------------------------\n",
    "PUEDES AMPLIAR LA TABLA CON PRUEBAS ADICIONALES. \n",
    "\n",
    "\n",
    "Los de profundidad y de anchura tomaron/tomarán mas tiempo en definir una solución. A pesar de que 4/5 estados si la tengan, en el de profundidad, como no tiene control de repetidos, se mete en un camino infinito. Por otro lado, en el de anchura, este no puede llegar rápidamente a los estados de solución debido a que tiene que ir nivel a nivel revisando los nodos, lo que toma mucho tiempo y coste.\n",
    "\n",
    "Como el de Coste Uniforme tiene una cola de prioridad y elige los caminos de mismo valor de forma random, toma menos tiempo en la mayoría de los casos; en el caso de E5, asumo que el coste de alguno de sus caminos es igual al de su profundidad, por lo que su cálculo resulta igual al de anchura.\n",
    "\n",
    "Los de Primero el Mejor tienen el mejor rendimiento. Percibo ya que tecnicamente el puzzle es una tupla, usando las funciones heurísticas Linear y Manhattan dieron lugar a un mejor rendimiento, ya que le primera simplemente cuenta las fichas que estan mal posicionadas como coste, mientras que la segunda cuenta cuanto tomaría para dicha ficha descolocada en llegar a su posición. Ya que se elige el primer nodo que contiene el mejor valor para llegar a dicho coste, entonces el proceso es relativamente rápido.\n",
    "\n",
    "Los de A* tuvieron el segundo mejor rendimiento, pero debido a que combina anchura con profundidad, me parece que se dió el caso con E5 en Linear donde en algun punto no se cumple la propiedad de consistencia (que la diferencia de las heurísticas del nodo-hijo y nodo-padre era menor o igual que el coste), por lo que afectó el control de repetidos, causando que se metiera en un camino infinito.\n",
    "\n",
    "\n",
    " **justificar los resultados con las distintas propiedades teóricas estudiadas en clase**.  \n",
    "\n"
   ]
  },
  {
   "cell_type": "code",
   "execution_count": 63,
   "metadata": {},
   "outputs": [],
   "source": [
    "def linearQuince(node):\n",
    "    #goal = node.state.goal\n",
    "    goal = (1,2,3,4,5,6,7,8,9,10,11,12,13,14,15,0)\n",
    "    ln=0\n",
    "    for (i,j) in zip(node.state, goal):\n",
    "        if(i!=j):\n",
    "            ln+=1\n",
    "    return ln\n",
    "\n",
    "def manhattanQuince(node):\n",
    "    cost = 0\n",
    "    mhd =0\n",
    "    state = node.state\n",
    "    goal = (1,2,3,4,5,6,7,8,9,10,11,12,13,14,15,0)\n",
    "    for i in state:\n",
    "        indexI = state.index(i)\n",
    "        indexJ = goal.index(i)\n",
    "        cost = (abs((indexJ - indexI))%4)+1\n",
    "        mhd+=cost\n",
    "        cost=0\n",
    "    return mhd\n",
    "                \n",
    "def sqrt_manhattanQuince(node):\n",
    "    #state = node.state\n",
    "    mhd = manhattan(node)\n",
    "    return math.sqrt(mhd)\n",
    "\n",
    "def max_heuristicQuince(node):\n",
    "    score1 = manhattan(node)\n",
    "    score2 = linear(node)\n",
    "    return max(score1, score2)"
   ]
  },
  {
   "cell_type": "code",
   "execution_count": 77,
   "metadata": {},
   "outputs": [],
   "source": [
    "QUIN1 = (1,2,3,4,0,6,7,8,9,5,10,11,12,13,14,15)\n",
    "QUIN2 = (15,3,2,4,5,1,10,14,9,11,7,0,13,8,12,6)"
   ]
  },
  {
   "cell_type": "code",
   "execution_count": 58,
   "metadata": {},
   "outputs": [],
   "source": [
    "def resuelve_quince_puzzle(estado_inicial, algoritmo, h=None):\n",
    "    pq=Quince_Puzzle(estado_inicial)\n",
    "    pqp=Problema_con_Analizados(pq)\n",
    "    if pq.check_solvability(estado_inicial):\n",
    "        if h: \n",
    "            sol= algoritmo(pqp,h).solution()\n",
    "        else: \n",
    "            sol= algoritmo(pqp).solution()\n",
    "        print(\"Solución: {0}\".format(sol))\n",
    "        print(\"Algoritmo: {0}\".format(algoritmo.__name__))\n",
    "        if h: \n",
    "            print(\"Heurística: {0}\".format(h.__name__))\n",
    "        else:\n",
    "            pass\n",
    "        print(\"Longitud de la solución: {0}. Nodos analizados: {1}\".format(len(sol),pqp.analizados))\n",
    "    else: \n",
    "        print(\"Este problema no tiene solucion. \")"
   ]
  },
  {
   "cell_type": "code",
   "execution_count": 73,
   "metadata": {},
   "outputs": [
    {
     "ename": "KeyboardInterrupt",
     "evalue": "",
     "output_type": "error",
     "traceback": [
      "\u001b[0;31m---------------------------------------------------------------------------\u001b[0m",
      "\u001b[0;31mKeyboardInterrupt\u001b[0m                         Traceback (most recent call last)",
      "\u001b[0;32m/var/folders/42/k0333_056k56_th3b_jxr8vm0000gn/T/ipykernel_46071/4073667888.py\u001b[0m in \u001b[0;36m<module>\u001b[0;34m\u001b[0m\n\u001b[0;32m----> 1\u001b[0;31m \u001b[0mresuelve_quince_puzzle\u001b[0m\u001b[0;34m(\u001b[0m\u001b[0mQUIN1\u001b[0m\u001b[0;34m,\u001b[0m\u001b[0mastar_search\u001b[0m\u001b[0;34m,\u001b[0m\u001b[0mlinearQuince\u001b[0m\u001b[0;34m)\u001b[0m\u001b[0;34m\u001b[0m\u001b[0;34m\u001b[0m\u001b[0m\n\u001b[0m",
      "\u001b[0;32m/var/folders/42/k0333_056k56_th3b_jxr8vm0000gn/T/ipykernel_46071/1722430721.py\u001b[0m in \u001b[0;36mresuelve_quince_puzzle\u001b[0;34m(estado_inicial, algoritmo, h)\u001b[0m\n\u001b[1;32m      4\u001b[0m     \u001b[0;32mif\u001b[0m \u001b[0mpq\u001b[0m\u001b[0;34m.\u001b[0m\u001b[0mcheck_solvability\u001b[0m\u001b[0;34m(\u001b[0m\u001b[0mestado_inicial\u001b[0m\u001b[0;34m)\u001b[0m\u001b[0;34m:\u001b[0m\u001b[0;34m\u001b[0m\u001b[0;34m\u001b[0m\u001b[0m\n\u001b[1;32m      5\u001b[0m         \u001b[0;32mif\u001b[0m \u001b[0mh\u001b[0m\u001b[0;34m:\u001b[0m\u001b[0;34m\u001b[0m\u001b[0;34m\u001b[0m\u001b[0m\n\u001b[0;32m----> 6\u001b[0;31m             \u001b[0msol\u001b[0m\u001b[0;34m=\u001b[0m \u001b[0malgoritmo\u001b[0m\u001b[0;34m(\u001b[0m\u001b[0mpqp\u001b[0m\u001b[0;34m,\u001b[0m\u001b[0mh\u001b[0m\u001b[0;34m)\u001b[0m\u001b[0;34m.\u001b[0m\u001b[0msolution\u001b[0m\u001b[0;34m(\u001b[0m\u001b[0;34m)\u001b[0m\u001b[0;34m\u001b[0m\u001b[0;34m\u001b[0m\u001b[0m\n\u001b[0m\u001b[1;32m      7\u001b[0m         \u001b[0;32melse\u001b[0m\u001b[0;34m:\u001b[0m\u001b[0;34m\u001b[0m\u001b[0;34m\u001b[0m\u001b[0m\n\u001b[1;32m      8\u001b[0m             \u001b[0msol\u001b[0m\u001b[0;34m=\u001b[0m \u001b[0malgoritmo\u001b[0m\u001b[0;34m(\u001b[0m\u001b[0mpqp\u001b[0m\u001b[0;34m)\u001b[0m\u001b[0;34m.\u001b[0m\u001b[0msolution\u001b[0m\u001b[0;34m(\u001b[0m\u001b[0;34m)\u001b[0m\u001b[0;34m\u001b[0m\u001b[0;34m\u001b[0m\u001b[0m\n",
      "\u001b[0;32m~/Desktop/SI/Sesión2.Resolución de problemas con búsqueda (AIMA)-20220217/aima/search.py\u001b[0m in \u001b[0;36mastar_search\u001b[0;34m(problem, h, display)\u001b[0m\n\u001b[1;32m    418\u001b[0m     else in your Problem subclass.\"\"\"\n\u001b[1;32m    419\u001b[0m     \u001b[0mh\u001b[0m \u001b[0;34m=\u001b[0m \u001b[0mmemoize\u001b[0m\u001b[0;34m(\u001b[0m\u001b[0mh\u001b[0m \u001b[0;32mor\u001b[0m \u001b[0mproblem\u001b[0m\u001b[0;34m.\u001b[0m\u001b[0mh\u001b[0m\u001b[0;34m,\u001b[0m \u001b[0;34m'h'\u001b[0m\u001b[0;34m)\u001b[0m\u001b[0;34m\u001b[0m\u001b[0;34m\u001b[0m\u001b[0m\n\u001b[0;32m--> 420\u001b[0;31m     \u001b[0;32mreturn\u001b[0m \u001b[0mbest_first_graph_search\u001b[0m\u001b[0;34m(\u001b[0m\u001b[0mproblem\u001b[0m\u001b[0;34m,\u001b[0m \u001b[0;32mlambda\u001b[0m \u001b[0mn\u001b[0m\u001b[0;34m:\u001b[0m \u001b[0mn\u001b[0m\u001b[0;34m.\u001b[0m\u001b[0mpath_cost\u001b[0m \u001b[0;34m+\u001b[0m \u001b[0mh\u001b[0m\u001b[0;34m(\u001b[0m\u001b[0mn\u001b[0m\u001b[0;34m)\u001b[0m\u001b[0;34m,\u001b[0m \u001b[0mdisplay\u001b[0m\u001b[0;34m)\u001b[0m\u001b[0;34m\u001b[0m\u001b[0;34m\u001b[0m\u001b[0m\n\u001b[0m\u001b[1;32m    421\u001b[0m \u001b[0;34m\u001b[0m\u001b[0m\n\u001b[1;32m    422\u001b[0m \u001b[0;34m\u001b[0m\u001b[0m\n",
      "\u001b[0;32m~/Desktop/SI/Sesión2.Resolución de problemas con búsqueda (AIMA)-20220217/aima/search.py\u001b[0m in \u001b[0;36mbest_first_graph_search\u001b[0;34m(problem, f, display)\u001b[0m\n\u001b[1;32m    281\u001b[0m             \u001b[0;32mif\u001b[0m \u001b[0mchild\u001b[0m\u001b[0;34m.\u001b[0m\u001b[0mstate\u001b[0m \u001b[0;32mnot\u001b[0m \u001b[0;32min\u001b[0m \u001b[0mexplored\u001b[0m \u001b[0;32mand\u001b[0m \u001b[0mchild\u001b[0m \u001b[0;32mnot\u001b[0m \u001b[0;32min\u001b[0m \u001b[0mfrontier\u001b[0m\u001b[0;34m:\u001b[0m\u001b[0;34m\u001b[0m\u001b[0;34m\u001b[0m\u001b[0m\n\u001b[1;32m    282\u001b[0m                 \u001b[0mfrontier\u001b[0m\u001b[0;34m.\u001b[0m\u001b[0mappend\u001b[0m\u001b[0;34m(\u001b[0m\u001b[0mchild\u001b[0m\u001b[0;34m)\u001b[0m\u001b[0;34m\u001b[0m\u001b[0;34m\u001b[0m\u001b[0m\n\u001b[0;32m--> 283\u001b[0;31m             \u001b[0;32melif\u001b[0m \u001b[0mchild\u001b[0m \u001b[0;32min\u001b[0m \u001b[0mfrontier\u001b[0m\u001b[0;34m:\u001b[0m\u001b[0;34m\u001b[0m\u001b[0;34m\u001b[0m\u001b[0m\n\u001b[0m\u001b[1;32m    284\u001b[0m                 \u001b[0;32mif\u001b[0m \u001b[0mf\u001b[0m\u001b[0;34m(\u001b[0m\u001b[0mchild\u001b[0m\u001b[0;34m)\u001b[0m \u001b[0;34m<\u001b[0m \u001b[0mfrontier\u001b[0m\u001b[0;34m[\u001b[0m\u001b[0mchild\u001b[0m\u001b[0;34m]\u001b[0m\u001b[0;34m:\u001b[0m\u001b[0;34m\u001b[0m\u001b[0;34m\u001b[0m\u001b[0m\n\u001b[1;32m    285\u001b[0m                     \u001b[0;32mdel\u001b[0m \u001b[0mfrontier\u001b[0m\u001b[0;34m[\u001b[0m\u001b[0mchild\u001b[0m\u001b[0;34m]\u001b[0m\u001b[0;34m\u001b[0m\u001b[0;34m\u001b[0m\u001b[0m\n",
      "\u001b[0;32m~/Desktop/SI/Sesión2.Resolución de problemas con búsqueda (AIMA)-20220217/aima/utils.py\u001b[0m in \u001b[0;36m__contains__\u001b[0;34m(self, key)\u001b[0m\n\u001b[1;32m    759\u001b[0m     \u001b[0;32mdef\u001b[0m \u001b[0m__contains__\u001b[0m\u001b[0;34m(\u001b[0m\u001b[0mself\u001b[0m\u001b[0;34m,\u001b[0m \u001b[0mkey\u001b[0m\u001b[0;34m)\u001b[0m\u001b[0;34m:\u001b[0m\u001b[0;34m\u001b[0m\u001b[0;34m\u001b[0m\u001b[0m\n\u001b[1;32m    760\u001b[0m         \u001b[0;34m\"\"\"Return True if the key is in PriorityQueue.\"\"\"\u001b[0m\u001b[0;34m\u001b[0m\u001b[0;34m\u001b[0m\u001b[0m\n\u001b[0;32m--> 761\u001b[0;31m         \u001b[0;32mreturn\u001b[0m \u001b[0many\u001b[0m\u001b[0;34m(\u001b[0m\u001b[0;34m[\u001b[0m\u001b[0mitem\u001b[0m \u001b[0;34m==\u001b[0m \u001b[0mkey\u001b[0m \u001b[0;32mfor\u001b[0m \u001b[0m_\u001b[0m\u001b[0;34m,\u001b[0m \u001b[0mitem\u001b[0m \u001b[0;32min\u001b[0m \u001b[0mself\u001b[0m\u001b[0;34m.\u001b[0m\u001b[0mheap\u001b[0m\u001b[0;34m]\u001b[0m\u001b[0;34m)\u001b[0m\u001b[0;34m\u001b[0m\u001b[0;34m\u001b[0m\u001b[0m\n\u001b[0m\u001b[1;32m    762\u001b[0m \u001b[0;34m\u001b[0m\u001b[0m\n\u001b[1;32m    763\u001b[0m     \u001b[0;32mdef\u001b[0m \u001b[0m__getitem__\u001b[0m\u001b[0;34m(\u001b[0m\u001b[0mself\u001b[0m\u001b[0;34m,\u001b[0m \u001b[0mkey\u001b[0m\u001b[0;34m)\u001b[0m\u001b[0;34m:\u001b[0m\u001b[0;34m\u001b[0m\u001b[0;34m\u001b[0m\u001b[0m\n",
      "\u001b[0;32m~/Desktop/SI/Sesión2.Resolución de problemas con búsqueda (AIMA)-20220217/aima/utils.py\u001b[0m in \u001b[0;36m<listcomp>\u001b[0;34m(.0)\u001b[0m\n\u001b[1;32m    759\u001b[0m     \u001b[0;32mdef\u001b[0m \u001b[0m__contains__\u001b[0m\u001b[0;34m(\u001b[0m\u001b[0mself\u001b[0m\u001b[0;34m,\u001b[0m \u001b[0mkey\u001b[0m\u001b[0;34m)\u001b[0m\u001b[0;34m:\u001b[0m\u001b[0;34m\u001b[0m\u001b[0;34m\u001b[0m\u001b[0m\n\u001b[1;32m    760\u001b[0m         \u001b[0;34m\"\"\"Return True if the key is in PriorityQueue.\"\"\"\u001b[0m\u001b[0;34m\u001b[0m\u001b[0;34m\u001b[0m\u001b[0m\n\u001b[0;32m--> 761\u001b[0;31m         \u001b[0;32mreturn\u001b[0m \u001b[0many\u001b[0m\u001b[0;34m(\u001b[0m\u001b[0;34m[\u001b[0m\u001b[0mitem\u001b[0m \u001b[0;34m==\u001b[0m \u001b[0mkey\u001b[0m \u001b[0;32mfor\u001b[0m \u001b[0m_\u001b[0m\u001b[0;34m,\u001b[0m \u001b[0mitem\u001b[0m \u001b[0;32min\u001b[0m \u001b[0mself\u001b[0m\u001b[0;34m.\u001b[0m\u001b[0mheap\u001b[0m\u001b[0;34m]\u001b[0m\u001b[0;34m)\u001b[0m\u001b[0;34m\u001b[0m\u001b[0;34m\u001b[0m\u001b[0m\n\u001b[0m\u001b[1;32m    762\u001b[0m \u001b[0;34m\u001b[0m\u001b[0m\n\u001b[1;32m    763\u001b[0m     \u001b[0;32mdef\u001b[0m \u001b[0m__getitem__\u001b[0m\u001b[0;34m(\u001b[0m\u001b[0mself\u001b[0m\u001b[0;34m,\u001b[0m \u001b[0mkey\u001b[0m\u001b[0;34m)\u001b[0m\u001b[0;34m:\u001b[0m\u001b[0;34m\u001b[0m\u001b[0;34m\u001b[0m\u001b[0m\n",
      "\u001b[0;31mKeyboardInterrupt\u001b[0m: "
     ]
    }
   ],
   "source": [
    "resuelve_quince_puzzle(QUIN1,astar_search,linearQuince)"
   ]
  },
  {
   "cell_type": "code",
   "execution_count": 74,
   "metadata": {},
   "outputs": [
    {
     "ename": "KeyboardInterrupt",
     "evalue": "",
     "output_type": "error",
     "traceback": [
      "\u001b[0;31m---------------------------------------------------------------------------\u001b[0m",
      "\u001b[0;31mKeyboardInterrupt\u001b[0m                         Traceback (most recent call last)",
      "\u001b[0;32m/var/folders/42/k0333_056k56_th3b_jxr8vm0000gn/T/ipykernel_46071/3599186171.py\u001b[0m in \u001b[0;36m<module>\u001b[0;34m\u001b[0m\n\u001b[0;32m----> 1\u001b[0;31m \u001b[0mresuelve_quince_puzzle\u001b[0m\u001b[0;34m(\u001b[0m\u001b[0mQUIN1\u001b[0m\u001b[0;34m,\u001b[0m\u001b[0mastar_search\u001b[0m\u001b[0;34m,\u001b[0m\u001b[0mmanhattanQuince\u001b[0m\u001b[0;34m)\u001b[0m\u001b[0;34m\u001b[0m\u001b[0;34m\u001b[0m\u001b[0m\n\u001b[0m",
      "\u001b[0;32m/var/folders/42/k0333_056k56_th3b_jxr8vm0000gn/T/ipykernel_46071/1722430721.py\u001b[0m in \u001b[0;36mresuelve_quince_puzzle\u001b[0;34m(estado_inicial, algoritmo, h)\u001b[0m\n\u001b[1;32m      4\u001b[0m     \u001b[0;32mif\u001b[0m \u001b[0mpq\u001b[0m\u001b[0;34m.\u001b[0m\u001b[0mcheck_solvability\u001b[0m\u001b[0;34m(\u001b[0m\u001b[0mestado_inicial\u001b[0m\u001b[0;34m)\u001b[0m\u001b[0;34m:\u001b[0m\u001b[0;34m\u001b[0m\u001b[0;34m\u001b[0m\u001b[0m\n\u001b[1;32m      5\u001b[0m         \u001b[0;32mif\u001b[0m \u001b[0mh\u001b[0m\u001b[0;34m:\u001b[0m\u001b[0;34m\u001b[0m\u001b[0;34m\u001b[0m\u001b[0m\n\u001b[0;32m----> 6\u001b[0;31m             \u001b[0msol\u001b[0m\u001b[0;34m=\u001b[0m \u001b[0malgoritmo\u001b[0m\u001b[0;34m(\u001b[0m\u001b[0mpqp\u001b[0m\u001b[0;34m,\u001b[0m\u001b[0mh\u001b[0m\u001b[0;34m)\u001b[0m\u001b[0;34m.\u001b[0m\u001b[0msolution\u001b[0m\u001b[0;34m(\u001b[0m\u001b[0;34m)\u001b[0m\u001b[0;34m\u001b[0m\u001b[0;34m\u001b[0m\u001b[0m\n\u001b[0m\u001b[1;32m      7\u001b[0m         \u001b[0;32melse\u001b[0m\u001b[0;34m:\u001b[0m\u001b[0;34m\u001b[0m\u001b[0;34m\u001b[0m\u001b[0m\n\u001b[1;32m      8\u001b[0m             \u001b[0msol\u001b[0m\u001b[0;34m=\u001b[0m \u001b[0malgoritmo\u001b[0m\u001b[0;34m(\u001b[0m\u001b[0mpqp\u001b[0m\u001b[0;34m)\u001b[0m\u001b[0;34m.\u001b[0m\u001b[0msolution\u001b[0m\u001b[0;34m(\u001b[0m\u001b[0;34m)\u001b[0m\u001b[0;34m\u001b[0m\u001b[0;34m\u001b[0m\u001b[0m\n",
      "\u001b[0;32m~/Desktop/SI/Sesión2.Resolución de problemas con búsqueda (AIMA)-20220217/aima/search.py\u001b[0m in \u001b[0;36mastar_search\u001b[0;34m(problem, h, display)\u001b[0m\n\u001b[1;32m    418\u001b[0m     else in your Problem subclass.\"\"\"\n\u001b[1;32m    419\u001b[0m     \u001b[0mh\u001b[0m \u001b[0;34m=\u001b[0m \u001b[0mmemoize\u001b[0m\u001b[0;34m(\u001b[0m\u001b[0mh\u001b[0m \u001b[0;32mor\u001b[0m \u001b[0mproblem\u001b[0m\u001b[0;34m.\u001b[0m\u001b[0mh\u001b[0m\u001b[0;34m,\u001b[0m \u001b[0;34m'h'\u001b[0m\u001b[0;34m)\u001b[0m\u001b[0;34m\u001b[0m\u001b[0;34m\u001b[0m\u001b[0m\n\u001b[0;32m--> 420\u001b[0;31m     \u001b[0;32mreturn\u001b[0m \u001b[0mbest_first_graph_search\u001b[0m\u001b[0;34m(\u001b[0m\u001b[0mproblem\u001b[0m\u001b[0;34m,\u001b[0m \u001b[0;32mlambda\u001b[0m \u001b[0mn\u001b[0m\u001b[0;34m:\u001b[0m \u001b[0mn\u001b[0m\u001b[0;34m.\u001b[0m\u001b[0mpath_cost\u001b[0m \u001b[0;34m+\u001b[0m \u001b[0mh\u001b[0m\u001b[0;34m(\u001b[0m\u001b[0mn\u001b[0m\u001b[0;34m)\u001b[0m\u001b[0;34m,\u001b[0m \u001b[0mdisplay\u001b[0m\u001b[0;34m)\u001b[0m\u001b[0;34m\u001b[0m\u001b[0;34m\u001b[0m\u001b[0m\n\u001b[0m\u001b[1;32m    421\u001b[0m \u001b[0;34m\u001b[0m\u001b[0m\n\u001b[1;32m    422\u001b[0m \u001b[0;34m\u001b[0m\u001b[0m\n",
      "\u001b[0;32m~/Desktop/SI/Sesión2.Resolución de problemas con búsqueda (AIMA)-20220217/aima/search.py\u001b[0m in \u001b[0;36mbest_first_graph_search\u001b[0;34m(problem, f, display)\u001b[0m\n\u001b[1;32m    279\u001b[0m         \u001b[0mexplored\u001b[0m\u001b[0;34m.\u001b[0m\u001b[0madd\u001b[0m\u001b[0;34m(\u001b[0m\u001b[0mnode\u001b[0m\u001b[0;34m.\u001b[0m\u001b[0mstate\u001b[0m\u001b[0;34m)\u001b[0m\u001b[0;34m\u001b[0m\u001b[0;34m\u001b[0m\u001b[0m\n\u001b[1;32m    280\u001b[0m         \u001b[0;32mfor\u001b[0m \u001b[0mchild\u001b[0m \u001b[0;32min\u001b[0m \u001b[0mnode\u001b[0m\u001b[0;34m.\u001b[0m\u001b[0mexpand\u001b[0m\u001b[0;34m(\u001b[0m\u001b[0mproblem\u001b[0m\u001b[0;34m)\u001b[0m\u001b[0;34m:\u001b[0m\u001b[0;34m\u001b[0m\u001b[0;34m\u001b[0m\u001b[0m\n\u001b[0;32m--> 281\u001b[0;31m             \u001b[0;32mif\u001b[0m \u001b[0mchild\u001b[0m\u001b[0;34m.\u001b[0m\u001b[0mstate\u001b[0m \u001b[0;32mnot\u001b[0m \u001b[0;32min\u001b[0m \u001b[0mexplored\u001b[0m \u001b[0;32mand\u001b[0m \u001b[0mchild\u001b[0m \u001b[0;32mnot\u001b[0m \u001b[0;32min\u001b[0m \u001b[0mfrontier\u001b[0m\u001b[0;34m:\u001b[0m\u001b[0;34m\u001b[0m\u001b[0;34m\u001b[0m\u001b[0m\n\u001b[0m\u001b[1;32m    282\u001b[0m                 \u001b[0mfrontier\u001b[0m\u001b[0;34m.\u001b[0m\u001b[0mappend\u001b[0m\u001b[0;34m(\u001b[0m\u001b[0mchild\u001b[0m\u001b[0;34m)\u001b[0m\u001b[0;34m\u001b[0m\u001b[0;34m\u001b[0m\u001b[0m\n\u001b[1;32m    283\u001b[0m             \u001b[0;32melif\u001b[0m \u001b[0mchild\u001b[0m \u001b[0;32min\u001b[0m \u001b[0mfrontier\u001b[0m\u001b[0;34m:\u001b[0m\u001b[0;34m\u001b[0m\u001b[0;34m\u001b[0m\u001b[0m\n",
      "\u001b[0;32m~/Desktop/SI/Sesión2.Resolución de problemas con búsqueda (AIMA)-20220217/aima/utils.py\u001b[0m in \u001b[0;36m__contains__\u001b[0;34m(self, key)\u001b[0m\n\u001b[1;32m    759\u001b[0m     \u001b[0;32mdef\u001b[0m \u001b[0m__contains__\u001b[0m\u001b[0;34m(\u001b[0m\u001b[0mself\u001b[0m\u001b[0;34m,\u001b[0m \u001b[0mkey\u001b[0m\u001b[0;34m)\u001b[0m\u001b[0;34m:\u001b[0m\u001b[0;34m\u001b[0m\u001b[0;34m\u001b[0m\u001b[0m\n\u001b[1;32m    760\u001b[0m         \u001b[0;34m\"\"\"Return True if the key is in PriorityQueue.\"\"\"\u001b[0m\u001b[0;34m\u001b[0m\u001b[0;34m\u001b[0m\u001b[0m\n\u001b[0;32m--> 761\u001b[0;31m         \u001b[0;32mreturn\u001b[0m \u001b[0many\u001b[0m\u001b[0;34m(\u001b[0m\u001b[0;34m[\u001b[0m\u001b[0mitem\u001b[0m \u001b[0;34m==\u001b[0m \u001b[0mkey\u001b[0m \u001b[0;32mfor\u001b[0m \u001b[0m_\u001b[0m\u001b[0;34m,\u001b[0m \u001b[0mitem\u001b[0m \u001b[0;32min\u001b[0m \u001b[0mself\u001b[0m\u001b[0;34m.\u001b[0m\u001b[0mheap\u001b[0m\u001b[0;34m]\u001b[0m\u001b[0;34m)\u001b[0m\u001b[0;34m\u001b[0m\u001b[0;34m\u001b[0m\u001b[0m\n\u001b[0m\u001b[1;32m    762\u001b[0m \u001b[0;34m\u001b[0m\u001b[0m\n\u001b[1;32m    763\u001b[0m     \u001b[0;32mdef\u001b[0m \u001b[0m__getitem__\u001b[0m\u001b[0;34m(\u001b[0m\u001b[0mself\u001b[0m\u001b[0;34m,\u001b[0m \u001b[0mkey\u001b[0m\u001b[0;34m)\u001b[0m\u001b[0;34m:\u001b[0m\u001b[0;34m\u001b[0m\u001b[0;34m\u001b[0m\u001b[0m\n",
      "\u001b[0;32m~/Desktop/SI/Sesión2.Resolución de problemas con búsqueda (AIMA)-20220217/aima/utils.py\u001b[0m in \u001b[0;36m<listcomp>\u001b[0;34m(.0)\u001b[0m\n\u001b[1;32m    759\u001b[0m     \u001b[0;32mdef\u001b[0m \u001b[0m__contains__\u001b[0m\u001b[0;34m(\u001b[0m\u001b[0mself\u001b[0m\u001b[0;34m,\u001b[0m \u001b[0mkey\u001b[0m\u001b[0;34m)\u001b[0m\u001b[0;34m:\u001b[0m\u001b[0;34m\u001b[0m\u001b[0;34m\u001b[0m\u001b[0m\n\u001b[1;32m    760\u001b[0m         \u001b[0;34m\"\"\"Return True if the key is in PriorityQueue.\"\"\"\u001b[0m\u001b[0;34m\u001b[0m\u001b[0;34m\u001b[0m\u001b[0m\n\u001b[0;32m--> 761\u001b[0;31m         \u001b[0;32mreturn\u001b[0m \u001b[0many\u001b[0m\u001b[0;34m(\u001b[0m\u001b[0;34m[\u001b[0m\u001b[0mitem\u001b[0m \u001b[0;34m==\u001b[0m \u001b[0mkey\u001b[0m \u001b[0;32mfor\u001b[0m \u001b[0m_\u001b[0m\u001b[0;34m,\u001b[0m \u001b[0mitem\u001b[0m \u001b[0;32min\u001b[0m \u001b[0mself\u001b[0m\u001b[0;34m.\u001b[0m\u001b[0mheap\u001b[0m\u001b[0;34m]\u001b[0m\u001b[0;34m)\u001b[0m\u001b[0;34m\u001b[0m\u001b[0;34m\u001b[0m\u001b[0m\n\u001b[0m\u001b[1;32m    762\u001b[0m \u001b[0;34m\u001b[0m\u001b[0m\n\u001b[1;32m    763\u001b[0m     \u001b[0;32mdef\u001b[0m \u001b[0m__getitem__\u001b[0m\u001b[0;34m(\u001b[0m\u001b[0mself\u001b[0m\u001b[0;34m,\u001b[0m \u001b[0mkey\u001b[0m\u001b[0;34m)\u001b[0m\u001b[0;34m:\u001b[0m\u001b[0;34m\u001b[0m\u001b[0;34m\u001b[0m\u001b[0m\n",
      "\u001b[0;32m~/Desktop/SI/Sesión2.Resolución de problemas con búsqueda (AIMA)-20220217/aima/search.py\u001b[0m in \u001b[0;36m__eq__\u001b[0;34m(self, other)\u001b[0m\n\u001b[1;32m    120\u001b[0m     \u001b[0;31m# want in other contexts.]\u001b[0m\u001b[0;34m\u001b[0m\u001b[0;34m\u001b[0m\u001b[0m\n\u001b[1;32m    121\u001b[0m \u001b[0;34m\u001b[0m\u001b[0m\n\u001b[0;32m--> 122\u001b[0;31m     \u001b[0;32mdef\u001b[0m \u001b[0m__eq__\u001b[0m\u001b[0;34m(\u001b[0m\u001b[0mself\u001b[0m\u001b[0;34m,\u001b[0m \u001b[0mother\u001b[0m\u001b[0;34m)\u001b[0m\u001b[0;34m:\u001b[0m\u001b[0;34m\u001b[0m\u001b[0;34m\u001b[0m\u001b[0m\n\u001b[0m\u001b[1;32m    123\u001b[0m         \u001b[0;32mreturn\u001b[0m \u001b[0misinstance\u001b[0m\u001b[0;34m(\u001b[0m\u001b[0mother\u001b[0m\u001b[0;34m,\u001b[0m \u001b[0mNode\u001b[0m\u001b[0;34m)\u001b[0m \u001b[0;32mand\u001b[0m \u001b[0mself\u001b[0m\u001b[0;34m.\u001b[0m\u001b[0mstate\u001b[0m \u001b[0;34m==\u001b[0m \u001b[0mother\u001b[0m\u001b[0;34m.\u001b[0m\u001b[0mstate\u001b[0m\u001b[0;34m\u001b[0m\u001b[0;34m\u001b[0m\u001b[0m\n\u001b[1;32m    124\u001b[0m \u001b[0;34m\u001b[0m\u001b[0m\n",
      "\u001b[0;31mKeyboardInterrupt\u001b[0m: "
     ]
    }
   ],
   "source": [
    "resuelve_quince_puzzle(QUIN1,astar_search,manhattanQuince)"
   ]
  },
  {
   "cell_type": "code",
   "execution_count": 69,
   "metadata": {},
   "outputs": [
    {
     "name": "stdout",
     "output_type": "stream",
     "text": [
      "Solución: ['Mover hueco derecha', 'Mover hueco abajo', 'Mover hueco derecha', 'Mover hueco derecha', 'Mover hueco derecha', 'Mover hueco derecha', 'Mover hueco derecha', 'Mover hueco derecha', 'Mover hueco arriba', 'Mover hueco derecha', 'Mover hueco arriba', 'Mover hueco arriba', 'Mover hueco derecha', 'Mover hueco abajo', 'Mover hueco izquierda', 'Mover hueco abajo', 'Mover hueco izquierda', 'Mover hueco izquierda', 'Mover hueco izquierda', 'Mover hueco arriba', 'Mover hueco derecha', 'Mover hueco abajo', 'Mover hueco derecha', 'Mover hueco abajo', 'Mover hueco izquierda', 'Mover hueco izquierda', 'Mover hueco arriba', 'Mover hueco arriba', 'Mover hueco derecha', 'Mover hueco abajo', 'Mover hueco izquierda', 'Mover hueco abajo', 'Mover hueco derecha', 'Mover hueco derecha', 'Mover hueco arriba', 'Mover hueco izquierda', 'Mover hueco arriba', 'Mover hueco derecha', 'Mover hueco abajo', 'Mover hueco izquierda', 'Mover hueco arriba', 'Mover hueco derecha', 'Mover hueco derecha', 'Mover hueco derecha', 'Mover hueco derecha', 'Mover hueco derecha', 'Mover hueco abajo', 'Mover hueco izquierda', 'Mover hueco izquierda', 'Mover hueco arriba', 'Mover hueco izquierda', 'Mover hueco abajo', 'Mover hueco derecha', 'Mover hueco derecha', 'Mover hueco derecha', 'Mover hueco arriba', 'Mover hueco derecha', 'Mover hueco arriba', 'Mover hueco izquierda', 'Mover hueco abajo', 'Mover hueco abajo']\n",
      "Algoritmo: best_first_graph_search\n",
      "Heurística: linearQuince\n",
      "Longitud de la solución: 61. Nodos analizados: 538\n"
     ]
    }
   ],
   "source": [
    "resuelve_quince_puzzle(QUIN1,best_first_graph_search,linearQuince)"
   ]
  },
  {
   "cell_type": "code",
   "execution_count": 78,
   "metadata": {},
   "outputs": [
    {
     "ename": "KeyboardInterrupt",
     "evalue": "",
     "output_type": "error",
     "traceback": [
      "\u001b[0;31m---------------------------------------------------------------------------\u001b[0m",
      "\u001b[0;31mKeyboardInterrupt\u001b[0m                         Traceback (most recent call last)",
      "\u001b[0;32m/var/folders/42/k0333_056k56_th3b_jxr8vm0000gn/T/ipykernel_46071/4136192638.py\u001b[0m in \u001b[0;36m<module>\u001b[0;34m\u001b[0m\n\u001b[0;32m----> 1\u001b[0;31m \u001b[0mresuelve_quince_puzzle\u001b[0m\u001b[0;34m(\u001b[0m\u001b[0mQUIN2\u001b[0m\u001b[0;34m,\u001b[0m\u001b[0mbest_first_graph_search\u001b[0m\u001b[0;34m,\u001b[0m\u001b[0mlinearQuince\u001b[0m\u001b[0;34m)\u001b[0m\u001b[0;34m\u001b[0m\u001b[0;34m\u001b[0m\u001b[0m\n\u001b[0m",
      "\u001b[0;32m/var/folders/42/k0333_056k56_th3b_jxr8vm0000gn/T/ipykernel_46071/1722430721.py\u001b[0m in \u001b[0;36mresuelve_quince_puzzle\u001b[0;34m(estado_inicial, algoritmo, h)\u001b[0m\n\u001b[1;32m      4\u001b[0m     \u001b[0;32mif\u001b[0m \u001b[0mpq\u001b[0m\u001b[0;34m.\u001b[0m\u001b[0mcheck_solvability\u001b[0m\u001b[0;34m(\u001b[0m\u001b[0mestado_inicial\u001b[0m\u001b[0;34m)\u001b[0m\u001b[0;34m:\u001b[0m\u001b[0;34m\u001b[0m\u001b[0;34m\u001b[0m\u001b[0m\n\u001b[1;32m      5\u001b[0m         \u001b[0;32mif\u001b[0m \u001b[0mh\u001b[0m\u001b[0;34m:\u001b[0m\u001b[0;34m\u001b[0m\u001b[0;34m\u001b[0m\u001b[0m\n\u001b[0;32m----> 6\u001b[0;31m             \u001b[0msol\u001b[0m\u001b[0;34m=\u001b[0m \u001b[0malgoritmo\u001b[0m\u001b[0;34m(\u001b[0m\u001b[0mpqp\u001b[0m\u001b[0;34m,\u001b[0m\u001b[0mh\u001b[0m\u001b[0;34m)\u001b[0m\u001b[0;34m.\u001b[0m\u001b[0msolution\u001b[0m\u001b[0;34m(\u001b[0m\u001b[0;34m)\u001b[0m\u001b[0;34m\u001b[0m\u001b[0;34m\u001b[0m\u001b[0m\n\u001b[0m\u001b[1;32m      7\u001b[0m         \u001b[0;32melse\u001b[0m\u001b[0;34m:\u001b[0m\u001b[0;34m\u001b[0m\u001b[0;34m\u001b[0m\u001b[0m\n\u001b[1;32m      8\u001b[0m             \u001b[0msol\u001b[0m\u001b[0;34m=\u001b[0m \u001b[0malgoritmo\u001b[0m\u001b[0;34m(\u001b[0m\u001b[0mpqp\u001b[0m\u001b[0;34m)\u001b[0m\u001b[0;34m.\u001b[0m\u001b[0msolution\u001b[0m\u001b[0;34m(\u001b[0m\u001b[0;34m)\u001b[0m\u001b[0;34m\u001b[0m\u001b[0;34m\u001b[0m\u001b[0m\n",
      "\u001b[0;32m~/Desktop/SI/Sesión2.Resolución de problemas con búsqueda (AIMA)-20220217/aima/search.py\u001b[0m in \u001b[0;36mbest_first_graph_search\u001b[0;34m(problem, f, display)\u001b[0m\n\u001b[1;32m    281\u001b[0m             \u001b[0;32mif\u001b[0m \u001b[0mchild\u001b[0m\u001b[0;34m.\u001b[0m\u001b[0mstate\u001b[0m \u001b[0;32mnot\u001b[0m \u001b[0;32min\u001b[0m \u001b[0mexplored\u001b[0m \u001b[0;32mand\u001b[0m \u001b[0mchild\u001b[0m \u001b[0;32mnot\u001b[0m \u001b[0;32min\u001b[0m \u001b[0mfrontier\u001b[0m\u001b[0;34m:\u001b[0m\u001b[0;34m\u001b[0m\u001b[0;34m\u001b[0m\u001b[0m\n\u001b[1;32m    282\u001b[0m                 \u001b[0mfrontier\u001b[0m\u001b[0;34m.\u001b[0m\u001b[0mappend\u001b[0m\u001b[0;34m(\u001b[0m\u001b[0mchild\u001b[0m\u001b[0;34m)\u001b[0m\u001b[0;34m\u001b[0m\u001b[0;34m\u001b[0m\u001b[0m\n\u001b[0;32m--> 283\u001b[0;31m             \u001b[0;32melif\u001b[0m \u001b[0mchild\u001b[0m \u001b[0;32min\u001b[0m \u001b[0mfrontier\u001b[0m\u001b[0;34m:\u001b[0m\u001b[0;34m\u001b[0m\u001b[0;34m\u001b[0m\u001b[0m\n\u001b[0m\u001b[1;32m    284\u001b[0m                 \u001b[0;32mif\u001b[0m \u001b[0mf\u001b[0m\u001b[0;34m(\u001b[0m\u001b[0mchild\u001b[0m\u001b[0;34m)\u001b[0m \u001b[0;34m<\u001b[0m \u001b[0mfrontier\u001b[0m\u001b[0;34m[\u001b[0m\u001b[0mchild\u001b[0m\u001b[0;34m]\u001b[0m\u001b[0;34m:\u001b[0m\u001b[0;34m\u001b[0m\u001b[0;34m\u001b[0m\u001b[0m\n\u001b[1;32m    285\u001b[0m                     \u001b[0;32mdel\u001b[0m \u001b[0mfrontier\u001b[0m\u001b[0;34m[\u001b[0m\u001b[0mchild\u001b[0m\u001b[0;34m]\u001b[0m\u001b[0;34m\u001b[0m\u001b[0;34m\u001b[0m\u001b[0m\n",
      "\u001b[0;32m~/Desktop/SI/Sesión2.Resolución de problemas con búsqueda (AIMA)-20220217/aima/utils.py\u001b[0m in \u001b[0;36m__contains__\u001b[0;34m(self, key)\u001b[0m\n\u001b[1;32m    759\u001b[0m     \u001b[0;32mdef\u001b[0m \u001b[0m__contains__\u001b[0m\u001b[0;34m(\u001b[0m\u001b[0mself\u001b[0m\u001b[0;34m,\u001b[0m \u001b[0mkey\u001b[0m\u001b[0;34m)\u001b[0m\u001b[0;34m:\u001b[0m\u001b[0;34m\u001b[0m\u001b[0;34m\u001b[0m\u001b[0m\n\u001b[1;32m    760\u001b[0m         \u001b[0;34m\"\"\"Return True if the key is in PriorityQueue.\"\"\"\u001b[0m\u001b[0;34m\u001b[0m\u001b[0;34m\u001b[0m\u001b[0m\n\u001b[0;32m--> 761\u001b[0;31m         \u001b[0;32mreturn\u001b[0m \u001b[0many\u001b[0m\u001b[0;34m(\u001b[0m\u001b[0;34m[\u001b[0m\u001b[0mitem\u001b[0m \u001b[0;34m==\u001b[0m \u001b[0mkey\u001b[0m \u001b[0;32mfor\u001b[0m \u001b[0m_\u001b[0m\u001b[0;34m,\u001b[0m \u001b[0mitem\u001b[0m \u001b[0;32min\u001b[0m \u001b[0mself\u001b[0m\u001b[0;34m.\u001b[0m\u001b[0mheap\u001b[0m\u001b[0;34m]\u001b[0m\u001b[0;34m)\u001b[0m\u001b[0;34m\u001b[0m\u001b[0;34m\u001b[0m\u001b[0m\n\u001b[0m\u001b[1;32m    762\u001b[0m \u001b[0;34m\u001b[0m\u001b[0m\n\u001b[1;32m    763\u001b[0m     \u001b[0;32mdef\u001b[0m \u001b[0m__getitem__\u001b[0m\u001b[0;34m(\u001b[0m\u001b[0mself\u001b[0m\u001b[0;34m,\u001b[0m \u001b[0mkey\u001b[0m\u001b[0;34m)\u001b[0m\u001b[0;34m:\u001b[0m\u001b[0;34m\u001b[0m\u001b[0;34m\u001b[0m\u001b[0m\n",
      "\u001b[0;32m~/Desktop/SI/Sesión2.Resolución de problemas con búsqueda (AIMA)-20220217/aima/utils.py\u001b[0m in \u001b[0;36m<listcomp>\u001b[0;34m(.0)\u001b[0m\n\u001b[1;32m    759\u001b[0m     \u001b[0;32mdef\u001b[0m \u001b[0m__contains__\u001b[0m\u001b[0;34m(\u001b[0m\u001b[0mself\u001b[0m\u001b[0;34m,\u001b[0m \u001b[0mkey\u001b[0m\u001b[0;34m)\u001b[0m\u001b[0;34m:\u001b[0m\u001b[0;34m\u001b[0m\u001b[0;34m\u001b[0m\u001b[0m\n\u001b[1;32m    760\u001b[0m         \u001b[0;34m\"\"\"Return True if the key is in PriorityQueue.\"\"\"\u001b[0m\u001b[0;34m\u001b[0m\u001b[0;34m\u001b[0m\u001b[0m\n\u001b[0;32m--> 761\u001b[0;31m         \u001b[0;32mreturn\u001b[0m \u001b[0many\u001b[0m\u001b[0;34m(\u001b[0m\u001b[0;34m[\u001b[0m\u001b[0mitem\u001b[0m \u001b[0;34m==\u001b[0m \u001b[0mkey\u001b[0m \u001b[0;32mfor\u001b[0m \u001b[0m_\u001b[0m\u001b[0;34m,\u001b[0m \u001b[0mitem\u001b[0m \u001b[0;32min\u001b[0m \u001b[0mself\u001b[0m\u001b[0;34m.\u001b[0m\u001b[0mheap\u001b[0m\u001b[0;34m]\u001b[0m\u001b[0;34m)\u001b[0m\u001b[0;34m\u001b[0m\u001b[0;34m\u001b[0m\u001b[0m\n\u001b[0m\u001b[1;32m    762\u001b[0m \u001b[0;34m\u001b[0m\u001b[0m\n\u001b[1;32m    763\u001b[0m     \u001b[0;32mdef\u001b[0m \u001b[0m__getitem__\u001b[0m\u001b[0;34m(\u001b[0m\u001b[0mself\u001b[0m\u001b[0;34m,\u001b[0m \u001b[0mkey\u001b[0m\u001b[0;34m)\u001b[0m\u001b[0;34m:\u001b[0m\u001b[0;34m\u001b[0m\u001b[0;34m\u001b[0m\u001b[0m\n",
      "\u001b[0;32m~/Desktop/SI/Sesión2.Resolución de problemas con búsqueda (AIMA)-20220217/aima/search.py\u001b[0m in \u001b[0;36m__eq__\u001b[0;34m(self, other)\u001b[0m\n\u001b[1;32m    121\u001b[0m \u001b[0;34m\u001b[0m\u001b[0m\n\u001b[1;32m    122\u001b[0m     \u001b[0;32mdef\u001b[0m \u001b[0m__eq__\u001b[0m\u001b[0;34m(\u001b[0m\u001b[0mself\u001b[0m\u001b[0;34m,\u001b[0m \u001b[0mother\u001b[0m\u001b[0;34m)\u001b[0m\u001b[0;34m:\u001b[0m\u001b[0;34m\u001b[0m\u001b[0;34m\u001b[0m\u001b[0m\n\u001b[0;32m--> 123\u001b[0;31m         \u001b[0;32mreturn\u001b[0m \u001b[0misinstance\u001b[0m\u001b[0;34m(\u001b[0m\u001b[0mother\u001b[0m\u001b[0;34m,\u001b[0m \u001b[0mNode\u001b[0m\u001b[0;34m)\u001b[0m \u001b[0;32mand\u001b[0m \u001b[0mself\u001b[0m\u001b[0;34m.\u001b[0m\u001b[0mstate\u001b[0m \u001b[0;34m==\u001b[0m \u001b[0mother\u001b[0m\u001b[0;34m.\u001b[0m\u001b[0mstate\u001b[0m\u001b[0;34m\u001b[0m\u001b[0;34m\u001b[0m\u001b[0m\n\u001b[0m\u001b[1;32m    124\u001b[0m \u001b[0;34m\u001b[0m\u001b[0m\n\u001b[1;32m    125\u001b[0m     \u001b[0;32mdef\u001b[0m \u001b[0m__hash__\u001b[0m\u001b[0;34m(\u001b[0m\u001b[0mself\u001b[0m\u001b[0;34m)\u001b[0m\u001b[0;34m:\u001b[0m\u001b[0;34m\u001b[0m\u001b[0;34m\u001b[0m\u001b[0m\n",
      "\u001b[0;31mKeyboardInterrupt\u001b[0m: "
     ]
    }
   ],
   "source": [
    "resuelve_quince_puzzle(QUIN2,best_first_graph_search,linearQuince)"
   ]
  },
  {
   "cell_type": "code",
   "execution_count": 71,
   "metadata": {},
   "outputs": [
    {
     "ename": "KeyboardInterrupt",
     "evalue": "",
     "output_type": "error",
     "traceback": [
      "\u001b[0;31m---------------------------------------------------------------------------\u001b[0m",
      "\u001b[0;31mKeyboardInterrupt\u001b[0m                         Traceback (most recent call last)",
      "\u001b[0;32m/var/folders/42/k0333_056k56_th3b_jxr8vm0000gn/T/ipykernel_46071/3851909391.py\u001b[0m in \u001b[0;36m<module>\u001b[0;34m\u001b[0m\n\u001b[0;32m----> 1\u001b[0;31m \u001b[0mresuelve_quince_puzzle\u001b[0m\u001b[0;34m(\u001b[0m\u001b[0mQUIN1\u001b[0m\u001b[0;34m,\u001b[0m\u001b[0mbest_first_graph_search\u001b[0m\u001b[0;34m,\u001b[0m\u001b[0mmanhattanQuince\u001b[0m\u001b[0;34m)\u001b[0m\u001b[0;34m\u001b[0m\u001b[0;34m\u001b[0m\u001b[0m\n\u001b[0m",
      "\u001b[0;32m/var/folders/42/k0333_056k56_th3b_jxr8vm0000gn/T/ipykernel_46071/1722430721.py\u001b[0m in \u001b[0;36mresuelve_quince_puzzle\u001b[0;34m(estado_inicial, algoritmo, h)\u001b[0m\n\u001b[1;32m      4\u001b[0m     \u001b[0;32mif\u001b[0m \u001b[0mpq\u001b[0m\u001b[0;34m.\u001b[0m\u001b[0mcheck_solvability\u001b[0m\u001b[0;34m(\u001b[0m\u001b[0mestado_inicial\u001b[0m\u001b[0;34m)\u001b[0m\u001b[0;34m:\u001b[0m\u001b[0;34m\u001b[0m\u001b[0;34m\u001b[0m\u001b[0m\n\u001b[1;32m      5\u001b[0m         \u001b[0;32mif\u001b[0m \u001b[0mh\u001b[0m\u001b[0;34m:\u001b[0m\u001b[0;34m\u001b[0m\u001b[0;34m\u001b[0m\u001b[0m\n\u001b[0;32m----> 6\u001b[0;31m             \u001b[0msol\u001b[0m\u001b[0;34m=\u001b[0m \u001b[0malgoritmo\u001b[0m\u001b[0;34m(\u001b[0m\u001b[0mpqp\u001b[0m\u001b[0;34m,\u001b[0m\u001b[0mh\u001b[0m\u001b[0;34m)\u001b[0m\u001b[0;34m.\u001b[0m\u001b[0msolution\u001b[0m\u001b[0;34m(\u001b[0m\u001b[0;34m)\u001b[0m\u001b[0;34m\u001b[0m\u001b[0;34m\u001b[0m\u001b[0m\n\u001b[0m\u001b[1;32m      7\u001b[0m         \u001b[0;32melse\u001b[0m\u001b[0;34m:\u001b[0m\u001b[0;34m\u001b[0m\u001b[0;34m\u001b[0m\u001b[0m\n\u001b[1;32m      8\u001b[0m             \u001b[0msol\u001b[0m\u001b[0;34m=\u001b[0m \u001b[0malgoritmo\u001b[0m\u001b[0;34m(\u001b[0m\u001b[0mpqp\u001b[0m\u001b[0;34m)\u001b[0m\u001b[0;34m.\u001b[0m\u001b[0msolution\u001b[0m\u001b[0;34m(\u001b[0m\u001b[0;34m)\u001b[0m\u001b[0;34m\u001b[0m\u001b[0;34m\u001b[0m\u001b[0m\n",
      "\u001b[0;32m~/Desktop/SI/Sesión2.Resolución de problemas con búsqueda (AIMA)-20220217/aima/search.py\u001b[0m in \u001b[0;36mbest_first_graph_search\u001b[0;34m(problem, f, display)\u001b[0m\n\u001b[1;32m    281\u001b[0m             \u001b[0;32mif\u001b[0m \u001b[0mchild\u001b[0m\u001b[0;34m.\u001b[0m\u001b[0mstate\u001b[0m \u001b[0;32mnot\u001b[0m \u001b[0;32min\u001b[0m \u001b[0mexplored\u001b[0m \u001b[0;32mand\u001b[0m \u001b[0mchild\u001b[0m \u001b[0;32mnot\u001b[0m \u001b[0;32min\u001b[0m \u001b[0mfrontier\u001b[0m\u001b[0;34m:\u001b[0m\u001b[0;34m\u001b[0m\u001b[0;34m\u001b[0m\u001b[0m\n\u001b[1;32m    282\u001b[0m                 \u001b[0mfrontier\u001b[0m\u001b[0;34m.\u001b[0m\u001b[0mappend\u001b[0m\u001b[0;34m(\u001b[0m\u001b[0mchild\u001b[0m\u001b[0;34m)\u001b[0m\u001b[0;34m\u001b[0m\u001b[0;34m\u001b[0m\u001b[0m\n\u001b[0;32m--> 283\u001b[0;31m             \u001b[0;32melif\u001b[0m \u001b[0mchild\u001b[0m \u001b[0;32min\u001b[0m \u001b[0mfrontier\u001b[0m\u001b[0;34m:\u001b[0m\u001b[0;34m\u001b[0m\u001b[0;34m\u001b[0m\u001b[0m\n\u001b[0m\u001b[1;32m    284\u001b[0m                 \u001b[0;32mif\u001b[0m \u001b[0mf\u001b[0m\u001b[0;34m(\u001b[0m\u001b[0mchild\u001b[0m\u001b[0;34m)\u001b[0m \u001b[0;34m<\u001b[0m \u001b[0mfrontier\u001b[0m\u001b[0;34m[\u001b[0m\u001b[0mchild\u001b[0m\u001b[0;34m]\u001b[0m\u001b[0;34m:\u001b[0m\u001b[0;34m\u001b[0m\u001b[0;34m\u001b[0m\u001b[0m\n\u001b[1;32m    285\u001b[0m                     \u001b[0;32mdel\u001b[0m \u001b[0mfrontier\u001b[0m\u001b[0;34m[\u001b[0m\u001b[0mchild\u001b[0m\u001b[0;34m]\u001b[0m\u001b[0;34m\u001b[0m\u001b[0;34m\u001b[0m\u001b[0m\n",
      "\u001b[0;32m~/Desktop/SI/Sesión2.Resolución de problemas con búsqueda (AIMA)-20220217/aima/utils.py\u001b[0m in \u001b[0;36m__contains__\u001b[0;34m(self, key)\u001b[0m\n\u001b[1;32m    759\u001b[0m     \u001b[0;32mdef\u001b[0m \u001b[0m__contains__\u001b[0m\u001b[0;34m(\u001b[0m\u001b[0mself\u001b[0m\u001b[0;34m,\u001b[0m \u001b[0mkey\u001b[0m\u001b[0;34m)\u001b[0m\u001b[0;34m:\u001b[0m\u001b[0;34m\u001b[0m\u001b[0;34m\u001b[0m\u001b[0m\n\u001b[1;32m    760\u001b[0m         \u001b[0;34m\"\"\"Return True if the key is in PriorityQueue.\"\"\"\u001b[0m\u001b[0;34m\u001b[0m\u001b[0;34m\u001b[0m\u001b[0m\n\u001b[0;32m--> 761\u001b[0;31m         \u001b[0;32mreturn\u001b[0m \u001b[0many\u001b[0m\u001b[0;34m(\u001b[0m\u001b[0;34m[\u001b[0m\u001b[0mitem\u001b[0m \u001b[0;34m==\u001b[0m \u001b[0mkey\u001b[0m \u001b[0;32mfor\u001b[0m \u001b[0m_\u001b[0m\u001b[0;34m,\u001b[0m \u001b[0mitem\u001b[0m \u001b[0;32min\u001b[0m \u001b[0mself\u001b[0m\u001b[0;34m.\u001b[0m\u001b[0mheap\u001b[0m\u001b[0;34m]\u001b[0m\u001b[0;34m)\u001b[0m\u001b[0;34m\u001b[0m\u001b[0;34m\u001b[0m\u001b[0m\n\u001b[0m\u001b[1;32m    762\u001b[0m \u001b[0;34m\u001b[0m\u001b[0m\n\u001b[1;32m    763\u001b[0m     \u001b[0;32mdef\u001b[0m \u001b[0m__getitem__\u001b[0m\u001b[0;34m(\u001b[0m\u001b[0mself\u001b[0m\u001b[0;34m,\u001b[0m \u001b[0mkey\u001b[0m\u001b[0;34m)\u001b[0m\u001b[0;34m:\u001b[0m\u001b[0;34m\u001b[0m\u001b[0;34m\u001b[0m\u001b[0m\n",
      "\u001b[0;32m~/Desktop/SI/Sesión2.Resolución de problemas con búsqueda (AIMA)-20220217/aima/utils.py\u001b[0m in \u001b[0;36m<listcomp>\u001b[0;34m(.0)\u001b[0m\n\u001b[1;32m    759\u001b[0m     \u001b[0;32mdef\u001b[0m \u001b[0m__contains__\u001b[0m\u001b[0;34m(\u001b[0m\u001b[0mself\u001b[0m\u001b[0;34m,\u001b[0m \u001b[0mkey\u001b[0m\u001b[0;34m)\u001b[0m\u001b[0;34m:\u001b[0m\u001b[0;34m\u001b[0m\u001b[0;34m\u001b[0m\u001b[0m\n\u001b[1;32m    760\u001b[0m         \u001b[0;34m\"\"\"Return True if the key is in PriorityQueue.\"\"\"\u001b[0m\u001b[0;34m\u001b[0m\u001b[0;34m\u001b[0m\u001b[0m\n\u001b[0;32m--> 761\u001b[0;31m         \u001b[0;32mreturn\u001b[0m \u001b[0many\u001b[0m\u001b[0;34m(\u001b[0m\u001b[0;34m[\u001b[0m\u001b[0mitem\u001b[0m \u001b[0;34m==\u001b[0m \u001b[0mkey\u001b[0m \u001b[0;32mfor\u001b[0m \u001b[0m_\u001b[0m\u001b[0;34m,\u001b[0m \u001b[0mitem\u001b[0m \u001b[0;32min\u001b[0m \u001b[0mself\u001b[0m\u001b[0;34m.\u001b[0m\u001b[0mheap\u001b[0m\u001b[0;34m]\u001b[0m\u001b[0;34m)\u001b[0m\u001b[0;34m\u001b[0m\u001b[0;34m\u001b[0m\u001b[0m\n\u001b[0m\u001b[1;32m    762\u001b[0m \u001b[0;34m\u001b[0m\u001b[0m\n\u001b[1;32m    763\u001b[0m     \u001b[0;32mdef\u001b[0m \u001b[0m__getitem__\u001b[0m\u001b[0;34m(\u001b[0m\u001b[0mself\u001b[0m\u001b[0;34m,\u001b[0m \u001b[0mkey\u001b[0m\u001b[0;34m)\u001b[0m\u001b[0;34m:\u001b[0m\u001b[0;34m\u001b[0m\u001b[0;34m\u001b[0m\u001b[0m\n",
      "\u001b[0;31mKeyboardInterrupt\u001b[0m: "
     ]
    }
   ],
   "source": [
    "resuelve_quince_puzzle(QUIN1,best_first_graph_search,manhattanQuince)"
   ]
  },
  {
   "cell_type": "code",
   "execution_count": 75,
   "metadata": {},
   "outputs": [
    {
     "ename": "KeyboardInterrupt",
     "evalue": "",
     "output_type": "error",
     "traceback": [
      "\u001b[0;31m---------------------------------------------------------------------------\u001b[0m",
      "\u001b[0;31mKeyboardInterrupt\u001b[0m                         Traceback (most recent call last)",
      "\u001b[0;32m/var/folders/42/k0333_056k56_th3b_jxr8vm0000gn/T/ipykernel_46071/4257251130.py\u001b[0m in \u001b[0;36m<module>\u001b[0;34m\u001b[0m\n\u001b[0;32m----> 1\u001b[0;31m \u001b[0mresuelve_quince_puzzle\u001b[0m\u001b[0;34m(\u001b[0m\u001b[0mQUIN1\u001b[0m\u001b[0;34m,\u001b[0m\u001b[0muniform_cost_search\u001b[0m\u001b[0;34m)\u001b[0m\u001b[0;34m\u001b[0m\u001b[0;34m\u001b[0m\u001b[0m\n\u001b[0m",
      "\u001b[0;32m/var/folders/42/k0333_056k56_th3b_jxr8vm0000gn/T/ipykernel_46071/1722430721.py\u001b[0m in \u001b[0;36mresuelve_quince_puzzle\u001b[0;34m(estado_inicial, algoritmo, h)\u001b[0m\n\u001b[1;32m      6\u001b[0m             \u001b[0msol\u001b[0m\u001b[0;34m=\u001b[0m \u001b[0malgoritmo\u001b[0m\u001b[0;34m(\u001b[0m\u001b[0mpqp\u001b[0m\u001b[0;34m,\u001b[0m\u001b[0mh\u001b[0m\u001b[0;34m)\u001b[0m\u001b[0;34m.\u001b[0m\u001b[0msolution\u001b[0m\u001b[0;34m(\u001b[0m\u001b[0;34m)\u001b[0m\u001b[0;34m\u001b[0m\u001b[0;34m\u001b[0m\u001b[0m\n\u001b[1;32m      7\u001b[0m         \u001b[0;32melse\u001b[0m\u001b[0;34m:\u001b[0m\u001b[0;34m\u001b[0m\u001b[0;34m\u001b[0m\u001b[0m\n\u001b[0;32m----> 8\u001b[0;31m             \u001b[0msol\u001b[0m\u001b[0;34m=\u001b[0m \u001b[0malgoritmo\u001b[0m\u001b[0;34m(\u001b[0m\u001b[0mpqp\u001b[0m\u001b[0;34m)\u001b[0m\u001b[0;34m.\u001b[0m\u001b[0msolution\u001b[0m\u001b[0;34m(\u001b[0m\u001b[0;34m)\u001b[0m\u001b[0;34m\u001b[0m\u001b[0;34m\u001b[0m\u001b[0m\n\u001b[0m\u001b[1;32m      9\u001b[0m         \u001b[0mprint\u001b[0m\u001b[0;34m(\u001b[0m\u001b[0;34m\"Solución: {0}\"\u001b[0m\u001b[0;34m.\u001b[0m\u001b[0mformat\u001b[0m\u001b[0;34m(\u001b[0m\u001b[0msol\u001b[0m\u001b[0;34m)\u001b[0m\u001b[0;34m)\u001b[0m\u001b[0;34m\u001b[0m\u001b[0;34m\u001b[0m\u001b[0m\n\u001b[1;32m     10\u001b[0m         \u001b[0mprint\u001b[0m\u001b[0;34m(\u001b[0m\u001b[0;34m\"Algoritmo: {0}\"\u001b[0m\u001b[0;34m.\u001b[0m\u001b[0mformat\u001b[0m\u001b[0;34m(\u001b[0m\u001b[0malgoritmo\u001b[0m\u001b[0;34m.\u001b[0m\u001b[0m__name__\u001b[0m\u001b[0;34m)\u001b[0m\u001b[0;34m)\u001b[0m\u001b[0;34m\u001b[0m\u001b[0;34m\u001b[0m\u001b[0m\n",
      "\u001b[0;32m~/Desktop/SI/Sesión2.Resolución de problemas con búsqueda (AIMA)-20220217/aima/search.py\u001b[0m in \u001b[0;36muniform_cost_search\u001b[0;34m(problem, display)\u001b[0m\n\u001b[1;32m    290\u001b[0m \u001b[0;32mdef\u001b[0m \u001b[0muniform_cost_search\u001b[0m\u001b[0;34m(\u001b[0m\u001b[0mproblem\u001b[0m\u001b[0;34m,\u001b[0m \u001b[0mdisplay\u001b[0m\u001b[0;34m=\u001b[0m\u001b[0;32mFalse\u001b[0m\u001b[0;34m)\u001b[0m\u001b[0;34m:\u001b[0m\u001b[0;34m\u001b[0m\u001b[0;34m\u001b[0m\u001b[0m\n\u001b[1;32m    291\u001b[0m     \u001b[0;34m\"\"\"[Figure 3.14]\"\"\"\u001b[0m\u001b[0;34m\u001b[0m\u001b[0;34m\u001b[0m\u001b[0m\n\u001b[0;32m--> 292\u001b[0;31m     \u001b[0;32mreturn\u001b[0m \u001b[0mbest_first_graph_search\u001b[0m\u001b[0;34m(\u001b[0m\u001b[0mproblem\u001b[0m\u001b[0;34m,\u001b[0m \u001b[0;32mlambda\u001b[0m \u001b[0mnode\u001b[0m\u001b[0;34m:\u001b[0m \u001b[0mnode\u001b[0m\u001b[0;34m.\u001b[0m\u001b[0mpath_cost\u001b[0m\u001b[0;34m,\u001b[0m \u001b[0mdisplay\u001b[0m\u001b[0;34m)\u001b[0m\u001b[0;34m\u001b[0m\u001b[0;34m\u001b[0m\u001b[0m\n\u001b[0m\u001b[1;32m    293\u001b[0m \u001b[0;34m\u001b[0m\u001b[0m\n\u001b[1;32m    294\u001b[0m \u001b[0;34m\u001b[0m\u001b[0m\n",
      "\u001b[0;32m~/Desktop/SI/Sesión2.Resolución de problemas con búsqueda (AIMA)-20220217/aima/search.py\u001b[0m in \u001b[0;36mbest_first_graph_search\u001b[0;34m(problem, f, display)\u001b[0m\n\u001b[1;32m    279\u001b[0m         \u001b[0mexplored\u001b[0m\u001b[0;34m.\u001b[0m\u001b[0madd\u001b[0m\u001b[0;34m(\u001b[0m\u001b[0mnode\u001b[0m\u001b[0;34m.\u001b[0m\u001b[0mstate\u001b[0m\u001b[0;34m)\u001b[0m\u001b[0;34m\u001b[0m\u001b[0;34m\u001b[0m\u001b[0m\n\u001b[1;32m    280\u001b[0m         \u001b[0;32mfor\u001b[0m \u001b[0mchild\u001b[0m \u001b[0;32min\u001b[0m \u001b[0mnode\u001b[0m\u001b[0;34m.\u001b[0m\u001b[0mexpand\u001b[0m\u001b[0;34m(\u001b[0m\u001b[0mproblem\u001b[0m\u001b[0;34m)\u001b[0m\u001b[0;34m:\u001b[0m\u001b[0;34m\u001b[0m\u001b[0;34m\u001b[0m\u001b[0m\n\u001b[0;32m--> 281\u001b[0;31m             \u001b[0;32mif\u001b[0m \u001b[0mchild\u001b[0m\u001b[0;34m.\u001b[0m\u001b[0mstate\u001b[0m \u001b[0;32mnot\u001b[0m \u001b[0;32min\u001b[0m \u001b[0mexplored\u001b[0m \u001b[0;32mand\u001b[0m \u001b[0mchild\u001b[0m \u001b[0;32mnot\u001b[0m \u001b[0;32min\u001b[0m \u001b[0mfrontier\u001b[0m\u001b[0;34m:\u001b[0m\u001b[0;34m\u001b[0m\u001b[0;34m\u001b[0m\u001b[0m\n\u001b[0m\u001b[1;32m    282\u001b[0m                 \u001b[0mfrontier\u001b[0m\u001b[0;34m.\u001b[0m\u001b[0mappend\u001b[0m\u001b[0;34m(\u001b[0m\u001b[0mchild\u001b[0m\u001b[0;34m)\u001b[0m\u001b[0;34m\u001b[0m\u001b[0;34m\u001b[0m\u001b[0m\n\u001b[1;32m    283\u001b[0m             \u001b[0;32melif\u001b[0m \u001b[0mchild\u001b[0m \u001b[0;32min\u001b[0m \u001b[0mfrontier\u001b[0m\u001b[0;34m:\u001b[0m\u001b[0;34m\u001b[0m\u001b[0;34m\u001b[0m\u001b[0m\n",
      "\u001b[0;32m~/Desktop/SI/Sesión2.Resolución de problemas con búsqueda (AIMA)-20220217/aima/utils.py\u001b[0m in \u001b[0;36m__contains__\u001b[0;34m(self, key)\u001b[0m\n\u001b[1;32m    759\u001b[0m     \u001b[0;32mdef\u001b[0m \u001b[0m__contains__\u001b[0m\u001b[0;34m(\u001b[0m\u001b[0mself\u001b[0m\u001b[0;34m,\u001b[0m \u001b[0mkey\u001b[0m\u001b[0;34m)\u001b[0m\u001b[0;34m:\u001b[0m\u001b[0;34m\u001b[0m\u001b[0;34m\u001b[0m\u001b[0m\n\u001b[1;32m    760\u001b[0m         \u001b[0;34m\"\"\"Return True if the key is in PriorityQueue.\"\"\"\u001b[0m\u001b[0;34m\u001b[0m\u001b[0;34m\u001b[0m\u001b[0m\n\u001b[0;32m--> 761\u001b[0;31m         \u001b[0;32mreturn\u001b[0m \u001b[0many\u001b[0m\u001b[0;34m(\u001b[0m\u001b[0;34m[\u001b[0m\u001b[0mitem\u001b[0m \u001b[0;34m==\u001b[0m \u001b[0mkey\u001b[0m \u001b[0;32mfor\u001b[0m \u001b[0m_\u001b[0m\u001b[0;34m,\u001b[0m \u001b[0mitem\u001b[0m \u001b[0;32min\u001b[0m \u001b[0mself\u001b[0m\u001b[0;34m.\u001b[0m\u001b[0mheap\u001b[0m\u001b[0;34m]\u001b[0m\u001b[0;34m)\u001b[0m\u001b[0;34m\u001b[0m\u001b[0;34m\u001b[0m\u001b[0m\n\u001b[0m\u001b[1;32m    762\u001b[0m \u001b[0;34m\u001b[0m\u001b[0m\n\u001b[1;32m    763\u001b[0m     \u001b[0;32mdef\u001b[0m \u001b[0m__getitem__\u001b[0m\u001b[0;34m(\u001b[0m\u001b[0mself\u001b[0m\u001b[0;34m,\u001b[0m \u001b[0mkey\u001b[0m\u001b[0;34m)\u001b[0m\u001b[0;34m:\u001b[0m\u001b[0;34m\u001b[0m\u001b[0;34m\u001b[0m\u001b[0m\n",
      "\u001b[0;32m~/Desktop/SI/Sesión2.Resolución de problemas con búsqueda (AIMA)-20220217/aima/utils.py\u001b[0m in \u001b[0;36m<listcomp>\u001b[0;34m(.0)\u001b[0m\n\u001b[1;32m    759\u001b[0m     \u001b[0;32mdef\u001b[0m \u001b[0m__contains__\u001b[0m\u001b[0;34m(\u001b[0m\u001b[0mself\u001b[0m\u001b[0;34m,\u001b[0m \u001b[0mkey\u001b[0m\u001b[0;34m)\u001b[0m\u001b[0;34m:\u001b[0m\u001b[0;34m\u001b[0m\u001b[0;34m\u001b[0m\u001b[0m\n\u001b[1;32m    760\u001b[0m         \u001b[0;34m\"\"\"Return True if the key is in PriorityQueue.\"\"\"\u001b[0m\u001b[0;34m\u001b[0m\u001b[0;34m\u001b[0m\u001b[0m\n\u001b[0;32m--> 761\u001b[0;31m         \u001b[0;32mreturn\u001b[0m \u001b[0many\u001b[0m\u001b[0;34m(\u001b[0m\u001b[0;34m[\u001b[0m\u001b[0mitem\u001b[0m \u001b[0;34m==\u001b[0m \u001b[0mkey\u001b[0m \u001b[0;32mfor\u001b[0m \u001b[0m_\u001b[0m\u001b[0;34m,\u001b[0m \u001b[0mitem\u001b[0m \u001b[0;32min\u001b[0m \u001b[0mself\u001b[0m\u001b[0;34m.\u001b[0m\u001b[0mheap\u001b[0m\u001b[0;34m]\u001b[0m\u001b[0;34m)\u001b[0m\u001b[0;34m\u001b[0m\u001b[0;34m\u001b[0m\u001b[0m\n\u001b[0m\u001b[1;32m    762\u001b[0m \u001b[0;34m\u001b[0m\u001b[0m\n\u001b[1;32m    763\u001b[0m     \u001b[0;32mdef\u001b[0m \u001b[0m__getitem__\u001b[0m\u001b[0;34m(\u001b[0m\u001b[0mself\u001b[0m\u001b[0;34m,\u001b[0m \u001b[0mkey\u001b[0m\u001b[0;34m)\u001b[0m\u001b[0;34m:\u001b[0m\u001b[0;34m\u001b[0m\u001b[0;34m\u001b[0m\u001b[0m\n",
      "\u001b[0;31mKeyboardInterrupt\u001b[0m: "
     ]
    }
   ],
   "source": [
    "resuelve_quince_puzzle(QUIN1,uniform_cost_search)"
   ]
  },
  {
   "cell_type": "code",
   "execution_count": null,
   "metadata": {},
   "outputs": [],
   "source": []
  },
  {
   "cell_type": "markdown",
   "metadata": {},
   "source": [
    "### Ejercicio 7:  resolver usando distintas búsquedas y/o heurísticas, el problema del 16 puzzle para algunos  estados iniciales:\n",
    "QUIN1 = (1,2,3,4,0,6,7,8,9,5,10,11,12,13,14,15)\n",
    "QUIN2 = (15,3,2,4,5,1,10,14,9,11,7,0,13,8,12,6)\n",
    "\n",
    " \n",
    "-----------------------------------------------------------------------------------------\n",
    "                                       QUIN1            QUIN2                          \n",
    "    Anchura                            L=               L=                               \n",
    "                                       T=               T=                               \n",
    "                                       NA=              NA=                           \n",
    "   \n",
    "    Profundidad                        L=               L=                             \n",
    "                                       T=               T=                              \n",
    "                                       NA=              NA=                             \n",
    "                                       \n",
    "    Coste Uniforme                     L=               L=                               \n",
    "                                       T=               T=                                \n",
    "                                       NA=              NA=                            \n",
    "                                       \n",
    "    Primero el mejor (linear)          L= 61            L=                               \n",
    "                                       T= 1.0s          T=                                \n",
    "                                       NA= 538          NA=                              \n",
    "\n",
    "    Primero el mejor (manhattan)       L=               L=                               \n",
    "                                       T=               T=                                \n",
    "                                       NA=              NA=                              \n",
    "                                                                             \n",
    "    A* (linear)                        L=               L=                                \n",
    "                                       T=               T=                                \n",
    "                                       NA=              NA=                              \n",
    "                                                                             \n",
    "    A* (manhattan)                     L=               L=                                \n",
    "                                       T=               T=                                \n",
    "                                       NA=              NA=                             \n",
    "\n",
    "\n",
    " -----------------------------------------------------------------------------------------\n",
    "\n",
    "Escribe aquí tus conclusiones sobre los resultados y la eficiencia de las distintas opciones. \n",
    "No puedo comentar mucho, ya que el tiempo de procesamiento de cada función heurística y algoritmos toman mucho tiempo, como se advirtió. Utilizando Primero el Mejor con Linear en el estado de inicio mas simple, se obtubo un resultado inmediato. Por otro lado, los demás casos toman un tiempo de procesamiento mayor a 25 minutos, lo que se atribuye a varios factores: \n",
    "\n",
    "1) Esencialmente se han duplicado el monto de posiciones disponibles al igual que el posicionamiento (ya no es 3x3, sino 4x4), por lo que tiene que analizar muchos mas nodos, caminos, y coste que antes (lo que ya tomaba mucho tiempo). \n",
    "\n",
    "2) Debido a que hay un monto de \"estados\" mas frecuente, es mas fácil que los algoritmos que no toman en consecuencia el control de repetidos caigan en un camino infinito.\n",
    "\n",
    "4) Utilizando la heurística Manhattan, esta debe ahora considerar muchos mas valores/posiciones que antes, al igual que calcular el trayecto/coste de cada uno a su posición deseada dentro de un esquema mucho mas amplio, por lo que puede haber inconsitencias. Esto, combinado con lo ya mencionado de los algoritmos, hace que la resolución de los estados no parezca \"óptima\" al momento de compararlo con el Puzzle de 8, sin embargo disponiendo de un computador con un mejor nivel de procesamiento y disponer de minimo 30 minutos en adelante para cada uno, se podría llegar a los estados deseados. \n"
   ]
  },
  {
   "cell_type": "markdown",
   "metadata": {},
   "source": [
    "###  PARTE IV:  Se os proporcionará un enunciado de algún problema para representar y resolver usando el paradigma del espacio de estados. \n"
   ]
  },
  {
   "cell_type": "markdown",
   "metadata": {},
   "source": [
    "a) Pude definir:\n",
    "\n",
    "    Altura Maxima = 3\n",
    "    Numero de Muelles = 2\n",
    "    Numero de Pilas = 3 x Muelle\n",
    "        > (1,2,3,4,5,6)\n",
    "    Numero de Contenedores = 11\n",
    "        > (\"C01 \",\"C02 \",\"C03 \",\"C04 \",\"C05 \",\"C06 \",\"C07 \",\"C08 \",\"C09 \",\"C10\",\"C11\")\n",
    "\n",
    "    Objetivo: Dejar los Contenedores Objetivos en el Muelle 1\n",
    "\n",
    "    Acciones:\n",
    "        > Se supone que hay dos gruas que mueven los contenedores ya sea entre sus propias pilas o los ponen en una cinta para que la contigua los acomode en las suyas. Al momento de escribir el código, tanto la prescencia de las gruas como de el tipo de cinta son negligibles; solo se necesita el nombre del contenedor, a donde va, y si fue por cinta, ya que dentro de la implementación se define a que muelle pertenecen\n",
    "\n",
    "        1) \"Mover Ci a Pila j\"\n",
    "        2) \"Mover Ci a Pila j por Cinta\"\n",
    "\n",
    "        > Y, acorde a las reglas establecidas, sólo se necesitarán 2 operadores:\n",
    "    \n",
    "        1) moverObjetivo()\n",
    "        2) moverNoObjetivo()\n",
    "\n",
    "    Estados:\n",
    "        > Decidí declarar los estados como una tupla de tuplas (muelles) de tuplas (pilas), de forma que si se quiere insertar otro muelle en el futuro, es mas fácil de realizar. Sin embargo, tuve que considerar que una pila puede tener espacios, ya que puede tener 1 o 2 contenedores solamente. Por esto, decidí incluir espacios en blanco [''] para representar estos\n",
    "\n",
    "        > Los estados son:\n",
    "\n",
    "        Estado Inicial Propuesto = (( (\"C07\", \"C01\", \"\"),(\"C10\", \"C09\", \"\"),(\"C11\",\"\",\"\") ),( (\"C08\", \"C04\", \"\"),(\"C02\", \"C03\", \"C05\"),(\"C06\",\"\",\"\") ))\n",
    "        Estado Final Propuesto   = (( (\"C01\", \"C02\", \"C03\"),(\"C04\", \"C05\", \"\"),(\"C06\",\"\",\"\") ),(// No importa, ya que nos enfocámos en el Muelle 1))\n",
    "\n",
    "\n",
    "    Heurística/Coste:\n",
    "        >Decidí optar por un coste para cada acción de acuerdo a su naturaleza:\n",
    "\n",
    "        1) \"Mover Ci a Pila j\" => Tiene un coste de 1   [Ya que levanta y acomoda en sus propias pilas]\n",
    "        1) \"Mover Ci a Pila j por Cinta\" => Tiene un coste de 2     [Ya que una grua tiene que levantar de una pila y soltar en la cinta, mientras que otra la recoge de esta y la acomoda en una de sus pilas]\n",
    "\n",
    "\n",
    "\n",
    "\n",
    "b) Algoritmos vistos en Clase:\n",
    "\n",
    "    Búsqueda Ciega:\n",
    "        > Para una búsqueda ciega, utilizaría los de Coste Uniforme y Profundidad Iterativa\n",
    "\n",
    "            1) Coste Uniforme: este sería mi primera opción porque en un principio trata de llegar a cada estado en el menor coste posible, y a pesar de que no tiene control de repetidos, en este caso vale la pena tomar el riesgo ya que es posible que un estado se vuelva a presentar mientras se acomodan de nuevo, pero tomando en cuenta de que en total hay 18 posiciones diferentes (3 pilas con un límite de 3 contenedores) y solo hay 11 contenedores, es menos probable que un estado repetido aparezca frecuentemente.\n",
    "\n",
    "            2) Profundidad Iterativa: sería mi segunda opción, ya que el espacio de estados es grande y hay muchas posibilidades de posicionar los contenedores, sería factible chequear cada posible chequear los mejores estados tanto en profundidad como en anchura. De nuevo, como mencioné anteriormente, el control de repetidos no tiene que ser tan estricto o existente.\n",
    "\n",
    "    Búsqueda Heurística:\n",
    "        > Para la búsqueda heurística, utilizaría los A* (con Manhattan) y Primero el Mejor (también con Manhattan)\n",
    "\n",
    "            1) A*(Manhattan): Este sería mi primera opción ya que estima el coste mínimo utilizando la distancia Manhattan, la cual me parece mejor usar que la lineal considerando de que en el contexto del problema, las gruas tienen que \"mover\" los contenedores, por lo que el calcular cuanto le tomaría a uno llegar a su posición ideal prueba ser más acertado que solo contar las mal colocadas (ademas que solo vamos a tomar en cuenta un solo muelle).\n",
    "\n",
    "            2) Primero el Mejor(Manhattan): Este sería mi segunda opción porque considerando que se tienen que acomodar varios contenedores, sería mas óptimo irse por el que parezca \"mejor\" a los demás y así no perder tiempo analizando todos los nodos disponibles. \n",
    "    "
   ]
  },
  {
   "cell_type": "code",
   "execution_count": 220,
   "metadata": {},
   "outputs": [],
   "source": [
    "\n",
    "class Puerto(Problem):\n",
    "\n",
    "    global PHeight\n",
    "    global Containers\n",
    "    global Piles\n",
    "    global D1Piles\n",
    "    global D2Piles\n",
    "    global Objectives\n",
    "    global DockNum\n",
    "    global PileNum\n",
    "\n",
    "    def __init__(self, initial, goal=((\"C01\",\"C02\",\"C03\"),(\"C04\",\"C05\",''),(\"C06\",'','')) ):\n",
    "        self.goal = goal\n",
    "        self.PHeight = 3 \n",
    "        self.Containers = (\"C01\",\"C02\",\"C03\",\"C04\",\"C05\",\"C06\",\"C07\",\"C08\",\"C09\",\"C10\",\"C11\")\n",
    "        self.Piles = (1,2,3,4,5,6)\n",
    "        self.D1Piles=(1,2,3)\n",
    "        self.D2Piles=(4,5,6)\n",
    "        self.Objectives = []\n",
    "        self.DockNum = 2\n",
    "        self.PileNum = 3\n",
    " \n",
    "        for pila in goal:\n",
    "            for i in range(self.PHeight):\n",
    "                if pila[i] != '':\n",
    "                    self.Objectives.append(pila[i])\n",
    "        Problem.__init__(self, initial, goal)\n",
    "\n",
    "    \n",
    "    def espacioEnPila(self, estado, numPila):\n",
    "        for dock in estado:\n",
    "            for pila in dock:\n",
    "                if dock.index(pila) != numPila:\n",
    "                    if '' in pila:\n",
    "                        return [estado.index(dock), dock.index(pila)]\n",
    "        return False\n",
    "                        \n",
    "    def espacioEnPilaNoObj(self, estado, numPila):\n",
    "        for dock in estado:\n",
    "            for pila in dock:\n",
    "                if dock.index(pila) != numPila:\n",
    "                    if '' in pila:\n",
    "                        if pila[0] not in self.Objectives and pila[1] not in self.Objectives:\n",
    "                            return [estado.index(dock), dock.index(pila)]\n",
    "        return False\n",
    "\n",
    "\n",
    "    def moverObjetivo(self, estado, contenedor, index, dockOfPila, numPila):\n",
    "        for pila in self.goal:\n",
    "            for c in pila:\n",
    "                if c == contenedor and c != '':\n",
    "                    if pila.index(c) != index:\n",
    "                        avail = self.espacioEnPila(estado, numPila)\n",
    "                        if avail:\n",
    "                            if avail[0] == dockOfPila:\n",
    "                                pila = avail[1] + 1\n",
    "                                return \"Mover \" + str(contenedor) + \" a Pila \" + str(pila)\n",
    "                            else:\n",
    "                                pila = avail[1] + 4\n",
    "                                return \"Mover \" + str(contenedor) + \" a Pila \" + str(pila) + \"por Cinta\"\n",
    "        return False\n",
    "\n",
    "    def moverNoObjetivo(self, estado, contenedor, dockOfPila, numPila):\n",
    "        avail = self.espacioEnPilaNoObj(estado, numPila)\n",
    "        if avail:\n",
    "            if avail[0] == dockOfPila:\n",
    "                pila = avail[1] + 1\n",
    "                return \"Mover \" + str(contenedor) + \" a Pila \" + str(pila)\n",
    "            else:\n",
    "                pila = avail[1] + 4\n",
    "                return \"Mover \" + str(contenedor) + \" a Pila \" + str(pila) + \" por Cinta\"\n",
    "        else:\n",
    "            return False\n",
    "\n",
    "\n",
    "    def actions(self,estado):\n",
    "        accs=list()\n",
    "        for dock in estado:\n",
    "            for pila in dock:\n",
    "                if pila[0] != '':\n",
    "                    pl = list(pila)\n",
    "                    contenedor = pl.pop()\n",
    "                    while pl:\n",
    "                        numPila = dock.index(pila)\n",
    "                        dockOfPila = estado.index(dock)\n",
    "                        if contenedor in self.Objectives:\n",
    "                            indexOfCont = pila.index(contenedor)\n",
    "                            action = self.moverObjetivo(estado, contenedor, indexOfCont, dockOfPila, numPila)\n",
    "                            if action:\n",
    "                                accs.append(action)\n",
    "                                return accs\n",
    "                        elif contenedor != '':\n",
    "                            action = self.moverNoObjetivo(estado, contenedor, dockOfPila, numPila)\n",
    "                            if action:\n",
    "                                accs.append(action)\n",
    "                                return accs\n",
    "                        contenedor = pl.pop()\n",
    "        return []\n",
    "\n",
    "\n",
    "    def takeAwayContainer(self, dock, pile, c, state):\n",
    "        i = 0\n",
    "        for x in range(self.PHeight-1,-1,-1):\n",
    "            if state[dock][pile][x] == c:\n",
    "                i = x\n",
    "                break\n",
    "        con = state[dock][pile][i]\n",
    "        state[dock][pile] = state[dock][pile][:i]+ [''] + state[dock][pile][i+1:]\n",
    "        return con\n",
    "\n",
    "    def getContainer(self,c, state):\n",
    "        for dock in state:\n",
    "            for pila in dock:\n",
    "                if c in pila:\n",
    "                    return self.takeAwayContainer(state.index(dock),dock.index(pila),c,state)\n",
    "\n",
    "    def accommodateContainer(self, dock, pile, c, state):\n",
    "        i = self.PHeight\n",
    "        for x in range(self.PHeight-1,-1,-1):\n",
    "            if state[dock][pile][x] == '':\n",
    "                i = i - 1\n",
    "        state[dock][pile] = state[dock][pile][:i]+ [c] + state[dock][pile][i+1:]\n",
    "\n",
    "\n",
    "    def placeContainer(self, c, state, p):\n",
    "        dockChosen = -1\n",
    "        pileChosen = -1\n",
    "        if p in self.D1Piles:\n",
    "            dockChosen = 0\n",
    "            pileChosen = p-1\n",
    "        elif p in self.D2Piles:\n",
    "            dockChosen = 1\n",
    "            pileChosen = p-4\n",
    "        if pileChosen != -1 and dockChosen != -1:\n",
    "            self.accommodateContainer(dockChosen,pileChosen,c,state)\n",
    "\n",
    "    def initList(self,estado):\n",
    "        l = []        \n",
    "        for i in range(self.DockNum):\n",
    "            l.append([])\n",
    "            for j in range(self.PileNum):\n",
    "                l[i].append(list(estado[i][j]))\n",
    "        return l\n",
    "    \n",
    "    def listToTuple(self, estado):\n",
    "        t = []\n",
    "        for i in range(self.DockNum):\n",
    "            auxT = []\n",
    "            for j in range(self.PileNum):\n",
    "                auxT.append(tuple(estado[i][j]))\n",
    "            t.append(tuple(auxT))\n",
    "        return tuple(t)\n",
    "\n",
    "    def result(self,estado,accion):\n",
    "\n",
    "        l = self.initList(estado)\n",
    "        c = accion[6:9]\n",
    "        p = int(accion[17:19].rstrip())\n",
    "\n",
    "        if c in self.Containers and p in self.Piles:\n",
    "            cont = self.getContainer(c, l)\n",
    "            self.placeContainer(cont, l, p)\n",
    "        t = self.listToTuple(l)\n",
    "        return t\n",
    "    \n",
    "    def check_solvability(self, state):\n",
    "        \"\"\" Checks if the given state is solvable \"\"\"\n",
    "        # The solvability of a configuration can be checked by calculating the Inversion Permutation. \n",
    "        #If the total Inversion Permutation is even then the initial configuration is solvable else the initial configuration is not solvable which means that only 9!/2 initial states lead to a solution.\n",
    "        inversion = 0\n",
    "        for i in range(len(state)):\n",
    "            for j in range(i+1, len(state)):\n",
    "                if (state[i] > state[j]) and state[i] != 0 and state[j]!= 0:\n",
    "                    inversion += 1\n",
    "        return inversion % 2 == 0 \n",
    "\n",
    "    def coste_de_aplicar_accion(self, estado, accion):\n",
    "        if \"Mover\" and \"a Pila\" in accion:\n",
    "            if \"por Cinta\" in accion:\n",
    "                return 2\n",
    "            return 1"
   ]
  },
  {
   "cell_type": "code",
   "execution_count": 221,
   "metadata": {},
   "outputs": [],
   "source": [
    "#Manhattan Muelle\n",
    "def manhattanDock(node):\n",
    "    cost = 0\n",
    "    mhd =0\n",
    "    state = node.state\n",
    "    goal = ((\"C01\",\"C02\",\"C03\"),(\"C04\",\"C05\",''),(\"C06\",'',''))\n",
    "    DockNum = 2\n",
    "    PileNum = 3\n",
    "    PHeight = 3\n",
    "\n",
    "    for pile in goal:\n",
    "        for container in pile:\n",
    "            cost=0\n",
    "            x=0\n",
    "            found = False\n",
    "            while x < DockNum and not found:\n",
    "                y=0\n",
    "                while y < PileNum and not found:\n",
    "                    w = 0\n",
    "                    while w < PHeight and not found:\n",
    "                        if container != state[x][y][w]:\n",
    "                            cost+=1\n",
    "                            w+=1\n",
    "                        else:\n",
    "                            found = True\n",
    "                    if not found:\n",
    "                        y+=1\n",
    "                if not found:\n",
    "                    x+=1\n",
    "            mhd+=cost\n",
    "    return mhd"
   ]
  },
  {
   "cell_type": "code",
   "execution_count": 211,
   "metadata": {},
   "outputs": [],
   "source": [
    "Initial = ( ((\"C07\",\"C01\",\"\") , (\"C10\",\"C09\",\"\") , (\"C11\",\"\",\"\")) , ((\"C08\",\"C04\",\"\") , (\"C02\",\"C03\",\"C05\") , (\"C06\",\"\",\"\")) )"
   ]
  },
  {
   "cell_type": "code",
   "execution_count": 194,
   "metadata": {},
   "outputs": [
    {
     "data": {
      "text/plain": [
       "((('C07', 'C01', ''), ('C10', 'C09', ''), ('C11', '', '')),\n",
       " (('C08', 'C04', ''), ('C02', 'C03', 'C05'), ('C06', '', '')))"
      ]
     },
     "execution_count": 194,
     "metadata": {},
     "output_type": "execute_result"
    }
   ],
   "source": [
    "Initial"
   ]
  },
  {
   "cell_type": "markdown",
   "metadata": {},
   "source": [
    "#Cambié brevemente la definición del node de manhattanDock para que simplemente pasase el estado inicial tal cual come venía. Al terminar los cálculos, el coste fue de 71"
   ]
  },
  {
   "cell_type": "code",
   "execution_count": 60,
   "metadata": {},
   "outputs": [],
   "source": [
    "def resuelve_puerto(estado_inicial, algoritmo, h=None):\n",
    "\n",
    "    pu=Puerto(estado_inicial)\n",
    "    pup=Problema_con_Analizados(pu)\n",
    "    if pu.check_solvability(estado_inicial):\n",
    "        if h: \n",
    "            sol= algoritmo(pup,h).solution()\n",
    "        else: \n",
    "            sol= algoritmo(pup).solution()\n",
    "        print(\"Solución: {0}\".format(sol))\n",
    "        print(\"Algoritmo: {0}\".format(algoritmo.__name__))\n",
    "        if h: \n",
    "            print(\"Heurística: {0}\".format(h.__name__))\n",
    "        else:\n",
    "            pass\n",
    "        print(\"Longitud de la solución: {0}. Nodos analizados: {1}\".format(len(sol),pup.analizados))\n",
    "    else: \n",
    "        print(\"Este problema no tiene solucion. \")"
   ]
  },
  {
   "cell_type": "code",
   "execution_count": 222,
   "metadata": {},
   "outputs": [
    {
     "data": {
      "text/plain": [
       "((('C07', 'C01', ''), ('C10', 'C09', ''), ('C11', '', '')),\n",
       " (('C08', 'C04', ''), ('C02', 'C03', 'C05'), ('C06', '', '')))"
      ]
     },
     "execution_count": 222,
     "metadata": {},
     "output_type": "execute_result"
    }
   ],
   "source": [
    "m = Puerto(Initial)\n",
    "m.initial"
   ]
  },
  {
   "cell_type": "code",
   "execution_count": 223,
   "metadata": {},
   "outputs": [
    {
     "data": {
      "text/plain": [
       "['Mover C01 a Pila 2']"
      ]
     },
     "execution_count": 223,
     "metadata": {},
     "output_type": "execute_result"
    }
   ],
   "source": [
    "act = m.actions(m.initial)\n",
    "act"
   ]
  },
  {
   "cell_type": "code",
   "execution_count": 224,
   "metadata": {},
   "outputs": [
    {
     "name": "stdout",
     "output_type": "stream",
     "text": [
      "((('C07', 'C01', ''), ('C10', 'C09', ''), ('C11', '', '')), (('C08', 'C04', ''), ('C02', 'C03', 'C05'), ('C06', '', '')))\n",
      "[[['C07', 'C01', ''], ['C10', 'C09', ''], ['C11', '', '']], [['C08', 'C04', ''], ['C02', 'C03', 'C05'], ['C06', '', '']]]\n",
      "C01\n",
      "[[['C07', '', ''], ['C10', 'C09', ''], ['C11', '', '']], [['C08', 'C04', ''], ['C02', 'C03', 'C05'], ['C06', '', '']]]\n",
      "[[['C07', '', ''], ['C10', 'C09', 'C01'], ['C11', '', '']], [['C08', 'C04', ''], ['C02', 'C03', 'C05'], ['C06', '', '']]]\n",
      "((('C07', '', ''), ('C10', 'C09', 'C01'), ('C11', '', '')), (('C08', 'C04', ''), ('C02', 'C03', 'C05'), ('C06', '', '')))\n"
     ]
    }
   ],
   "source": [
    "\n",
    "print(m.initial)\n",
    "lm = m.initList(Initial)\n",
    "print(lm)\n",
    "con = m.getContainer(\"C01\", lm)\n",
    "print(con)\n",
    "print(lm)\n",
    "m.placeContainer(con, lm, 2)\n",
    "print(lm)\n",
    "t = m.listToTuple(lm)\n",
    "print(t)\n"
   ]
  },
  {
   "cell_type": "code",
   "execution_count": 225,
   "metadata": {},
   "outputs": [
    {
     "name": "stdout",
     "output_type": "stream",
     "text": [
      "((('C07', '', ''), ('C10', 'C09', 'C01'), ('C11', '', '')), (('C08', 'C04', ''), ('C02', 'C03', 'C05'), ('C06', '', '')))\n"
     ]
    }
   ],
   "source": [
    "tp = m.result(m.initial, 'Mover C01 a Pila 2')\n",
    "print(tp)"
   ]
  },
  {
   "cell_type": "code",
   "execution_count": 226,
   "metadata": {},
   "outputs": [
    {
     "name": "stdout",
     "output_type": "stream",
     "text": [
      "((('C07', '', ''), ('C10', 'C09', 'C01'), ('C11', '', '')), (('C08', 'C04', ''), ('C02', 'C03', 'C05'), ('C06', '', '')))\n"
     ]
    }
   ],
   "source": [
    "print(m.result(m.initial,\"Mover C01 a Pila 2\"))"
   ]
  },
  {
   "cell_type": "markdown",
   "metadata": {},
   "source": [
    "No comprendo el error obtenido (abajo), ya que se refiere a un NoneType que no tiene atributos. Sin embargo, de nuevo, puedo inferir que la búsqueda A* con Manhattan tendría mejores resultados mas no mas \"rápidos\" que el coste uniforme. Considerando que, el coste de manhattan de el estado inicial debería de amontonar a 71, y que el espacio de estados es muy variado considerando que activamente se deben de reoorganizar los contenedores de tal forma que se llegue al estado final lo más optimamente posible, el A* permite efectuar esto al mismo tiempo que tener la propiedad de \"abandonar\" los caminos que no parecen favorables y optar por el mejor. Por lo que, este se ajusta mejor al momento de sacar las diferentes combinaciones, igualmente considerando que el espacio de estados puede incrementar si otro muelle es añadido o si la altura maxima de cada pila es incrementada."
   ]
  },
  {
   "cell_type": "code",
   "execution_count": 228,
   "metadata": {},
   "outputs": [
    {
     "ename": "AttributeError",
     "evalue": "'NoneType' object has no attribute 'solution'",
     "output_type": "error",
     "traceback": [
      "\u001b[0;31m---------------------------------------------------------------------------\u001b[0m",
      "\u001b[0;31mAttributeError\u001b[0m                            Traceback (most recent call last)",
      "\u001b[0;32m/var/folders/42/k0333_056k56_th3b_jxr8vm0000gn/T/ipykernel_32572/3155487451.py\u001b[0m in \u001b[0;36m<module>\u001b[0;34m\u001b[0m\n\u001b[1;32m      1\u001b[0m \u001b[0;31m#Heurística\u001b[0m\u001b[0;34m\u001b[0m\u001b[0;34m\u001b[0m\u001b[0m\n\u001b[0;32m----> 2\u001b[0;31m \u001b[0mresuelve_puerto\u001b[0m\u001b[0;34m(\u001b[0m\u001b[0mInitial\u001b[0m\u001b[0;34m,\u001b[0m\u001b[0mastar_search\u001b[0m\u001b[0;34m,\u001b[0m\u001b[0mmanhattanDock\u001b[0m\u001b[0;34m)\u001b[0m\u001b[0;34m\u001b[0m\u001b[0;34m\u001b[0m\u001b[0m\n\u001b[0m",
      "\u001b[0;32m/var/folders/42/k0333_056k56_th3b_jxr8vm0000gn/T/ipykernel_32572/2752458959.py\u001b[0m in \u001b[0;36mresuelve_puerto\u001b[0;34m(estado_inicial, algoritmo, h)\u001b[0m\n\u001b[1;32m      5\u001b[0m     \u001b[0;32mif\u001b[0m \u001b[0mpu\u001b[0m\u001b[0;34m.\u001b[0m\u001b[0mcheck_solvability\u001b[0m\u001b[0;34m(\u001b[0m\u001b[0mestado_inicial\u001b[0m\u001b[0;34m)\u001b[0m\u001b[0;34m:\u001b[0m\u001b[0;34m\u001b[0m\u001b[0;34m\u001b[0m\u001b[0m\n\u001b[1;32m      6\u001b[0m         \u001b[0;32mif\u001b[0m \u001b[0mh\u001b[0m\u001b[0;34m:\u001b[0m\u001b[0;34m\u001b[0m\u001b[0;34m\u001b[0m\u001b[0m\n\u001b[0;32m----> 7\u001b[0;31m             \u001b[0msol\u001b[0m\u001b[0;34m=\u001b[0m \u001b[0malgoritmo\u001b[0m\u001b[0;34m(\u001b[0m\u001b[0mpup\u001b[0m\u001b[0;34m,\u001b[0m\u001b[0mh\u001b[0m\u001b[0;34m)\u001b[0m\u001b[0;34m.\u001b[0m\u001b[0msolution\u001b[0m\u001b[0;34m(\u001b[0m\u001b[0;34m)\u001b[0m\u001b[0;34m\u001b[0m\u001b[0;34m\u001b[0m\u001b[0m\n\u001b[0m\u001b[1;32m      8\u001b[0m         \u001b[0;32melse\u001b[0m\u001b[0;34m:\u001b[0m\u001b[0;34m\u001b[0m\u001b[0;34m\u001b[0m\u001b[0m\n\u001b[1;32m      9\u001b[0m             \u001b[0msol\u001b[0m\u001b[0;34m=\u001b[0m \u001b[0malgoritmo\u001b[0m\u001b[0;34m(\u001b[0m\u001b[0mpup\u001b[0m\u001b[0;34m)\u001b[0m\u001b[0;34m.\u001b[0m\u001b[0msolution\u001b[0m\u001b[0;34m(\u001b[0m\u001b[0;34m)\u001b[0m\u001b[0;34m\u001b[0m\u001b[0;34m\u001b[0m\u001b[0m\n",
      "\u001b[0;31mAttributeError\u001b[0m: 'NoneType' object has no attribute 'solution'"
     ]
    }
   ],
   "source": [
    "\n",
    "#Heurística\n",
    "resuelve_puerto(Initial,astar_search,manhattanDock)"
   ]
  },
  {
   "cell_type": "code",
   "execution_count": 230,
   "metadata": {},
   "outputs": [
    {
     "ename": "AttributeError",
     "evalue": "'NoneType' object has no attribute 'solution'",
     "output_type": "error",
     "traceback": [
      "\u001b[0;31m---------------------------------------------------------------------------\u001b[0m",
      "\u001b[0;31mAttributeError\u001b[0m                            Traceback (most recent call last)",
      "\u001b[0;32m/var/folders/42/k0333_056k56_th3b_jxr8vm0000gn/T/ipykernel_32572/1353095199.py\u001b[0m in \u001b[0;36m<module>\u001b[0;34m\u001b[0m\n\u001b[0;32m----> 1\u001b[0;31m \u001b[0mresuelve_puerto\u001b[0m\u001b[0;34m(\u001b[0m\u001b[0mInitial\u001b[0m\u001b[0;34m,\u001b[0m\u001b[0muniform_cost_search\u001b[0m\u001b[0;34m)\u001b[0m\u001b[0;34m\u001b[0m\u001b[0;34m\u001b[0m\u001b[0m\n\u001b[0m",
      "\u001b[0;32m/var/folders/42/k0333_056k56_th3b_jxr8vm0000gn/T/ipykernel_32572/2752458959.py\u001b[0m in \u001b[0;36mresuelve_puerto\u001b[0;34m(estado_inicial, algoritmo, h)\u001b[0m\n\u001b[1;32m      7\u001b[0m             \u001b[0msol\u001b[0m\u001b[0;34m=\u001b[0m \u001b[0malgoritmo\u001b[0m\u001b[0;34m(\u001b[0m\u001b[0mpup\u001b[0m\u001b[0;34m,\u001b[0m\u001b[0mh\u001b[0m\u001b[0;34m)\u001b[0m\u001b[0;34m.\u001b[0m\u001b[0msolution\u001b[0m\u001b[0;34m(\u001b[0m\u001b[0;34m)\u001b[0m\u001b[0;34m\u001b[0m\u001b[0;34m\u001b[0m\u001b[0m\n\u001b[1;32m      8\u001b[0m         \u001b[0;32melse\u001b[0m\u001b[0;34m:\u001b[0m\u001b[0;34m\u001b[0m\u001b[0;34m\u001b[0m\u001b[0m\n\u001b[0;32m----> 9\u001b[0;31m             \u001b[0msol\u001b[0m\u001b[0;34m=\u001b[0m \u001b[0malgoritmo\u001b[0m\u001b[0;34m(\u001b[0m\u001b[0mpup\u001b[0m\u001b[0;34m)\u001b[0m\u001b[0;34m.\u001b[0m\u001b[0msolution\u001b[0m\u001b[0;34m(\u001b[0m\u001b[0;34m)\u001b[0m\u001b[0;34m\u001b[0m\u001b[0;34m\u001b[0m\u001b[0m\n\u001b[0m\u001b[1;32m     10\u001b[0m         \u001b[0mprint\u001b[0m\u001b[0;34m(\u001b[0m\u001b[0;34m\"Solución: {0}\"\u001b[0m\u001b[0;34m.\u001b[0m\u001b[0mformat\u001b[0m\u001b[0;34m(\u001b[0m\u001b[0msol\u001b[0m\u001b[0;34m)\u001b[0m\u001b[0;34m)\u001b[0m\u001b[0;34m\u001b[0m\u001b[0;34m\u001b[0m\u001b[0m\n\u001b[1;32m     11\u001b[0m         \u001b[0mprint\u001b[0m\u001b[0;34m(\u001b[0m\u001b[0;34m\"Algoritmo: {0}\"\u001b[0m\u001b[0;34m.\u001b[0m\u001b[0mformat\u001b[0m\u001b[0;34m(\u001b[0m\u001b[0malgoritmo\u001b[0m\u001b[0;34m.\u001b[0m\u001b[0m__name__\u001b[0m\u001b[0;34m)\u001b[0m\u001b[0;34m)\u001b[0m\u001b[0;34m\u001b[0m\u001b[0;34m\u001b[0m\u001b[0m\n",
      "\u001b[0;31mAttributeError\u001b[0m: 'NoneType' object has no attribute 'solution'"
     ]
    }
   ],
   "source": [
    "resuelve_puerto(Initial,uniform_cost_search)"
   ]
  },
  {
   "cell_type": "code",
   "execution_count": 231,
   "metadata": {},
   "outputs": [
    {
     "ename": "AttributeError",
     "evalue": "'NoneType' object has no attribute 'solution'",
     "output_type": "error",
     "traceback": [
      "\u001b[0;31m---------------------------------------------------------------------------\u001b[0m",
      "\u001b[0;31mAttributeError\u001b[0m                            Traceback (most recent call last)",
      "\u001b[0;32m/var/folders/42/k0333_056k56_th3b_jxr8vm0000gn/T/ipykernel_32572/3692634288.py\u001b[0m in \u001b[0;36m<module>\u001b[0;34m\u001b[0m\n\u001b[0;32m----> 1\u001b[0;31m \u001b[0mastar_search\u001b[0m\u001b[0;34m(\u001b[0m\u001b[0mPuerto\u001b[0m\u001b[0;34m(\u001b[0m\u001b[0mInitial\u001b[0m\u001b[0;34m)\u001b[0m\u001b[0;34m,\u001b[0m \u001b[0mmanhattanDock\u001b[0m\u001b[0;34m)\u001b[0m\u001b[0;34m.\u001b[0m\u001b[0msolution\u001b[0m\u001b[0;34m(\u001b[0m\u001b[0;34m)\u001b[0m\u001b[0;34m\u001b[0m\u001b[0;34m\u001b[0m\u001b[0m\n\u001b[0m",
      "\u001b[0;31mAttributeError\u001b[0m: 'NoneType' object has no attribute 'solution'"
     ]
    }
   ],
   "source": [
    "astar_search(Puerto(Initial), manhattanDock).solution()"
   ]
  }
 ],
 "metadata": {
  "kernelspec": {
   "display_name": "Python 3",
   "language": "python",
   "name": "python3"
  },
  "language_info": {
   "codemirror_mode": {
    "name": "ipython",
    "version": 3
   },
   "file_extension": ".py",
   "mimetype": "text/x-python",
   "name": "python",
   "nbconvert_exporter": "python",
   "pygments_lexer": "ipython3",
   "version": "3.9.7"
  }
 },
 "nbformat": 4,
 "nbformat_minor": 2
}
